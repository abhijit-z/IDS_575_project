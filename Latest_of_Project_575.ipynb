{
  "nbformat": 4,
  "nbformat_minor": 0,
  "metadata": {
    "colab": {
      "name": "Latest of Project_575.ipynb",
      "provenance": [],
      "collapsed_sections": [
        "KY5rvit3iEOv",
        "En0TStqsYpGf",
        "YID7eapiSrjC",
        "lRDggBvQ3gmG"
      ],
      "include_colab_link": true
    },
    "kernelspec": {
      "display_name": "Python 3",
      "name": "python3"
    },
    "accelerator": "GPU"
  },
  "cells": [
    {
      "cell_type": "markdown",
      "metadata": {
        "id": "view-in-github",
        "colab_type": "text"
      },
      "source": [
        "<a href=\"https://colab.research.google.com/github/abhijit-z/575_project/blob/main/Latest_of_Project_575.ipynb\" target=\"_parent\"><img src=\"https://colab.research.google.com/assets/colab-badge.svg\" alt=\"Open In Colab\"/></a>"
      ]
    },
    {
      "cell_type": "markdown",
      "metadata": {
        "id": "IHYohUuOgxxU"
      },
      "source": [
        "#Project 575 "
      ]
    },
    {
      "cell_type": "markdown",
      "metadata": {
        "id": "_WRQM28pQrI1"
      },
      "source": [
        "Group 3\n",
        "Project members:\n",
        "- Abhijit A Zarekar\n",
        "- Ashourina Somo\n",
        "- Leticia Garcia\n"
      ]
    },
    {
      "cell_type": "markdown",
      "metadata": {
        "id": "wGEJnzothKxV"
      },
      "source": [
        "The link that we're using to download the data \n",
        "https://archive.ics.uci.edu/ml/datasets/Diabetes+130-US+hospitals+for+years+1999-2008"
      ]
    },
    {
      "cell_type": "markdown",
      "metadata": {
        "id": "nrY-TIQ_3F67"
      },
      "source": [
        "##Objectives/Main Goals "
      ]
    },
    {
      "cell_type": "markdown",
      "metadata": {
        "id": "EhFG5AoA3VGy"
      },
      "source": [
        "The current database that was used for our project was a large clinical database that was undertaken to examine patterns of diabetes care in patients with diabetes admitted to US hospital from 1999 to 2008. "
      ]
    },
    {
      "cell_type": "markdown",
      "metadata": {
        "id": "xL2qMLXv9QrY"
      },
      "source": [
        "- Reducing 30 day readmissions of patients with diabetes has the potential to reduce healthcare costs "
      ]
    },
    {
      "cell_type": "markdown",
      "metadata": {
        "id": "o605u1fUhRKg"
      },
      "source": [
        "## Data Preparation "
      ]
    },
    {
      "cell_type": "markdown",
      "metadata": {
        "id": "KY5rvit3iEOv"
      },
      "source": [
        "###Importing all the libraries that we need for this project "
      ]
    },
    {
      "cell_type": "code",
      "metadata": {
        "colab": {
          "base_uri": "https://localhost:8080/"
        },
        "id": "4OX4oUiLiPXd",
        "outputId": "f237e6dc-3a81-478e-991f-b75d881550ef"
      },
      "source": [
        "#Upload the diabetes.csv to your drive to access the file on google colab \n",
        "from google.colab import drive\n",
        "drive.mount('/content/drive')"
      ],
      "execution_count": null,
      "outputs": [
        {
          "output_type": "stream",
          "text": [
            "Mounted at /content/drive\n"
          ],
          "name": "stdout"
        }
      ]
    },
    {
      "cell_type": "code",
      "metadata": {
        "id": "emaxK3CK24A0"
      },
      "source": [
        "#All the libraries we're going to need for the project\n",
        "import pandas as pd\n",
        "import numpy as np\n",
        "import collections\n",
        "from tqdm import tqdm\n",
        "from scipy import stats\n",
        "import seaborn as sns\n",
        "import matplotlib.pyplot as plt\n",
        "#!pip install scipy"
      ],
      "execution_count": null,
      "outputs": []
    },
    {
      "cell_type": "code",
      "metadata": {
        "id": "61OpW8EKgaZN"
      },
      "source": [
        "#Loading the data \n",
        "# diabetes is our dataframe\n",
        "diabetes = pd.read_csv('/content/drive/MyDrive/diabetic_data.csv')"
      ],
      "execution_count": null,
      "outputs": []
    },
    {
      "cell_type": "code",
      "metadata": {
        "colab": {
          "base_uri": "https://localhost:8080/"
        },
        "id": "xMYXZr9NPH6t",
        "outputId": "ff778868-68cc-4ab9-9437-2cf65f3d8685"
      },
      "source": [
        "# Size of our dataset: 50 columns and 101766 rows\n",
        "print(diabetes.shape)"
      ],
      "execution_count": null,
      "outputs": [
        {
          "output_type": "stream",
          "text": [
            "(101766, 50)\n"
          ],
          "name": "stdout"
        }
      ]
    },
    {
      "cell_type": "code",
      "metadata": {
        "colab": {
          "base_uri": "https://localhost:8080/",
          "height": 316
        },
        "id": "7fDwwWMbvwed",
        "outputId": "d7e612f1-7403-4603-db72-b7a4cf33100c"
      },
      "source": [
        "# viewing 1st 5 observations\n",
        "diabetes.head()\n"
      ],
      "execution_count": null,
      "outputs": [
        {
          "output_type": "execute_result",
          "data": {
            "text/html": [
              "<div>\n",
              "<style scoped>\n",
              "    .dataframe tbody tr th:only-of-type {\n",
              "        vertical-align: middle;\n",
              "    }\n",
              "\n",
              "    .dataframe tbody tr th {\n",
              "        vertical-align: top;\n",
              "    }\n",
              "\n",
              "    .dataframe thead th {\n",
              "        text-align: right;\n",
              "    }\n",
              "</style>\n",
              "<table border=\"1\" class=\"dataframe\">\n",
              "  <thead>\n",
              "    <tr style=\"text-align: right;\">\n",
              "      <th></th>\n",
              "      <th>encounter_id</th>\n",
              "      <th>patient_nbr</th>\n",
              "      <th>race</th>\n",
              "      <th>gender</th>\n",
              "      <th>age</th>\n",
              "      <th>weight</th>\n",
              "      <th>admission_type_id</th>\n",
              "      <th>discharge_disposition_id</th>\n",
              "      <th>admission_source_id</th>\n",
              "      <th>time_in_hospital</th>\n",
              "      <th>payer_code</th>\n",
              "      <th>medical_specialty</th>\n",
              "      <th>num_lab_procedures</th>\n",
              "      <th>num_procedures</th>\n",
              "      <th>num_medications</th>\n",
              "      <th>number_outpatient</th>\n",
              "      <th>number_emergency</th>\n",
              "      <th>number_inpatient</th>\n",
              "      <th>diag_1</th>\n",
              "      <th>diag_2</th>\n",
              "      <th>diag_3</th>\n",
              "      <th>number_diagnoses</th>\n",
              "      <th>max_glu_serum</th>\n",
              "      <th>A1Cresult</th>\n",
              "      <th>metformin</th>\n",
              "      <th>repaglinide</th>\n",
              "      <th>nateglinide</th>\n",
              "      <th>chlorpropamide</th>\n",
              "      <th>glimepiride</th>\n",
              "      <th>acetohexamide</th>\n",
              "      <th>glipizide</th>\n",
              "      <th>glyburide</th>\n",
              "      <th>tolbutamide</th>\n",
              "      <th>pioglitazone</th>\n",
              "      <th>rosiglitazone</th>\n",
              "      <th>acarbose</th>\n",
              "      <th>miglitol</th>\n",
              "      <th>troglitazone</th>\n",
              "      <th>tolazamide</th>\n",
              "      <th>examide</th>\n",
              "      <th>citoglipton</th>\n",
              "      <th>insulin</th>\n",
              "      <th>glyburide-metformin</th>\n",
              "      <th>glipizide-metformin</th>\n",
              "      <th>glimepiride-pioglitazone</th>\n",
              "      <th>metformin-rosiglitazone</th>\n",
              "      <th>metformin-pioglitazone</th>\n",
              "      <th>change</th>\n",
              "      <th>diabetesMed</th>\n",
              "      <th>readmitted</th>\n",
              "    </tr>\n",
              "  </thead>\n",
              "  <tbody>\n",
              "    <tr>\n",
              "      <th>0</th>\n",
              "      <td>2278392</td>\n",
              "      <td>8222157</td>\n",
              "      <td>Caucasian</td>\n",
              "      <td>Female</td>\n",
              "      <td>[0-10)</td>\n",
              "      <td>?</td>\n",
              "      <td>6</td>\n",
              "      <td>25</td>\n",
              "      <td>1</td>\n",
              "      <td>1</td>\n",
              "      <td>?</td>\n",
              "      <td>Pediatrics-Endocrinology</td>\n",
              "      <td>41</td>\n",
              "      <td>0</td>\n",
              "      <td>1</td>\n",
              "      <td>0</td>\n",
              "      <td>0</td>\n",
              "      <td>0</td>\n",
              "      <td>250.83</td>\n",
              "      <td>?</td>\n",
              "      <td>?</td>\n",
              "      <td>1</td>\n",
              "      <td>None</td>\n",
              "      <td>None</td>\n",
              "      <td>No</td>\n",
              "      <td>No</td>\n",
              "      <td>No</td>\n",
              "      <td>No</td>\n",
              "      <td>No</td>\n",
              "      <td>No</td>\n",
              "      <td>No</td>\n",
              "      <td>No</td>\n",
              "      <td>No</td>\n",
              "      <td>No</td>\n",
              "      <td>No</td>\n",
              "      <td>No</td>\n",
              "      <td>No</td>\n",
              "      <td>No</td>\n",
              "      <td>No</td>\n",
              "      <td>No</td>\n",
              "      <td>No</td>\n",
              "      <td>No</td>\n",
              "      <td>No</td>\n",
              "      <td>No</td>\n",
              "      <td>No</td>\n",
              "      <td>No</td>\n",
              "      <td>No</td>\n",
              "      <td>No</td>\n",
              "      <td>No</td>\n",
              "      <td>NO</td>\n",
              "    </tr>\n",
              "    <tr>\n",
              "      <th>1</th>\n",
              "      <td>149190</td>\n",
              "      <td>55629189</td>\n",
              "      <td>Caucasian</td>\n",
              "      <td>Female</td>\n",
              "      <td>[10-20)</td>\n",
              "      <td>?</td>\n",
              "      <td>1</td>\n",
              "      <td>1</td>\n",
              "      <td>7</td>\n",
              "      <td>3</td>\n",
              "      <td>?</td>\n",
              "      <td>?</td>\n",
              "      <td>59</td>\n",
              "      <td>0</td>\n",
              "      <td>18</td>\n",
              "      <td>0</td>\n",
              "      <td>0</td>\n",
              "      <td>0</td>\n",
              "      <td>276</td>\n",
              "      <td>250.01</td>\n",
              "      <td>255</td>\n",
              "      <td>9</td>\n",
              "      <td>None</td>\n",
              "      <td>None</td>\n",
              "      <td>No</td>\n",
              "      <td>No</td>\n",
              "      <td>No</td>\n",
              "      <td>No</td>\n",
              "      <td>No</td>\n",
              "      <td>No</td>\n",
              "      <td>No</td>\n",
              "      <td>No</td>\n",
              "      <td>No</td>\n",
              "      <td>No</td>\n",
              "      <td>No</td>\n",
              "      <td>No</td>\n",
              "      <td>No</td>\n",
              "      <td>No</td>\n",
              "      <td>No</td>\n",
              "      <td>No</td>\n",
              "      <td>No</td>\n",
              "      <td>Up</td>\n",
              "      <td>No</td>\n",
              "      <td>No</td>\n",
              "      <td>No</td>\n",
              "      <td>No</td>\n",
              "      <td>No</td>\n",
              "      <td>Ch</td>\n",
              "      <td>Yes</td>\n",
              "      <td>&gt;30</td>\n",
              "    </tr>\n",
              "    <tr>\n",
              "      <th>2</th>\n",
              "      <td>64410</td>\n",
              "      <td>86047875</td>\n",
              "      <td>AfricanAmerican</td>\n",
              "      <td>Female</td>\n",
              "      <td>[20-30)</td>\n",
              "      <td>?</td>\n",
              "      <td>1</td>\n",
              "      <td>1</td>\n",
              "      <td>7</td>\n",
              "      <td>2</td>\n",
              "      <td>?</td>\n",
              "      <td>?</td>\n",
              "      <td>11</td>\n",
              "      <td>5</td>\n",
              "      <td>13</td>\n",
              "      <td>2</td>\n",
              "      <td>0</td>\n",
              "      <td>1</td>\n",
              "      <td>648</td>\n",
              "      <td>250</td>\n",
              "      <td>V27</td>\n",
              "      <td>6</td>\n",
              "      <td>None</td>\n",
              "      <td>None</td>\n",
              "      <td>No</td>\n",
              "      <td>No</td>\n",
              "      <td>No</td>\n",
              "      <td>No</td>\n",
              "      <td>No</td>\n",
              "      <td>No</td>\n",
              "      <td>Steady</td>\n",
              "      <td>No</td>\n",
              "      <td>No</td>\n",
              "      <td>No</td>\n",
              "      <td>No</td>\n",
              "      <td>No</td>\n",
              "      <td>No</td>\n",
              "      <td>No</td>\n",
              "      <td>No</td>\n",
              "      <td>No</td>\n",
              "      <td>No</td>\n",
              "      <td>No</td>\n",
              "      <td>No</td>\n",
              "      <td>No</td>\n",
              "      <td>No</td>\n",
              "      <td>No</td>\n",
              "      <td>No</td>\n",
              "      <td>No</td>\n",
              "      <td>Yes</td>\n",
              "      <td>NO</td>\n",
              "    </tr>\n",
              "    <tr>\n",
              "      <th>3</th>\n",
              "      <td>500364</td>\n",
              "      <td>82442376</td>\n",
              "      <td>Caucasian</td>\n",
              "      <td>Male</td>\n",
              "      <td>[30-40)</td>\n",
              "      <td>?</td>\n",
              "      <td>1</td>\n",
              "      <td>1</td>\n",
              "      <td>7</td>\n",
              "      <td>2</td>\n",
              "      <td>?</td>\n",
              "      <td>?</td>\n",
              "      <td>44</td>\n",
              "      <td>1</td>\n",
              "      <td>16</td>\n",
              "      <td>0</td>\n",
              "      <td>0</td>\n",
              "      <td>0</td>\n",
              "      <td>8</td>\n",
              "      <td>250.43</td>\n",
              "      <td>403</td>\n",
              "      <td>7</td>\n",
              "      <td>None</td>\n",
              "      <td>None</td>\n",
              "      <td>No</td>\n",
              "      <td>No</td>\n",
              "      <td>No</td>\n",
              "      <td>No</td>\n",
              "      <td>No</td>\n",
              "      <td>No</td>\n",
              "      <td>No</td>\n",
              "      <td>No</td>\n",
              "      <td>No</td>\n",
              "      <td>No</td>\n",
              "      <td>No</td>\n",
              "      <td>No</td>\n",
              "      <td>No</td>\n",
              "      <td>No</td>\n",
              "      <td>No</td>\n",
              "      <td>No</td>\n",
              "      <td>No</td>\n",
              "      <td>Up</td>\n",
              "      <td>No</td>\n",
              "      <td>No</td>\n",
              "      <td>No</td>\n",
              "      <td>No</td>\n",
              "      <td>No</td>\n",
              "      <td>Ch</td>\n",
              "      <td>Yes</td>\n",
              "      <td>NO</td>\n",
              "    </tr>\n",
              "    <tr>\n",
              "      <th>4</th>\n",
              "      <td>16680</td>\n",
              "      <td>42519267</td>\n",
              "      <td>Caucasian</td>\n",
              "      <td>Male</td>\n",
              "      <td>[40-50)</td>\n",
              "      <td>?</td>\n",
              "      <td>1</td>\n",
              "      <td>1</td>\n",
              "      <td>7</td>\n",
              "      <td>1</td>\n",
              "      <td>?</td>\n",
              "      <td>?</td>\n",
              "      <td>51</td>\n",
              "      <td>0</td>\n",
              "      <td>8</td>\n",
              "      <td>0</td>\n",
              "      <td>0</td>\n",
              "      <td>0</td>\n",
              "      <td>197</td>\n",
              "      <td>157</td>\n",
              "      <td>250</td>\n",
              "      <td>5</td>\n",
              "      <td>None</td>\n",
              "      <td>None</td>\n",
              "      <td>No</td>\n",
              "      <td>No</td>\n",
              "      <td>No</td>\n",
              "      <td>No</td>\n",
              "      <td>No</td>\n",
              "      <td>No</td>\n",
              "      <td>Steady</td>\n",
              "      <td>No</td>\n",
              "      <td>No</td>\n",
              "      <td>No</td>\n",
              "      <td>No</td>\n",
              "      <td>No</td>\n",
              "      <td>No</td>\n",
              "      <td>No</td>\n",
              "      <td>No</td>\n",
              "      <td>No</td>\n",
              "      <td>No</td>\n",
              "      <td>Steady</td>\n",
              "      <td>No</td>\n",
              "      <td>No</td>\n",
              "      <td>No</td>\n",
              "      <td>No</td>\n",
              "      <td>No</td>\n",
              "      <td>Ch</td>\n",
              "      <td>Yes</td>\n",
              "      <td>NO</td>\n",
              "    </tr>\n",
              "  </tbody>\n",
              "</table>\n",
              "</div>"
            ],
            "text/plain": [
              "   encounter_id  patient_nbr             race  ... change diabetesMed readmitted\n",
              "0       2278392      8222157        Caucasian  ...     No          No         NO\n",
              "1        149190     55629189        Caucasian  ...     Ch         Yes        >30\n",
              "2         64410     86047875  AfricanAmerican  ...     No         Yes         NO\n",
              "3        500364     82442376        Caucasian  ...     Ch         Yes         NO\n",
              "4         16680     42519267        Caucasian  ...     Ch         Yes         NO\n",
              "\n",
              "[5 rows x 50 columns]"
            ]
          },
          "metadata": {
            "tags": []
          },
          "execution_count": 6
        }
      ]
    },
    {
      "cell_type": "code",
      "metadata": {
        "id": "8zWdc0-WtduN"
      },
      "source": [
        "#Backup Models in case we want to look original data in the analysis\n",
        "diabetes_BM = diabetes"
      ],
      "execution_count": null,
      "outputs": []
    },
    {
      "cell_type": "markdown",
      "metadata": {
        "id": "En0TStqsYpGf"
      },
      "source": [
        "###Modifying the database "
      ]
    },
    {
      "cell_type": "code",
      "metadata": {
        "colab": {
          "base_uri": "https://localhost:8080/"
        },
        "id": "DdccMF5d5gl9",
        "outputId": "45c34a00-8a59-498c-fde9-fc40b10b3736"
      },
      "source": [
        "#Since age is ordinal we need to change into a numerical value. So, use the median value instead.\n",
        "replaceDict = {\n",
        "    '[0-10)': 5,\n",
        "    '[10-20)':15,\n",
        "    '[20-30)':25,\n",
        "    '[30-40)':35,\n",
        "    '[40-50)':45,\n",
        "    '[50-60)':55,\n",
        "    '[60-70)':65,\n",
        "    '[70-80)':75,\n",
        "    '[80-90)':85,\n",
        "    '[90-100)':95\n",
        "}\n",
        "diabetes['age'] =diabetes['age'].apply(lambda x: replaceDict[x])\n",
        "print(diabetes['age'].head())"
      ],
      "execution_count": null,
      "outputs": [
        {
          "output_type": "stream",
          "text": [
            "0     5\n",
            "1    15\n",
            "2    25\n",
            "3    35\n",
            "4    45\n",
            "Name: age, dtype: int64\n"
          ],
          "name": "stdout"
        }
      ]
    },
    {
      "cell_type": "code",
      "metadata": {
        "colab": {
          "base_uri": "https://localhost:8080/"
        },
        "id": "v0239us3D7is",
        "outputId": "416bfa73-f0a3-4da3-c2f3-90a31a91718b"
      },
      "source": [
        "#Deleting duplicates from the dataset\n",
        "diabetes.dropna(inplace = True)\n",
        "print('Total data = ', len(diabetes))\n",
        "print('Unique entries = ', len(np.unique(diabetes['patient_nbr'])))\n",
        "diabetes.drop_duplicates(['patient_nbr'], keep = 'first', inplace = True)\n",
        "print('Length after removing Duplicates:', len(diabetes))"
      ],
      "execution_count": null,
      "outputs": [
        {
          "output_type": "stream",
          "text": [
            "Total data =  101766\n",
            "Unique entries =  71518\n",
            "Length after removing Duplicates: 71518\n"
          ],
          "name": "stdout"
        }
      ]
    },
    {
      "cell_type": "code",
      "metadata": {
        "colab": {
          "base_uri": "https://localhost:8080/"
        },
        "id": "Qb5mMZKMEMMQ",
        "outputId": "bc504559-3918-4a02-e608-c233c417a110"
      },
      "source": [
        "#We merge similar categories into one category to help analyze the data clearer and make our models more understandable\n",
        "diabetes['discharge_disposition_id'] = diabetes['discharge_disposition_id'].apply(lambda x : 1 if int(x) in [6, 8, 9, 13] \n",
        "                                                                           else ( 2 if int(x) in [3, 4, 5, 14, 22, 23, 24]\n",
        "                                                                           else ( 10 if int(x) in [12, 15, 16, 17]\n",
        "                                                                           else ( 11 if int(x) in [19, 20, 21]\n",
        "                                                                           else ( 18 if int(x) in [25, 26] \n",
        "                                                                           else int(x) )))))\n",
        "\n",
        "diabetes = diabetes[~diabetes.discharge_disposition_id.isin([11,13,14,19,20,21])]\n",
        "\n",
        "diabetes['admission_type_id'] = diabetes['admission_type_id'].apply(lambda x : 1 if int(x) in [2, 7]\n",
        "                                                            else ( 5 if int(x) in [6, 8]\n",
        "                                                            else int(x) ))\n",
        "\n",
        "diabetes['admission_source_id'] = diabetes['admission_source_id'].apply(lambda x : 1 if int(x) in [2, 3]\n",
        "                                                            else ( 4 if int(x) in [5, 6, 10, 22, 25]\n",
        "                                                            else ( 9 if int(x) in [15, 17, 20, 21]\n",
        "                                                            else ( 11 if int(x) in [13, 14]\n",
        "                                                            else int(x) ))))\n",
        "\n",
        "for col in [\"metformin\", \"repaglinide\", \"nateglinide\", \"chlorpropamide\", \"glimepiride\", \"acetohexamide\", \"glipizide\", \"glyburide\", \"tolbutamide\", \"pioglitazone\", \"rosiglitazone\", \"acarbose\", \"miglitol\", \"troglitazone\", \"tolazamide\", \"examide\", \"citoglipton\", \"insulin\", \"glyburide-metformin\", \"glipizide-metformin\", \"glimepiride-pioglitazone\", \"metformin-rosiglitazone\", \"metformin-pioglitazone\"]:\n",
        "    diabetes[col] = diabetes[col].apply(lambda x : 10 if x == 'Up' \n",
        "                                              else ( -10 if x == 'Down'                                                          \n",
        "                                              else ( 0 if x == 'Steady'\n",
        "                                              else  -20)))\n",
        "\n",
        "\n",
        "diabetes['change'] = diabetes['change'].apply(lambda x : 1 if x == 'Ch'\n",
        "                                                 else -1)\n",
        "\n",
        "\n",
        "diabetes['diabetesMed'] = diabetes['diabetesMed'].apply(lambda x : -1 if x == 'No'\n",
        "                                                else 1)\n",
        "\n",
        "\n",
        "diabetes['max_glu_serum'] = diabetes['max_glu_serum'].apply(lambda x : 200 if x == '>200' \n",
        "                                                            else ( 300 if x == '>300'                                                          \n",
        "                                                            else ( 100 if x == 'Norm'\n",
        "                                                            else  0)))\n",
        "\n",
        "diabetes['A1Cresult'] = diabetes['A1Cresult'].apply(lambda x : 7 if x == '>7' \n",
        "                                                         else (8 if  x == '>8'                                                        \n",
        "                                                         else ( 5 if x == 'Norm'\n",
        "                                                         else  0)))"
      ],
      "execution_count": null,
      "outputs": [
        {
          "output_type": "stream",
          "text": [
            "/usr/local/lib/python3.7/dist-packages/ipykernel_launcher.py:11: SettingWithCopyWarning: \n",
            "A value is trying to be set on a copy of a slice from a DataFrame.\n",
            "Try using .loc[row_indexer,col_indexer] = value instead\n",
            "\n",
            "See the caveats in the documentation: https://pandas.pydata.org/pandas-docs/stable/user_guide/indexing.html#returning-a-view-versus-a-copy\n",
            "  # This is added back by InteractiveShellApp.init_path()\n",
            "/usr/local/lib/python3.7/dist-packages/ipykernel_launcher.py:15: SettingWithCopyWarning: \n",
            "A value is trying to be set on a copy of a slice from a DataFrame.\n",
            "Try using .loc[row_indexer,col_indexer] = value instead\n",
            "\n",
            "See the caveats in the documentation: https://pandas.pydata.org/pandas-docs/stable/user_guide/indexing.html#returning-a-view-versus-a-copy\n",
            "  from ipykernel import kernelapp as app\n",
            "/usr/local/lib/python3.7/dist-packages/ipykernel_launcher.py:22: SettingWithCopyWarning: \n",
            "A value is trying to be set on a copy of a slice from a DataFrame.\n",
            "Try using .loc[row_indexer,col_indexer] = value instead\n",
            "\n",
            "See the caveats in the documentation: https://pandas.pydata.org/pandas-docs/stable/user_guide/indexing.html#returning-a-view-versus-a-copy\n",
            "/usr/local/lib/python3.7/dist-packages/ipykernel_launcher.py:28: SettingWithCopyWarning: \n",
            "A value is trying to be set on a copy of a slice from a DataFrame.\n",
            "Try using .loc[row_indexer,col_indexer] = value instead\n",
            "\n",
            "See the caveats in the documentation: https://pandas.pydata.org/pandas-docs/stable/user_guide/indexing.html#returning-a-view-versus-a-copy\n",
            "/usr/local/lib/python3.7/dist-packages/ipykernel_launcher.py:32: SettingWithCopyWarning: \n",
            "A value is trying to be set on a copy of a slice from a DataFrame.\n",
            "Try using .loc[row_indexer,col_indexer] = value instead\n",
            "\n",
            "See the caveats in the documentation: https://pandas.pydata.org/pandas-docs/stable/user_guide/indexing.html#returning-a-view-versus-a-copy\n",
            "/usr/local/lib/python3.7/dist-packages/ipykernel_launcher.py:36: SettingWithCopyWarning: \n",
            "A value is trying to be set on a copy of a slice from a DataFrame.\n",
            "Try using .loc[row_indexer,col_indexer] = value instead\n",
            "\n",
            "See the caveats in the documentation: https://pandas.pydata.org/pandas-docs/stable/user_guide/indexing.html#returning-a-view-versus-a-copy\n",
            "/usr/local/lib/python3.7/dist-packages/ipykernel_launcher.py:41: SettingWithCopyWarning: \n",
            "A value is trying to be set on a copy of a slice from a DataFrame.\n",
            "Try using .loc[row_indexer,col_indexer] = value instead\n",
            "\n",
            "See the caveats in the documentation: https://pandas.pydata.org/pandas-docs/stable/user_guide/indexing.html#returning-a-view-versus-a-copy\n"
          ],
          "name": "stderr"
        }
      ]
    },
    {
      "cell_type": "code",
      "metadata": {
        "id": "crEaKF7NTBJc"
      },
      "source": [
        "#diabetes_bk = diabetes (Back_up)\n",
        "nrows_d = diabetes.shape[0]\n",
        "ncols_d = diabetes.shape[1]"
      ],
      "execution_count": null,
      "outputs": []
    },
    {
      "cell_type": "code",
      "metadata": {
        "colab": {
          "base_uri": "https://localhost:8080/"
        },
        "id": "YxJkUp5aGnMM",
        "outputId": "d14ddb74-9829-4468-fa04-e60d49f82c7d"
      },
      "source": [
        "diag_1 = collections.Counter(list(diabetes['diag_1'])).most_common(1)[0][0]\n",
        "diag_2 = collections.Counter(list(diabetes['diag_2'])).most_common(1)[0][0]\n",
        "diag_3 = collections.Counter(list(diabetes['diag_3'])).most_common(1)[0][0]\n",
        "diabetes['diag_1'] = diabetes['diag_1'].apply(lambda x : diag_1 if x == '?' else x)\n",
        "diabetes['diag_2'] = diabetes['diag_1'].apply(lambda x : diag_2 if x == '?' else x)\n",
        "diabetes['diag_3'] = diabetes['diag_3'].apply(lambda x : diag_3 if x == '?' else x)"
      ],
      "execution_count": null,
      "outputs": [
        {
          "output_type": "stream",
          "text": [
            "/usr/local/lib/python3.7/dist-packages/ipykernel_launcher.py:4: SettingWithCopyWarning: \n",
            "A value is trying to be set on a copy of a slice from a DataFrame.\n",
            "Try using .loc[row_indexer,col_indexer] = value instead\n",
            "\n",
            "See the caveats in the documentation: https://pandas.pydata.org/pandas-docs/stable/user_guide/indexing.html#returning-a-view-versus-a-copy\n",
            "  after removing the cwd from sys.path.\n",
            "/usr/local/lib/python3.7/dist-packages/ipykernel_launcher.py:5: SettingWithCopyWarning: \n",
            "A value is trying to be set on a copy of a slice from a DataFrame.\n",
            "Try using .loc[row_indexer,col_indexer] = value instead\n",
            "\n",
            "See the caveats in the documentation: https://pandas.pydata.org/pandas-docs/stable/user_guide/indexing.html#returning-a-view-versus-a-copy\n",
            "  \"\"\"\n",
            "/usr/local/lib/python3.7/dist-packages/ipykernel_launcher.py:6: SettingWithCopyWarning: \n",
            "A value is trying to be set on a copy of a slice from a DataFrame.\n",
            "Try using .loc[row_indexer,col_indexer] = value instead\n",
            "\n",
            "See the caveats in the documentation: https://pandas.pydata.org/pandas-docs/stable/user_guide/indexing.html#returning-a-view-versus-a-copy\n",
            "  \n"
          ],
          "name": "stderr"
        }
      ]
    },
    {
      "cell_type": "code",
      "metadata": {
        "colab": {
          "base_uri": "https://localhost:8080/"
        },
        "id": "XtH19fgbTP6E",
        "outputId": "86221251-d54a-4085-c20e-a6e0e4ce0b91"
      },
      "source": [
        "#diabetes[['weight'] == '?'].count()\n",
        "wt_miss = diabetes['weight'][diabetes['weight'] == '?'].value_counts() \n",
        "wt_miss_percent = wt_miss/nrows_d\n",
        "print(wt_miss_percent)"
      ],
      "execution_count": null,
      "outputs": [
        {
          "output_type": "stream",
          "text": [
            "?    0.960048\n",
            "Name: weight, dtype: float64\n"
          ],
          "name": "stdout"
        }
      ]
    },
    {
      "cell_type": "code",
      "metadata": {
        "colab": {
          "base_uri": "https://localhost:8080/"
        },
        "id": "VDc354DvFZLU",
        "outputId": "514e92eb-cdbf-4396-945b-e53550d06225"
      },
      "source": [
        "diabetes['race'] = diabetes['race'].replace({'?':'other'})\n",
        "print (sum((diabetes['race'] == '?')))\n",
        "diabetes['medical_specialty'] = diabetes['medical_specialty'].replace({'?':'other'})\n",
        "print(sum(diabetes['medical_specialty'] == '?'))"
      ],
      "execution_count": null,
      "outputs": [
        {
          "output_type": "stream",
          "text": [
            "0\n",
            "0\n"
          ],
          "name": "stdout"
        },
        {
          "output_type": "stream",
          "text": [
            "/usr/local/lib/python3.7/dist-packages/ipykernel_launcher.py:1: SettingWithCopyWarning: \n",
            "A value is trying to be set on a copy of a slice from a DataFrame.\n",
            "Try using .loc[row_indexer,col_indexer] = value instead\n",
            "\n",
            "See the caveats in the documentation: https://pandas.pydata.org/pandas-docs/stable/user_guide/indexing.html#returning-a-view-versus-a-copy\n",
            "  \"\"\"Entry point for launching an IPython kernel.\n",
            "/usr/local/lib/python3.7/dist-packages/ipykernel_launcher.py:3: SettingWithCopyWarning: \n",
            "A value is trying to be set on a copy of a slice from a DataFrame.\n",
            "Try using .loc[row_indexer,col_indexer] = value instead\n",
            "\n",
            "See the caveats in the documentation: https://pandas.pydata.org/pandas-docs/stable/user_guide/indexing.html#returning-a-view-versus-a-copy\n",
            "  This is separate from the ipykernel package so we can avoid doing imports until\n"
          ],
          "name": "stderr"
        }
      ]
    },
    {
      "cell_type": "code",
      "metadata": {
        "id": "eaj6Jp0lM747"
      },
      "source": [
        "#Droping weight for the dataframe due to large amount of missing value \n",
        "diabetes = diabetes.drop(columns =['weight'])\n",
        "#Also dropping payer_code, encounter_id, and patient_nbr since it's not something we need for our project\n",
        "diabete = diabetes.drop(columns = ['payer_code'])\n",
        "diabete = diabetes.drop(columns = ['encounter_id'])\n",
        "diabete = diabetes.drop(columns = ['patient_nbr'])"
      ],
      "execution_count": null,
      "outputs": []
    },
    {
      "cell_type": "code",
      "metadata": {
        "id": "U-vahcNPM8jt"
      },
      "source": [
        "# listed common speciality with their corresponding department \n",
        "high_frequency = ['InternalMedicine', 'Family/GeneralPractice', 'Cardiology', 'Surgery-General', 'Orthopedics', 'Orthopedics-Reconstructive', \n",
        "                 'Emergency/Trauma', 'Urology','ObstetricsandGynecology','Psychiatry','Pulmonology ','Nephrology','Radiologist']\n",
        "\n",
        "low_frequency = ['Surgery-PlasticwithinHeadandNeck','Psychiatry-Addictive','Proctology','Dermatology','SportsMedicine','Speech','Perinatology',\\\n",
        "                'Neurophysiology','Resident','Pediatrics-Hematology-Oncology','Pediatrics-EmergencyMedicine','Dentistry','DCPTEAM','Psychiatry-Child/Adolescent',\\\n",
        "                'Pediatrics-Pulmonology','Surgery-Pediatric','AllergyandImmunology','Pediatrics-Neurology','Anesthesiology','Pathology','Cardiology-Pediatric',\\\n",
        "                'Endocrinology-Metabolism','PhysicianNotFound','Surgery-Colon&Rectal','OutreachServices',\\\n",
        "                'Surgery-Maxillofacial','Rheumatology','Anesthesiology-Pediatric','Obstetrics','Obsterics&Gynecology-GynecologicOnco']\n",
        "\n",
        "pediatrics = ['Pediatrics','Pediatrics-CriticalCare','Pediatrics-EmergencyMedicine','Pediatrics-Endocrinology','Pediatrics-Hematology-Oncology',\\\n",
        "               'Pediatrics-Neurology','Pediatrics-Pulmonology', 'Anesthesiology-Pediatric', 'Cardiology-Pediatric', 'Surgery-Pediatric']\n",
        "\n",
        "psychic = ['Psychiatry-Addictive', 'Psychology', 'Psychiatry',  'Psychiatry-Child/Adolescent', 'PhysicalMedicineandRehabilitation', 'Osteopath']\n",
        "\n",
        "\n",
        "neurology = ['Neurology', 'Surgery-Neuro',  'Pediatrics-Neurology', 'Neurophysiology']\n",
        "\n",
        "\n",
        "surgery = ['Surgeon', 'Surgery-Cardiovascular', \\\n",
        "          'Surgery-Cardiovascular/Thoracic', 'Surgery-Colon&Rectal', 'Surgery-General', 'Surgery-Maxillofacial', \\\n",
        "             'Surgery-Plastic', 'Surgery-PlasticwithinHeadandNeck',  'Surgery-Thoracic',\\\n",
        "             'Surgery-Vascular', 'SurgicalSpecialty', 'Podiatry']\n",
        "             \n",
        "ungrouped = ['Endocrinology','Gastroenterology','Gynecology','Hematology','Hematology/Oncology','Hospitalist','InfectiousDiseases',\\\n",
        "           'Oncology','Ophthalmology','Otolaryngology','Pulmonology','Radiology', 'InternalMedicine', 'Family/GeneralPractice', 'Cardiology',\n",
        "        'Orthopedics', 'Nephrology', 'Orthopedics-Reconstructive', \n",
        "       'Emergency/Trauma', 'Obsterics&Gynecology-GynecologicOnco',\n",
        "       'ObstetricsandGynecology', 'Urology', 'AllergyandImmunology',\n",
        "       'Dentistry', 'Anesthesiology', 'PhysicianNotFound', 'Proctology',\n",
        "       'Rheumatology', 'Obstetrics', 'Radiologist', 'Dermatology',\n",
        "       'Pathology', 'SportsMedicine', 'Speech', 'OutreachServices',\n",
        "       'Perinatology', 'Endocrinology-Metabolism', 'DCPTEAM', 'Resident']\n",
        "\n",
        "\n",
        "missing = ['?']"
      ],
      "execution_count": null,
      "outputs": []
    },
    {
      "cell_type": "code",
      "metadata": {
        "id": "89xTjh7SQABt"
      },
      "source": [
        "diabetes['diag_1'] = diabetes['diag_1'].apply(lambda x : 'other' if (str(x).find('V') != -1 or str(x).find('E') != -1)  \n",
        "                                        else ('circulatory' if int(float(x)) in range(390, 460) or int(float(x)) == 785\n",
        "                                        else     ('respiratory' if int(float(x)) in range(460, 520) or int(float(x)) == 786\n",
        "                                        else     ('digestive'   if int(float(x)) in range(520, 580) or int(float(x)) == 787\n",
        "                                        else     ('diabetes'    if int(float(x)) == 250\n",
        "                                        else     ('injury'      if int(float(x)) in range(800, 1000)\n",
        "                                        else ('musculoskeletal' if int(float(x)) in range(710, 740)\n",
        "                                        else ('genitourinary'   if int(float(x)) in range(580, 630) or int(float(x)) == 788\n",
        "                                        else ('neoplasms'       if int(float(x)) in range(140, 240)\n",
        "                                        else ('pregnancy'        if int(float(x)) in range(630, 680)\n",
        "                                        else 'other'))))))))))"
      ],
      "execution_count": null,
      "outputs": []
    },
    {
      "cell_type": "code",
      "metadata": {
        "colab": {
          "base_uri": "https://localhost:8080/"
        },
        "id": "Cms1IGyAWoBp",
        "outputId": "d7e87e61-a25e-4342-9e65-8fe737956956"
      },
      "source": [
        "diabetes['health_index'] = (1 / (diabetes['number_emergency'] + diabetes['number_inpatient'] + diabetes['number_outpatient']))\n",
        "\n",
        "\n",
        "\n",
        "diabetes['sev_of_disease'] = (diabetes['time_in_hospital'] + diabetes['num_procedures'] + diabetes['num_medications'] + diabetes['num_lab_procedures'] + diabetes['number_diagnoses'])\n",
        "\n",
        "diabetes.head()"
      ],
      "execution_count": null,
      "outputs": [
        {
          "output_type": "execute_result",
          "data": {
            "text/html": [
              "<div>\n",
              "<style scoped>\n",
              "    .dataframe tbody tr th:only-of-type {\n",
              "        vertical-align: middle;\n",
              "    }\n",
              "\n",
              "    .dataframe tbody tr th {\n",
              "        vertical-align: top;\n",
              "    }\n",
              "\n",
              "    .dataframe thead th {\n",
              "        text-align: right;\n",
              "    }\n",
              "</style>\n",
              "<table border=\"1\" class=\"dataframe\">\n",
              "  <thead>\n",
              "    <tr style=\"text-align: right;\">\n",
              "      <th></th>\n",
              "      <th>encounter_id</th>\n",
              "      <th>patient_nbr</th>\n",
              "      <th>race</th>\n",
              "      <th>gender</th>\n",
              "      <th>age</th>\n",
              "      <th>admission_type_id</th>\n",
              "      <th>discharge_disposition_id</th>\n",
              "      <th>admission_source_id</th>\n",
              "      <th>time_in_hospital</th>\n",
              "      <th>payer_code</th>\n",
              "      <th>medical_specialty</th>\n",
              "      <th>num_lab_procedures</th>\n",
              "      <th>num_procedures</th>\n",
              "      <th>num_medications</th>\n",
              "      <th>number_outpatient</th>\n",
              "      <th>number_emergency</th>\n",
              "      <th>number_inpatient</th>\n",
              "      <th>diag_1</th>\n",
              "      <th>diag_2</th>\n",
              "      <th>diag_3</th>\n",
              "      <th>number_diagnoses</th>\n",
              "      <th>max_glu_serum</th>\n",
              "      <th>A1Cresult</th>\n",
              "      <th>metformin</th>\n",
              "      <th>repaglinide</th>\n",
              "      <th>nateglinide</th>\n",
              "      <th>chlorpropamide</th>\n",
              "      <th>glimepiride</th>\n",
              "      <th>acetohexamide</th>\n",
              "      <th>glipizide</th>\n",
              "      <th>glyburide</th>\n",
              "      <th>tolbutamide</th>\n",
              "      <th>pioglitazone</th>\n",
              "      <th>rosiglitazone</th>\n",
              "      <th>acarbose</th>\n",
              "      <th>miglitol</th>\n",
              "      <th>troglitazone</th>\n",
              "      <th>tolazamide</th>\n",
              "      <th>examide</th>\n",
              "      <th>citoglipton</th>\n",
              "      <th>insulin</th>\n",
              "      <th>glyburide-metformin</th>\n",
              "      <th>glipizide-metformin</th>\n",
              "      <th>glimepiride-pioglitazone</th>\n",
              "      <th>metformin-rosiglitazone</th>\n",
              "      <th>metformin-pioglitazone</th>\n",
              "      <th>change</th>\n",
              "      <th>diabetesMed</th>\n",
              "      <th>readmitted</th>\n",
              "      <th>health_index</th>\n",
              "      <th>sev_of_disease</th>\n",
              "    </tr>\n",
              "  </thead>\n",
              "  <tbody>\n",
              "    <tr>\n",
              "      <th>0</th>\n",
              "      <td>2278392</td>\n",
              "      <td>8222157</td>\n",
              "      <td>Caucasian</td>\n",
              "      <td>Female</td>\n",
              "      <td>5</td>\n",
              "      <td>5</td>\n",
              "      <td>18</td>\n",
              "      <td>1</td>\n",
              "      <td>1</td>\n",
              "      <td>?</td>\n",
              "      <td>Pediatrics-Endocrinology</td>\n",
              "      <td>41</td>\n",
              "      <td>0</td>\n",
              "      <td>1</td>\n",
              "      <td>0</td>\n",
              "      <td>0</td>\n",
              "      <td>0</td>\n",
              "      <td>diabetes</td>\n",
              "      <td>250.83</td>\n",
              "      <td>250</td>\n",
              "      <td>1</td>\n",
              "      <td>0</td>\n",
              "      <td>0</td>\n",
              "      <td>-20</td>\n",
              "      <td>-20</td>\n",
              "      <td>-20</td>\n",
              "      <td>-20</td>\n",
              "      <td>-20</td>\n",
              "      <td>-20</td>\n",
              "      <td>-20</td>\n",
              "      <td>-20</td>\n",
              "      <td>-20</td>\n",
              "      <td>-20</td>\n",
              "      <td>-20</td>\n",
              "      <td>-20</td>\n",
              "      <td>-20</td>\n",
              "      <td>-20</td>\n",
              "      <td>-20</td>\n",
              "      <td>-20</td>\n",
              "      <td>-20</td>\n",
              "      <td>-20</td>\n",
              "      <td>-20</td>\n",
              "      <td>-20</td>\n",
              "      <td>-20</td>\n",
              "      <td>-20</td>\n",
              "      <td>-20</td>\n",
              "      <td>-1</td>\n",
              "      <td>-1</td>\n",
              "      <td>NO</td>\n",
              "      <td>inf</td>\n",
              "      <td>44</td>\n",
              "    </tr>\n",
              "    <tr>\n",
              "      <th>1</th>\n",
              "      <td>149190</td>\n",
              "      <td>55629189</td>\n",
              "      <td>Caucasian</td>\n",
              "      <td>Female</td>\n",
              "      <td>15</td>\n",
              "      <td>1</td>\n",
              "      <td>1</td>\n",
              "      <td>7</td>\n",
              "      <td>3</td>\n",
              "      <td>?</td>\n",
              "      <td>other</td>\n",
              "      <td>59</td>\n",
              "      <td>0</td>\n",
              "      <td>18</td>\n",
              "      <td>0</td>\n",
              "      <td>0</td>\n",
              "      <td>0</td>\n",
              "      <td>other</td>\n",
              "      <td>276</td>\n",
              "      <td>255</td>\n",
              "      <td>9</td>\n",
              "      <td>0</td>\n",
              "      <td>0</td>\n",
              "      <td>-20</td>\n",
              "      <td>-20</td>\n",
              "      <td>-20</td>\n",
              "      <td>-20</td>\n",
              "      <td>-20</td>\n",
              "      <td>-20</td>\n",
              "      <td>-20</td>\n",
              "      <td>-20</td>\n",
              "      <td>-20</td>\n",
              "      <td>-20</td>\n",
              "      <td>-20</td>\n",
              "      <td>-20</td>\n",
              "      <td>-20</td>\n",
              "      <td>-20</td>\n",
              "      <td>-20</td>\n",
              "      <td>-20</td>\n",
              "      <td>-20</td>\n",
              "      <td>10</td>\n",
              "      <td>-20</td>\n",
              "      <td>-20</td>\n",
              "      <td>-20</td>\n",
              "      <td>-20</td>\n",
              "      <td>-20</td>\n",
              "      <td>1</td>\n",
              "      <td>1</td>\n",
              "      <td>&gt;30</td>\n",
              "      <td>inf</td>\n",
              "      <td>89</td>\n",
              "    </tr>\n",
              "    <tr>\n",
              "      <th>2</th>\n",
              "      <td>64410</td>\n",
              "      <td>86047875</td>\n",
              "      <td>AfricanAmerican</td>\n",
              "      <td>Female</td>\n",
              "      <td>25</td>\n",
              "      <td>1</td>\n",
              "      <td>1</td>\n",
              "      <td>7</td>\n",
              "      <td>2</td>\n",
              "      <td>?</td>\n",
              "      <td>other</td>\n",
              "      <td>11</td>\n",
              "      <td>5</td>\n",
              "      <td>13</td>\n",
              "      <td>2</td>\n",
              "      <td>0</td>\n",
              "      <td>1</td>\n",
              "      <td>pregnancy</td>\n",
              "      <td>648</td>\n",
              "      <td>V27</td>\n",
              "      <td>6</td>\n",
              "      <td>0</td>\n",
              "      <td>0</td>\n",
              "      <td>-20</td>\n",
              "      <td>-20</td>\n",
              "      <td>-20</td>\n",
              "      <td>-20</td>\n",
              "      <td>-20</td>\n",
              "      <td>-20</td>\n",
              "      <td>0</td>\n",
              "      <td>-20</td>\n",
              "      <td>-20</td>\n",
              "      <td>-20</td>\n",
              "      <td>-20</td>\n",
              "      <td>-20</td>\n",
              "      <td>-20</td>\n",
              "      <td>-20</td>\n",
              "      <td>-20</td>\n",
              "      <td>-20</td>\n",
              "      <td>-20</td>\n",
              "      <td>-20</td>\n",
              "      <td>-20</td>\n",
              "      <td>-20</td>\n",
              "      <td>-20</td>\n",
              "      <td>-20</td>\n",
              "      <td>-20</td>\n",
              "      <td>-1</td>\n",
              "      <td>1</td>\n",
              "      <td>NO</td>\n",
              "      <td>0.333333</td>\n",
              "      <td>37</td>\n",
              "    </tr>\n",
              "    <tr>\n",
              "      <th>3</th>\n",
              "      <td>500364</td>\n",
              "      <td>82442376</td>\n",
              "      <td>Caucasian</td>\n",
              "      <td>Male</td>\n",
              "      <td>35</td>\n",
              "      <td>1</td>\n",
              "      <td>1</td>\n",
              "      <td>7</td>\n",
              "      <td>2</td>\n",
              "      <td>?</td>\n",
              "      <td>other</td>\n",
              "      <td>44</td>\n",
              "      <td>1</td>\n",
              "      <td>16</td>\n",
              "      <td>0</td>\n",
              "      <td>0</td>\n",
              "      <td>0</td>\n",
              "      <td>other</td>\n",
              "      <td>8</td>\n",
              "      <td>403</td>\n",
              "      <td>7</td>\n",
              "      <td>0</td>\n",
              "      <td>0</td>\n",
              "      <td>-20</td>\n",
              "      <td>-20</td>\n",
              "      <td>-20</td>\n",
              "      <td>-20</td>\n",
              "      <td>-20</td>\n",
              "      <td>-20</td>\n",
              "      <td>-20</td>\n",
              "      <td>-20</td>\n",
              "      <td>-20</td>\n",
              "      <td>-20</td>\n",
              "      <td>-20</td>\n",
              "      <td>-20</td>\n",
              "      <td>-20</td>\n",
              "      <td>-20</td>\n",
              "      <td>-20</td>\n",
              "      <td>-20</td>\n",
              "      <td>-20</td>\n",
              "      <td>10</td>\n",
              "      <td>-20</td>\n",
              "      <td>-20</td>\n",
              "      <td>-20</td>\n",
              "      <td>-20</td>\n",
              "      <td>-20</td>\n",
              "      <td>1</td>\n",
              "      <td>1</td>\n",
              "      <td>NO</td>\n",
              "      <td>inf</td>\n",
              "      <td>70</td>\n",
              "    </tr>\n",
              "    <tr>\n",
              "      <th>4</th>\n",
              "      <td>16680</td>\n",
              "      <td>42519267</td>\n",
              "      <td>Caucasian</td>\n",
              "      <td>Male</td>\n",
              "      <td>45</td>\n",
              "      <td>1</td>\n",
              "      <td>1</td>\n",
              "      <td>7</td>\n",
              "      <td>1</td>\n",
              "      <td>?</td>\n",
              "      <td>other</td>\n",
              "      <td>51</td>\n",
              "      <td>0</td>\n",
              "      <td>8</td>\n",
              "      <td>0</td>\n",
              "      <td>0</td>\n",
              "      <td>0</td>\n",
              "      <td>neoplasms</td>\n",
              "      <td>197</td>\n",
              "      <td>250</td>\n",
              "      <td>5</td>\n",
              "      <td>0</td>\n",
              "      <td>0</td>\n",
              "      <td>-20</td>\n",
              "      <td>-20</td>\n",
              "      <td>-20</td>\n",
              "      <td>-20</td>\n",
              "      <td>-20</td>\n",
              "      <td>-20</td>\n",
              "      <td>0</td>\n",
              "      <td>-20</td>\n",
              "      <td>-20</td>\n",
              "      <td>-20</td>\n",
              "      <td>-20</td>\n",
              "      <td>-20</td>\n",
              "      <td>-20</td>\n",
              "      <td>-20</td>\n",
              "      <td>-20</td>\n",
              "      <td>-20</td>\n",
              "      <td>-20</td>\n",
              "      <td>0</td>\n",
              "      <td>-20</td>\n",
              "      <td>-20</td>\n",
              "      <td>-20</td>\n",
              "      <td>-20</td>\n",
              "      <td>-20</td>\n",
              "      <td>1</td>\n",
              "      <td>1</td>\n",
              "      <td>NO</td>\n",
              "      <td>inf</td>\n",
              "      <td>65</td>\n",
              "    </tr>\n",
              "  </tbody>\n",
              "</table>\n",
              "</div>"
            ],
            "text/plain": [
              "   encounter_id  patient_nbr  ... health_index sev_of_disease\n",
              "0       2278392      8222157  ...          inf             44\n",
              "1        149190     55629189  ...          inf             89\n",
              "2         64410     86047875  ...     0.333333             37\n",
              "3        500364     82442376  ...          inf             70\n",
              "4         16680     42519267  ...          inf             65\n",
              "\n",
              "[5 rows x 51 columns]"
            ]
          },
          "metadata": {
            "tags": []
          },
          "execution_count": 18
        }
      ]
    },
    {
      "cell_type": "code",
      "metadata": {
        "id": "rkHePVE1fK6m"
      },
      "source": [
        "diabetes['health_index'] = diabetes['health_index'].replace(np.inf, 0)"
      ],
      "execution_count": null,
      "outputs": []
    },
    {
      "cell_type": "code",
      "metadata": {
        "colab": {
          "base_uri": "https://localhost:8080/"
        },
        "id": "bX4Qs2KWg6AW",
        "outputId": "30c60fdb-5799-429c-9b3e-97249dc0214d"
      },
      "source": [
        "diabetes.head()"
      ],
      "execution_count": null,
      "outputs": [
        {
          "output_type": "execute_result",
          "data": {
            "text/html": [
              "<div>\n",
              "<style scoped>\n",
              "    .dataframe tbody tr th:only-of-type {\n",
              "        vertical-align: middle;\n",
              "    }\n",
              "\n",
              "    .dataframe tbody tr th {\n",
              "        vertical-align: top;\n",
              "    }\n",
              "\n",
              "    .dataframe thead th {\n",
              "        text-align: right;\n",
              "    }\n",
              "</style>\n",
              "<table border=\"1\" class=\"dataframe\">\n",
              "  <thead>\n",
              "    <tr style=\"text-align: right;\">\n",
              "      <th></th>\n",
              "      <th>encounter_id</th>\n",
              "      <th>patient_nbr</th>\n",
              "      <th>race</th>\n",
              "      <th>gender</th>\n",
              "      <th>age</th>\n",
              "      <th>admission_type_id</th>\n",
              "      <th>discharge_disposition_id</th>\n",
              "      <th>admission_source_id</th>\n",
              "      <th>time_in_hospital</th>\n",
              "      <th>payer_code</th>\n",
              "      <th>medical_specialty</th>\n",
              "      <th>num_lab_procedures</th>\n",
              "      <th>num_procedures</th>\n",
              "      <th>num_medications</th>\n",
              "      <th>number_outpatient</th>\n",
              "      <th>number_emergency</th>\n",
              "      <th>number_inpatient</th>\n",
              "      <th>diag_1</th>\n",
              "      <th>diag_2</th>\n",
              "      <th>diag_3</th>\n",
              "      <th>number_diagnoses</th>\n",
              "      <th>max_glu_serum</th>\n",
              "      <th>A1Cresult</th>\n",
              "      <th>metformin</th>\n",
              "      <th>repaglinide</th>\n",
              "      <th>nateglinide</th>\n",
              "      <th>chlorpropamide</th>\n",
              "      <th>glimepiride</th>\n",
              "      <th>acetohexamide</th>\n",
              "      <th>glipizide</th>\n",
              "      <th>glyburide</th>\n",
              "      <th>tolbutamide</th>\n",
              "      <th>pioglitazone</th>\n",
              "      <th>rosiglitazone</th>\n",
              "      <th>acarbose</th>\n",
              "      <th>miglitol</th>\n",
              "      <th>troglitazone</th>\n",
              "      <th>tolazamide</th>\n",
              "      <th>examide</th>\n",
              "      <th>citoglipton</th>\n",
              "      <th>insulin</th>\n",
              "      <th>glyburide-metformin</th>\n",
              "      <th>glipizide-metformin</th>\n",
              "      <th>glimepiride-pioglitazone</th>\n",
              "      <th>metformin-rosiglitazone</th>\n",
              "      <th>metformin-pioglitazone</th>\n",
              "      <th>change</th>\n",
              "      <th>diabetesMed</th>\n",
              "      <th>readmitted</th>\n",
              "      <th>health_index</th>\n",
              "      <th>sev_of_disease</th>\n",
              "    </tr>\n",
              "  </thead>\n",
              "  <tbody>\n",
              "    <tr>\n",
              "      <th>0</th>\n",
              "      <td>2278392</td>\n",
              "      <td>8222157</td>\n",
              "      <td>Caucasian</td>\n",
              "      <td>Female</td>\n",
              "      <td>5</td>\n",
              "      <td>5</td>\n",
              "      <td>18</td>\n",
              "      <td>1</td>\n",
              "      <td>1</td>\n",
              "      <td>?</td>\n",
              "      <td>Pediatrics-Endocrinology</td>\n",
              "      <td>41</td>\n",
              "      <td>0</td>\n",
              "      <td>1</td>\n",
              "      <td>0</td>\n",
              "      <td>0</td>\n",
              "      <td>0</td>\n",
              "      <td>diabetes</td>\n",
              "      <td>250.83</td>\n",
              "      <td>250</td>\n",
              "      <td>1</td>\n",
              "      <td>0</td>\n",
              "      <td>0</td>\n",
              "      <td>-20</td>\n",
              "      <td>-20</td>\n",
              "      <td>-20</td>\n",
              "      <td>-20</td>\n",
              "      <td>-20</td>\n",
              "      <td>-20</td>\n",
              "      <td>-20</td>\n",
              "      <td>-20</td>\n",
              "      <td>-20</td>\n",
              "      <td>-20</td>\n",
              "      <td>-20</td>\n",
              "      <td>-20</td>\n",
              "      <td>-20</td>\n",
              "      <td>-20</td>\n",
              "      <td>-20</td>\n",
              "      <td>-20</td>\n",
              "      <td>-20</td>\n",
              "      <td>-20</td>\n",
              "      <td>-20</td>\n",
              "      <td>-20</td>\n",
              "      <td>-20</td>\n",
              "      <td>-20</td>\n",
              "      <td>-20</td>\n",
              "      <td>-1</td>\n",
              "      <td>-1</td>\n",
              "      <td>NO</td>\n",
              "      <td>0.000000</td>\n",
              "      <td>44</td>\n",
              "    </tr>\n",
              "    <tr>\n",
              "      <th>1</th>\n",
              "      <td>149190</td>\n",
              "      <td>55629189</td>\n",
              "      <td>Caucasian</td>\n",
              "      <td>Female</td>\n",
              "      <td>15</td>\n",
              "      <td>1</td>\n",
              "      <td>1</td>\n",
              "      <td>7</td>\n",
              "      <td>3</td>\n",
              "      <td>?</td>\n",
              "      <td>other</td>\n",
              "      <td>59</td>\n",
              "      <td>0</td>\n",
              "      <td>18</td>\n",
              "      <td>0</td>\n",
              "      <td>0</td>\n",
              "      <td>0</td>\n",
              "      <td>other</td>\n",
              "      <td>276</td>\n",
              "      <td>255</td>\n",
              "      <td>9</td>\n",
              "      <td>0</td>\n",
              "      <td>0</td>\n",
              "      <td>-20</td>\n",
              "      <td>-20</td>\n",
              "      <td>-20</td>\n",
              "      <td>-20</td>\n",
              "      <td>-20</td>\n",
              "      <td>-20</td>\n",
              "      <td>-20</td>\n",
              "      <td>-20</td>\n",
              "      <td>-20</td>\n",
              "      <td>-20</td>\n",
              "      <td>-20</td>\n",
              "      <td>-20</td>\n",
              "      <td>-20</td>\n",
              "      <td>-20</td>\n",
              "      <td>-20</td>\n",
              "      <td>-20</td>\n",
              "      <td>-20</td>\n",
              "      <td>10</td>\n",
              "      <td>-20</td>\n",
              "      <td>-20</td>\n",
              "      <td>-20</td>\n",
              "      <td>-20</td>\n",
              "      <td>-20</td>\n",
              "      <td>1</td>\n",
              "      <td>1</td>\n",
              "      <td>&gt;30</td>\n",
              "      <td>0.000000</td>\n",
              "      <td>89</td>\n",
              "    </tr>\n",
              "    <tr>\n",
              "      <th>2</th>\n",
              "      <td>64410</td>\n",
              "      <td>86047875</td>\n",
              "      <td>AfricanAmerican</td>\n",
              "      <td>Female</td>\n",
              "      <td>25</td>\n",
              "      <td>1</td>\n",
              "      <td>1</td>\n",
              "      <td>7</td>\n",
              "      <td>2</td>\n",
              "      <td>?</td>\n",
              "      <td>other</td>\n",
              "      <td>11</td>\n",
              "      <td>5</td>\n",
              "      <td>13</td>\n",
              "      <td>2</td>\n",
              "      <td>0</td>\n",
              "      <td>1</td>\n",
              "      <td>pregnancy</td>\n",
              "      <td>648</td>\n",
              "      <td>V27</td>\n",
              "      <td>6</td>\n",
              "      <td>0</td>\n",
              "      <td>0</td>\n",
              "      <td>-20</td>\n",
              "      <td>-20</td>\n",
              "      <td>-20</td>\n",
              "      <td>-20</td>\n",
              "      <td>-20</td>\n",
              "      <td>-20</td>\n",
              "      <td>0</td>\n",
              "      <td>-20</td>\n",
              "      <td>-20</td>\n",
              "      <td>-20</td>\n",
              "      <td>-20</td>\n",
              "      <td>-20</td>\n",
              "      <td>-20</td>\n",
              "      <td>-20</td>\n",
              "      <td>-20</td>\n",
              "      <td>-20</td>\n",
              "      <td>-20</td>\n",
              "      <td>-20</td>\n",
              "      <td>-20</td>\n",
              "      <td>-20</td>\n",
              "      <td>-20</td>\n",
              "      <td>-20</td>\n",
              "      <td>-20</td>\n",
              "      <td>-1</td>\n",
              "      <td>1</td>\n",
              "      <td>NO</td>\n",
              "      <td>0.333333</td>\n",
              "      <td>37</td>\n",
              "    </tr>\n",
              "    <tr>\n",
              "      <th>3</th>\n",
              "      <td>500364</td>\n",
              "      <td>82442376</td>\n",
              "      <td>Caucasian</td>\n",
              "      <td>Male</td>\n",
              "      <td>35</td>\n",
              "      <td>1</td>\n",
              "      <td>1</td>\n",
              "      <td>7</td>\n",
              "      <td>2</td>\n",
              "      <td>?</td>\n",
              "      <td>other</td>\n",
              "      <td>44</td>\n",
              "      <td>1</td>\n",
              "      <td>16</td>\n",
              "      <td>0</td>\n",
              "      <td>0</td>\n",
              "      <td>0</td>\n",
              "      <td>other</td>\n",
              "      <td>8</td>\n",
              "      <td>403</td>\n",
              "      <td>7</td>\n",
              "      <td>0</td>\n",
              "      <td>0</td>\n",
              "      <td>-20</td>\n",
              "      <td>-20</td>\n",
              "      <td>-20</td>\n",
              "      <td>-20</td>\n",
              "      <td>-20</td>\n",
              "      <td>-20</td>\n",
              "      <td>-20</td>\n",
              "      <td>-20</td>\n",
              "      <td>-20</td>\n",
              "      <td>-20</td>\n",
              "      <td>-20</td>\n",
              "      <td>-20</td>\n",
              "      <td>-20</td>\n",
              "      <td>-20</td>\n",
              "      <td>-20</td>\n",
              "      <td>-20</td>\n",
              "      <td>-20</td>\n",
              "      <td>10</td>\n",
              "      <td>-20</td>\n",
              "      <td>-20</td>\n",
              "      <td>-20</td>\n",
              "      <td>-20</td>\n",
              "      <td>-20</td>\n",
              "      <td>1</td>\n",
              "      <td>1</td>\n",
              "      <td>NO</td>\n",
              "      <td>0.000000</td>\n",
              "      <td>70</td>\n",
              "    </tr>\n",
              "    <tr>\n",
              "      <th>4</th>\n",
              "      <td>16680</td>\n",
              "      <td>42519267</td>\n",
              "      <td>Caucasian</td>\n",
              "      <td>Male</td>\n",
              "      <td>45</td>\n",
              "      <td>1</td>\n",
              "      <td>1</td>\n",
              "      <td>7</td>\n",
              "      <td>1</td>\n",
              "      <td>?</td>\n",
              "      <td>other</td>\n",
              "      <td>51</td>\n",
              "      <td>0</td>\n",
              "      <td>8</td>\n",
              "      <td>0</td>\n",
              "      <td>0</td>\n",
              "      <td>0</td>\n",
              "      <td>neoplasms</td>\n",
              "      <td>197</td>\n",
              "      <td>250</td>\n",
              "      <td>5</td>\n",
              "      <td>0</td>\n",
              "      <td>0</td>\n",
              "      <td>-20</td>\n",
              "      <td>-20</td>\n",
              "      <td>-20</td>\n",
              "      <td>-20</td>\n",
              "      <td>-20</td>\n",
              "      <td>-20</td>\n",
              "      <td>0</td>\n",
              "      <td>-20</td>\n",
              "      <td>-20</td>\n",
              "      <td>-20</td>\n",
              "      <td>-20</td>\n",
              "      <td>-20</td>\n",
              "      <td>-20</td>\n",
              "      <td>-20</td>\n",
              "      <td>-20</td>\n",
              "      <td>-20</td>\n",
              "      <td>-20</td>\n",
              "      <td>0</td>\n",
              "      <td>-20</td>\n",
              "      <td>-20</td>\n",
              "      <td>-20</td>\n",
              "      <td>-20</td>\n",
              "      <td>-20</td>\n",
              "      <td>1</td>\n",
              "      <td>1</td>\n",
              "      <td>NO</td>\n",
              "      <td>0.000000</td>\n",
              "      <td>65</td>\n",
              "    </tr>\n",
              "  </tbody>\n",
              "</table>\n",
              "</div>"
            ],
            "text/plain": [
              "   encounter_id  patient_nbr  ... health_index sev_of_disease\n",
              "0       2278392      8222157  ...     0.000000             44\n",
              "1        149190     55629189  ...     0.000000             89\n",
              "2         64410     86047875  ...     0.333333             37\n",
              "3        500364     82442376  ...     0.000000             70\n",
              "4         16680     42519267  ...     0.000000             65\n",
              "\n",
              "[5 rows x 51 columns]"
            ]
          },
          "metadata": {
            "tags": []
          },
          "execution_count": 20
        }
      ]
    },
    {
      "cell_type": "markdown",
      "metadata": {
        "id": "YID7eapiSrjC"
      },
      "source": [
        "###Getting rid of any unsignificant variables "
      ]
    },
    {
      "cell_type": "code",
      "metadata": {
        "id": "-VGyJfBppdln"
      },
      "source": [
        "categorical_features = ['gender', 'admission_type_id', \n",
        "                        'discharge_disposition_id', 'admission_source_id',\n",
        "                        'medical_specialty', 'diag_1', \n",
        "                        'diag_2', 'diag_3', 'readmitted']"
      ],
      "execution_count": null,
      "outputs": []
    },
    {
      "cell_type": "code",
      "metadata": {
        "colab": {
          "base_uri": "https://localhost:8080/"
        },
        "id": "mFL_1NOGDwmt",
        "outputId": "6c204d6c-b058-446a-e513-947e8c309335"
      },
      "source": [
        "#We going to use chi-square to help choose variables that are going to be important in our model\n",
        "for col in categorical_features : \n",
        "    data_crosstab = pd.crosstab(diabetes['readmitted'],  \n",
        "                                diabetes[col], \n",
        "                                margins = False) \n",
        "\n",
        "    stat, p, dof, expected = stats.chi2_contingency(data_crosstab)\n",
        "    if p < 0.4 :\n",
        "\t    print(p, col, 'is significant')\n",
        "    else:\n",
        "        print(p, col, 'is not significant')\n",
        "        rejected_features.append(col)"
      ],
      "execution_count": null,
      "outputs": [
        {
          "output_type": "stream",
          "text": [
            "0.00015153607660489053 gender is significant\n",
            "8.460787867684963e-65 admission_type_id is significant\n",
            "2.3489254647096393e-190 discharge_disposition_id is significant\n",
            "2.1049560735945086e-113 admission_source_id is significant\n",
            "1.0652134861068028e-94 medical_specialty is significant\n",
            "1.0586142934947594e-79 diag_1 is significant\n",
            "1.0131911285602652e-185 diag_2 is significant\n",
            "1.3859828753617171e-89 diag_3 is significant\n",
            "0.0 readmitted is significant\n"
          ],
          "name": "stdout"
        }
      ]
    },
    {
      "cell_type": "code",
      "metadata": {
        "id": "Y2BwVB8dEjDj"
      },
      "source": [
        "numeric_features = ['age','time_in_hospital', 'num_lab_procedures', \n",
        "                    'num_procedures', 'num_medications', 'number_outpatient', \n",
        "                    'number_emergency', 'number_inpatient', 'number_diagnoses', \n",
        "                    'health_index', 'sev_of_disease', \n",
        "                    'A1Cresult','max_glu_serum','metformin',\n",
        "                    'repaglinide','nateglinide','chlorpropamide',\n",
        "                    'glimepiride','acetohexamide','glipizide',\n",
        "                    'glyburide','tolbutamide','pioglitazone',\n",
        "                    'rosiglitazone','acarbose','miglitol',\n",
        "                    'troglitazone','tolazamide','examide',\n",
        "                    'citoglipton','insulin',\n",
        "                    'glyburide-metformin','glipizide-metformin',\n",
        "                    'glimepiride-pioglitazone','metformin-rosiglitazone',\n",
        "                    'metformin-pioglitazone', 'change', 'diabetesMed']"
      ],
      "execution_count": null,
      "outputs": []
    },
    {
      "cell_type": "code",
      "metadata": {
        "colab": {
          "base_uri": "https://localhost:8080/"
        },
        "id": "eUVDnOToF-oh",
        "outputId": "a7c1694d-fc72-417b-ad83-26750b673db9"
      },
      "source": [
        "rejected_features = []\n",
        "for col in numeric_features :\n",
        "    rho , pval = stats.spearmanr(diabetes['readmitted'], diabetes[col])\n",
        "    if pval < 0.4 : \n",
        "        print(col, 'is significant')\n",
        "    else : \n",
        "        print(col, 'is not significant')\n",
        "        rejected_features.append(col)"
      ],
      "execution_count": null,
      "outputs": [
        {
          "output_type": "stream",
          "text": [
            "age is significant\n",
            "time_in_hospital is significant\n",
            "num_lab_procedures is significant\n",
            "num_procedures is significant\n",
            "num_medications is significant\n",
            "number_outpatient is significant\n",
            "number_emergency is significant\n",
            "number_inpatient is significant\n",
            "number_diagnoses is significant\n",
            "health_index is significant\n",
            "sev_of_disease is significant\n",
            "A1Cresult is significant\n",
            "max_glu_serum is significant\n",
            "metformin is significant\n",
            "repaglinide is significant\n",
            "nateglinide is significant\n",
            "chlorpropamide is not significant\n",
            "glimepiride is not significant\n",
            "acetohexamide is significant\n",
            "glipizide is significant\n",
            "glyburide is significant\n",
            "tolbutamide is not significant\n",
            "pioglitazone is significant\n",
            "rosiglitazone is significant\n",
            "acarbose is significant\n",
            "miglitol is significant\n",
            "troglitazone is not significant\n",
            "tolazamide is significant\n",
            "examide is not significant\n"
          ],
          "name": "stdout"
        },
        {
          "output_type": "stream",
          "text": [
            "/usr/local/lib/python3.7/dist-packages/numpy/lib/function_base.py:2559: RuntimeWarning: invalid value encountered in true_divide\n",
            "  c /= stddev[:, None]\n",
            "/usr/local/lib/python3.7/dist-packages/numpy/lib/function_base.py:2560: RuntimeWarning: invalid value encountered in true_divide\n",
            "  c /= stddev[None, :]\n"
          ],
          "name": "stderr"
        },
        {
          "output_type": "stream",
          "text": [
            "citoglipton is not significant\n",
            "insulin is significant\n",
            "glyburide-metformin is not significant\n",
            "glipizide-metformin is not significant\n",
            "glimepiride-pioglitazone is not significant\n",
            "metformin-rosiglitazone is significant\n",
            "metformin-pioglitazone is not significant\n",
            "change is significant\n",
            "diabetesMed is significant\n"
          ],
          "name": "stdout"
        }
      ]
    },
    {
      "cell_type": "code",
      "metadata": {
        "id": "Q-uC_h5dG1Ui"
      },
      "source": [
        "diabetes_1 = diabetes.filter(['gender', 'age', \n",
        " 'admission_type_id', \n",
        " 'discharge_disposition_id', \n",
        " 'admission_source_id', 'time_in_hospital', \n",
        " 'medical_specialty', 'num_lab_procedures', \n",
        " 'num_procedures', 'num_medications', \n",
        " 'number_outpatient', 'number_emergency', \n",
        " 'number_inpatient', 'diag_1', 'diag_2', \n",
        " 'diag_3', 'number_diagnoses', 'max_glu_serum',\n",
        " 'A1Cresult', 'metformin', 'repaglinide',\n",
        " 'nateglinide', 'chlorpropamide', 'glipizide',\n",
        " 'glyburide', \n",
        " 'tolazamide', 'insulin', \n",
        " 'change', 'diabetesMed', 'race', \n",
        " 'health_index', 'sev_of_disease','readmitted'], axis=1)"
      ],
      "execution_count": null,
      "outputs": []
    },
    {
      "cell_type": "code",
      "metadata": {
        "colab": {
          "base_uri": "https://localhost:8080/"
        },
        "id": "1wf0ie7aSgkW",
        "outputId": "b2ca7939-46d2-4f70-fa25-3714e0292324"
      },
      "source": [
        "diabetes_1.head()"
      ],
      "execution_count": null,
      "outputs": [
        {
          "output_type": "execute_result",
          "data": {
            "text/html": [
              "<div>\n",
              "<style scoped>\n",
              "    .dataframe tbody tr th:only-of-type {\n",
              "        vertical-align: middle;\n",
              "    }\n",
              "\n",
              "    .dataframe tbody tr th {\n",
              "        vertical-align: top;\n",
              "    }\n",
              "\n",
              "    .dataframe thead th {\n",
              "        text-align: right;\n",
              "    }\n",
              "</style>\n",
              "<table border=\"1\" class=\"dataframe\">\n",
              "  <thead>\n",
              "    <tr style=\"text-align: right;\">\n",
              "      <th></th>\n",
              "      <th>gender</th>\n",
              "      <th>age</th>\n",
              "      <th>admission_type_id</th>\n",
              "      <th>discharge_disposition_id</th>\n",
              "      <th>admission_source_id</th>\n",
              "      <th>time_in_hospital</th>\n",
              "      <th>medical_specialty</th>\n",
              "      <th>num_lab_procedures</th>\n",
              "      <th>num_procedures</th>\n",
              "      <th>num_medications</th>\n",
              "      <th>number_outpatient</th>\n",
              "      <th>number_emergency</th>\n",
              "      <th>number_inpatient</th>\n",
              "      <th>diag_1</th>\n",
              "      <th>diag_2</th>\n",
              "      <th>diag_3</th>\n",
              "      <th>number_diagnoses</th>\n",
              "      <th>max_glu_serum</th>\n",
              "      <th>A1Cresult</th>\n",
              "      <th>metformin</th>\n",
              "      <th>repaglinide</th>\n",
              "      <th>nateglinide</th>\n",
              "      <th>chlorpropamide</th>\n",
              "      <th>glipizide</th>\n",
              "      <th>glyburide</th>\n",
              "      <th>tolazamide</th>\n",
              "      <th>insulin</th>\n",
              "      <th>change</th>\n",
              "      <th>diabetesMed</th>\n",
              "      <th>race</th>\n",
              "      <th>health_index</th>\n",
              "      <th>sev_of_disease</th>\n",
              "      <th>readmitted</th>\n",
              "    </tr>\n",
              "  </thead>\n",
              "  <tbody>\n",
              "    <tr>\n",
              "      <th>0</th>\n",
              "      <td>Female</td>\n",
              "      <td>5</td>\n",
              "      <td>5</td>\n",
              "      <td>18</td>\n",
              "      <td>1</td>\n",
              "      <td>1</td>\n",
              "      <td>Pediatrics-Endocrinology</td>\n",
              "      <td>41</td>\n",
              "      <td>0</td>\n",
              "      <td>1</td>\n",
              "      <td>0</td>\n",
              "      <td>0</td>\n",
              "      <td>0</td>\n",
              "      <td>diabetes</td>\n",
              "      <td>250.83</td>\n",
              "      <td>250</td>\n",
              "      <td>1</td>\n",
              "      <td>0</td>\n",
              "      <td>0</td>\n",
              "      <td>-20</td>\n",
              "      <td>-20</td>\n",
              "      <td>-20</td>\n",
              "      <td>-20</td>\n",
              "      <td>-20</td>\n",
              "      <td>-20</td>\n",
              "      <td>-20</td>\n",
              "      <td>-20</td>\n",
              "      <td>-1</td>\n",
              "      <td>-1</td>\n",
              "      <td>Caucasian</td>\n",
              "      <td>0.000000</td>\n",
              "      <td>44</td>\n",
              "      <td>NO</td>\n",
              "    </tr>\n",
              "    <tr>\n",
              "      <th>1</th>\n",
              "      <td>Female</td>\n",
              "      <td>15</td>\n",
              "      <td>1</td>\n",
              "      <td>1</td>\n",
              "      <td>7</td>\n",
              "      <td>3</td>\n",
              "      <td>other</td>\n",
              "      <td>59</td>\n",
              "      <td>0</td>\n",
              "      <td>18</td>\n",
              "      <td>0</td>\n",
              "      <td>0</td>\n",
              "      <td>0</td>\n",
              "      <td>other</td>\n",
              "      <td>276</td>\n",
              "      <td>255</td>\n",
              "      <td>9</td>\n",
              "      <td>0</td>\n",
              "      <td>0</td>\n",
              "      <td>-20</td>\n",
              "      <td>-20</td>\n",
              "      <td>-20</td>\n",
              "      <td>-20</td>\n",
              "      <td>-20</td>\n",
              "      <td>-20</td>\n",
              "      <td>-20</td>\n",
              "      <td>10</td>\n",
              "      <td>1</td>\n",
              "      <td>1</td>\n",
              "      <td>Caucasian</td>\n",
              "      <td>0.000000</td>\n",
              "      <td>89</td>\n",
              "      <td>&gt;30</td>\n",
              "    </tr>\n",
              "    <tr>\n",
              "      <th>2</th>\n",
              "      <td>Female</td>\n",
              "      <td>25</td>\n",
              "      <td>1</td>\n",
              "      <td>1</td>\n",
              "      <td>7</td>\n",
              "      <td>2</td>\n",
              "      <td>other</td>\n",
              "      <td>11</td>\n",
              "      <td>5</td>\n",
              "      <td>13</td>\n",
              "      <td>2</td>\n",
              "      <td>0</td>\n",
              "      <td>1</td>\n",
              "      <td>pregnancy</td>\n",
              "      <td>648</td>\n",
              "      <td>V27</td>\n",
              "      <td>6</td>\n",
              "      <td>0</td>\n",
              "      <td>0</td>\n",
              "      <td>-20</td>\n",
              "      <td>-20</td>\n",
              "      <td>-20</td>\n",
              "      <td>-20</td>\n",
              "      <td>0</td>\n",
              "      <td>-20</td>\n",
              "      <td>-20</td>\n",
              "      <td>-20</td>\n",
              "      <td>-1</td>\n",
              "      <td>1</td>\n",
              "      <td>AfricanAmerican</td>\n",
              "      <td>0.333333</td>\n",
              "      <td>37</td>\n",
              "      <td>NO</td>\n",
              "    </tr>\n",
              "    <tr>\n",
              "      <th>3</th>\n",
              "      <td>Male</td>\n",
              "      <td>35</td>\n",
              "      <td>1</td>\n",
              "      <td>1</td>\n",
              "      <td>7</td>\n",
              "      <td>2</td>\n",
              "      <td>other</td>\n",
              "      <td>44</td>\n",
              "      <td>1</td>\n",
              "      <td>16</td>\n",
              "      <td>0</td>\n",
              "      <td>0</td>\n",
              "      <td>0</td>\n",
              "      <td>other</td>\n",
              "      <td>8</td>\n",
              "      <td>403</td>\n",
              "      <td>7</td>\n",
              "      <td>0</td>\n",
              "      <td>0</td>\n",
              "      <td>-20</td>\n",
              "      <td>-20</td>\n",
              "      <td>-20</td>\n",
              "      <td>-20</td>\n",
              "      <td>-20</td>\n",
              "      <td>-20</td>\n",
              "      <td>-20</td>\n",
              "      <td>10</td>\n",
              "      <td>1</td>\n",
              "      <td>1</td>\n",
              "      <td>Caucasian</td>\n",
              "      <td>0.000000</td>\n",
              "      <td>70</td>\n",
              "      <td>NO</td>\n",
              "    </tr>\n",
              "    <tr>\n",
              "      <th>4</th>\n",
              "      <td>Male</td>\n",
              "      <td>45</td>\n",
              "      <td>1</td>\n",
              "      <td>1</td>\n",
              "      <td>7</td>\n",
              "      <td>1</td>\n",
              "      <td>other</td>\n",
              "      <td>51</td>\n",
              "      <td>0</td>\n",
              "      <td>8</td>\n",
              "      <td>0</td>\n",
              "      <td>0</td>\n",
              "      <td>0</td>\n",
              "      <td>neoplasms</td>\n",
              "      <td>197</td>\n",
              "      <td>250</td>\n",
              "      <td>5</td>\n",
              "      <td>0</td>\n",
              "      <td>0</td>\n",
              "      <td>-20</td>\n",
              "      <td>-20</td>\n",
              "      <td>-20</td>\n",
              "      <td>-20</td>\n",
              "      <td>0</td>\n",
              "      <td>-20</td>\n",
              "      <td>-20</td>\n",
              "      <td>0</td>\n",
              "      <td>1</td>\n",
              "      <td>1</td>\n",
              "      <td>Caucasian</td>\n",
              "      <td>0.000000</td>\n",
              "      <td>65</td>\n",
              "      <td>NO</td>\n",
              "    </tr>\n",
              "  </tbody>\n",
              "</table>\n",
              "</div>"
            ],
            "text/plain": [
              "   gender  age  admission_type_id  ...  health_index  sev_of_disease  readmitted\n",
              "0  Female    5                  5  ...      0.000000              44          NO\n",
              "1  Female   15                  1  ...      0.000000              89         >30\n",
              "2  Female   25                  1  ...      0.333333              37          NO\n",
              "3    Male   35                  1  ...      0.000000              70          NO\n",
              "4    Male   45                  1  ...      0.000000              65          NO\n",
              "\n",
              "[5 rows x 33 columns]"
            ]
          },
          "metadata": {
            "tags": []
          },
          "execution_count": 26
        }
      ]
    },
    {
      "cell_type": "markdown",
      "metadata": {
        "id": "lRDggBvQ3gmG"
      },
      "source": [
        "##Statistic Analysis"
      ]
    },
    {
      "cell_type": "code",
      "metadata": {
        "colab": {
          "base_uri": "https://localhost:8080/"
        },
        "id": "p1i0hWHRt0y5",
        "outputId": "f3737581-2268-4f39-f8c5-74484e9d88b1"
      },
      "source": [
        "diabetes_BM.groupby('readmitted').size().plot(kind = 'bar')\n",
        "plt.ylabel('Count')\n",
        "plt.title('Number of Readmitted');"
      ],
      "execution_count": null,
      "outputs": [
        {
          "output_type": "display_data",
          "data": {
            "image/png": "[encoded data removed]",
            "text/plain": [
              "<Figure size 432x288 with 1 Axes>"
            ]
          },
          "metadata": {
            "tags": [],
            "needs_background": "light"
          }
        }
      ]
    },
    {
      "cell_type": "code",
      "metadata": {
        "colab": {
          "base_uri": "https://localhost:8080/"
        },
        "id": "hrA3BN6H2UMX",
        "outputId": "0ceb1260-18a1-4e81-e425-e8493243168e"
      },
      "source": [
        "diabetes['readmitted'] = diabetes['readmitted'].replace({'NO':0})\n",
        "print(sum(diabetes['readmitted'] == 0))"
      ],
      "execution_count": null,
      "outputs": [
        {
          "output_type": "stream",
          "text": [
            "41901\n"
          ],
          "name": "stdout"
        }
      ]
    },
    {
      "cell_type": "code",
      "metadata": {
        "colab": {
          "base_uri": "https://localhost:8080/"
        },
        "id": "x-6l9i40wUOa",
        "outputId": "39d91bff-8629-44ac-c312-a4e9052174fb"
      },
      "source": [
        "diabetes.head()"
      ],
      "execution_count": null,
      "outputs": [
        {
          "output_type": "execute_result",
          "data": {
            "text/html": [
              "<div>\n",
              "<style scoped>\n",
              "    .dataframe tbody tr th:only-of-type {\n",
              "        vertical-align: middle;\n",
              "    }\n",
              "\n",
              "    .dataframe tbody tr th {\n",
              "        vertical-align: top;\n",
              "    }\n",
              "\n",
              "    .dataframe thead th {\n",
              "        text-align: right;\n",
              "    }\n",
              "</style>\n",
              "<table border=\"1\" class=\"dataframe\">\n",
              "  <thead>\n",
              "    <tr style=\"text-align: right;\">\n",
              "      <th></th>\n",
              "      <th>encounter_id</th>\n",
              "      <th>patient_nbr</th>\n",
              "      <th>race</th>\n",
              "      <th>gender</th>\n",
              "      <th>age</th>\n",
              "      <th>admission_type_id</th>\n",
              "      <th>discharge_disposition_id</th>\n",
              "      <th>admission_source_id</th>\n",
              "      <th>time_in_hospital</th>\n",
              "      <th>payer_code</th>\n",
              "      <th>medical_specialty</th>\n",
              "      <th>num_lab_procedures</th>\n",
              "      <th>num_procedures</th>\n",
              "      <th>num_medications</th>\n",
              "      <th>number_outpatient</th>\n",
              "      <th>number_emergency</th>\n",
              "      <th>number_inpatient</th>\n",
              "      <th>diag_1</th>\n",
              "      <th>diag_2</th>\n",
              "      <th>diag_3</th>\n",
              "      <th>number_diagnoses</th>\n",
              "      <th>max_glu_serum</th>\n",
              "      <th>A1Cresult</th>\n",
              "      <th>metformin</th>\n",
              "      <th>repaglinide</th>\n",
              "      <th>nateglinide</th>\n",
              "      <th>chlorpropamide</th>\n",
              "      <th>glimepiride</th>\n",
              "      <th>acetohexamide</th>\n",
              "      <th>glipizide</th>\n",
              "      <th>glyburide</th>\n",
              "      <th>tolbutamide</th>\n",
              "      <th>pioglitazone</th>\n",
              "      <th>rosiglitazone</th>\n",
              "      <th>acarbose</th>\n",
              "      <th>miglitol</th>\n",
              "      <th>troglitazone</th>\n",
              "      <th>tolazamide</th>\n",
              "      <th>examide</th>\n",
              "      <th>citoglipton</th>\n",
              "      <th>insulin</th>\n",
              "      <th>glyburide-metformin</th>\n",
              "      <th>glipizide-metformin</th>\n",
              "      <th>glimepiride-pioglitazone</th>\n",
              "      <th>metformin-rosiglitazone</th>\n",
              "      <th>metformin-pioglitazone</th>\n",
              "      <th>change</th>\n",
              "      <th>diabetesMed</th>\n",
              "      <th>readmitted</th>\n",
              "      <th>health_index</th>\n",
              "      <th>sev_of_disease</th>\n",
              "    </tr>\n",
              "  </thead>\n",
              "  <tbody>\n",
              "    <tr>\n",
              "      <th>0</th>\n",
              "      <td>2278392</td>\n",
              "      <td>8222157</td>\n",
              "      <td>Caucasian</td>\n",
              "      <td>Female</td>\n",
              "      <td>5</td>\n",
              "      <td>5</td>\n",
              "      <td>18</td>\n",
              "      <td>1</td>\n",
              "      <td>1</td>\n",
              "      <td>?</td>\n",
              "      <td>Pediatrics-Endocrinology</td>\n",
              "      <td>41</td>\n",
              "      <td>0</td>\n",
              "      <td>1</td>\n",
              "      <td>0</td>\n",
              "      <td>0</td>\n",
              "      <td>0</td>\n",
              "      <td>diabetes</td>\n",
              "      <td>250.83</td>\n",
              "      <td>250</td>\n",
              "      <td>1</td>\n",
              "      <td>0</td>\n",
              "      <td>0</td>\n",
              "      <td>-20</td>\n",
              "      <td>-20</td>\n",
              "      <td>-20</td>\n",
              "      <td>-20</td>\n",
              "      <td>-20</td>\n",
              "      <td>-20</td>\n",
              "      <td>-20</td>\n",
              "      <td>-20</td>\n",
              "      <td>-20</td>\n",
              "      <td>-20</td>\n",
              "      <td>-20</td>\n",
              "      <td>-20</td>\n",
              "      <td>-20</td>\n",
              "      <td>-20</td>\n",
              "      <td>-20</td>\n",
              "      <td>-20</td>\n",
              "      <td>-20</td>\n",
              "      <td>-20</td>\n",
              "      <td>-20</td>\n",
              "      <td>-20</td>\n",
              "      <td>-20</td>\n",
              "      <td>-20</td>\n",
              "      <td>-20</td>\n",
              "      <td>-1</td>\n",
              "      <td>-1</td>\n",
              "      <td>0</td>\n",
              "      <td>0.000000</td>\n",
              "      <td>44</td>\n",
              "    </tr>\n",
              "    <tr>\n",
              "      <th>1</th>\n",
              "      <td>149190</td>\n",
              "      <td>55629189</td>\n",
              "      <td>Caucasian</td>\n",
              "      <td>Female</td>\n",
              "      <td>15</td>\n",
              "      <td>1</td>\n",
              "      <td>1</td>\n",
              "      <td>7</td>\n",
              "      <td>3</td>\n",
              "      <td>?</td>\n",
              "      <td>other</td>\n",
              "      <td>59</td>\n",
              "      <td>0</td>\n",
              "      <td>18</td>\n",
              "      <td>0</td>\n",
              "      <td>0</td>\n",
              "      <td>0</td>\n",
              "      <td>other</td>\n",
              "      <td>276</td>\n",
              "      <td>255</td>\n",
              "      <td>9</td>\n",
              "      <td>0</td>\n",
              "      <td>0</td>\n",
              "      <td>-20</td>\n",
              "      <td>-20</td>\n",
              "      <td>-20</td>\n",
              "      <td>-20</td>\n",
              "      <td>-20</td>\n",
              "      <td>-20</td>\n",
              "      <td>-20</td>\n",
              "      <td>-20</td>\n",
              "      <td>-20</td>\n",
              "      <td>-20</td>\n",
              "      <td>-20</td>\n",
              "      <td>-20</td>\n",
              "      <td>-20</td>\n",
              "      <td>-20</td>\n",
              "      <td>-20</td>\n",
              "      <td>-20</td>\n",
              "      <td>-20</td>\n",
              "      <td>10</td>\n",
              "      <td>-20</td>\n",
              "      <td>-20</td>\n",
              "      <td>-20</td>\n",
              "      <td>-20</td>\n",
              "      <td>-20</td>\n",
              "      <td>1</td>\n",
              "      <td>1</td>\n",
              "      <td>&gt;30</td>\n",
              "      <td>0.000000</td>\n",
              "      <td>89</td>\n",
              "    </tr>\n",
              "    <tr>\n",
              "      <th>2</th>\n",
              "      <td>64410</td>\n",
              "      <td>86047875</td>\n",
              "      <td>AfricanAmerican</td>\n",
              "      <td>Female</td>\n",
              "      <td>25</td>\n",
              "      <td>1</td>\n",
              "      <td>1</td>\n",
              "      <td>7</td>\n",
              "      <td>2</td>\n",
              "      <td>?</td>\n",
              "      <td>other</td>\n",
              "      <td>11</td>\n",
              "      <td>5</td>\n",
              "      <td>13</td>\n",
              "      <td>2</td>\n",
              "      <td>0</td>\n",
              "      <td>1</td>\n",
              "      <td>pregnancy</td>\n",
              "      <td>648</td>\n",
              "      <td>V27</td>\n",
              "      <td>6</td>\n",
              "      <td>0</td>\n",
              "      <td>0</td>\n",
              "      <td>-20</td>\n",
              "      <td>-20</td>\n",
              "      <td>-20</td>\n",
              "      <td>-20</td>\n",
              "      <td>-20</td>\n",
              "      <td>-20</td>\n",
              "      <td>0</td>\n",
              "      <td>-20</td>\n",
              "      <td>-20</td>\n",
              "      <td>-20</td>\n",
              "      <td>-20</td>\n",
              "      <td>-20</td>\n",
              "      <td>-20</td>\n",
              "      <td>-20</td>\n",
              "      <td>-20</td>\n",
              "      <td>-20</td>\n",
              "      <td>-20</td>\n",
              "      <td>-20</td>\n",
              "      <td>-20</td>\n",
              "      <td>-20</td>\n",
              "      <td>-20</td>\n",
              "      <td>-20</td>\n",
              "      <td>-20</td>\n",
              "      <td>-1</td>\n",
              "      <td>1</td>\n",
              "      <td>0</td>\n",
              "      <td>0.333333</td>\n",
              "      <td>37</td>\n",
              "    </tr>\n",
              "    <tr>\n",
              "      <th>3</th>\n",
              "      <td>500364</td>\n",
              "      <td>82442376</td>\n",
              "      <td>Caucasian</td>\n",
              "      <td>Male</td>\n",
              "      <td>35</td>\n",
              "      <td>1</td>\n",
              "      <td>1</td>\n",
              "      <td>7</td>\n",
              "      <td>2</td>\n",
              "      <td>?</td>\n",
              "      <td>other</td>\n",
              "      <td>44</td>\n",
              "      <td>1</td>\n",
              "      <td>16</td>\n",
              "      <td>0</td>\n",
              "      <td>0</td>\n",
              "      <td>0</td>\n",
              "      <td>other</td>\n",
              "      <td>8</td>\n",
              "      <td>403</td>\n",
              "      <td>7</td>\n",
              "      <td>0</td>\n",
              "      <td>0</td>\n",
              "      <td>-20</td>\n",
              "      <td>-20</td>\n",
              "      <td>-20</td>\n",
              "      <td>-20</td>\n",
              "      <td>-20</td>\n",
              "      <td>-20</td>\n",
              "      <td>-20</td>\n",
              "      <td>-20</td>\n",
              "      <td>-20</td>\n",
              "      <td>-20</td>\n",
              "      <td>-20</td>\n",
              "      <td>-20</td>\n",
              "      <td>-20</td>\n",
              "      <td>-20</td>\n",
              "      <td>-20</td>\n",
              "      <td>-20</td>\n",
              "      <td>-20</td>\n",
              "      <td>10</td>\n",
              "      <td>-20</td>\n",
              "      <td>-20</td>\n",
              "      <td>-20</td>\n",
              "      <td>-20</td>\n",
              "      <td>-20</td>\n",
              "      <td>1</td>\n",
              "      <td>1</td>\n",
              "      <td>0</td>\n",
              "      <td>0.000000</td>\n",
              "      <td>70</td>\n",
              "    </tr>\n",
              "    <tr>\n",
              "      <th>4</th>\n",
              "      <td>16680</td>\n",
              "      <td>42519267</td>\n",
              "      <td>Caucasian</td>\n",
              "      <td>Male</td>\n",
              "      <td>45</td>\n",
              "      <td>1</td>\n",
              "      <td>1</td>\n",
              "      <td>7</td>\n",
              "      <td>1</td>\n",
              "      <td>?</td>\n",
              "      <td>other</td>\n",
              "      <td>51</td>\n",
              "      <td>0</td>\n",
              "      <td>8</td>\n",
              "      <td>0</td>\n",
              "      <td>0</td>\n",
              "      <td>0</td>\n",
              "      <td>neoplasms</td>\n",
              "      <td>197</td>\n",
              "      <td>250</td>\n",
              "      <td>5</td>\n",
              "      <td>0</td>\n",
              "      <td>0</td>\n",
              "      <td>-20</td>\n",
              "      <td>-20</td>\n",
              "      <td>-20</td>\n",
              "      <td>-20</td>\n",
              "      <td>-20</td>\n",
              "      <td>-20</td>\n",
              "      <td>0</td>\n",
              "      <td>-20</td>\n",
              "      <td>-20</td>\n",
              "      <td>-20</td>\n",
              "      <td>-20</td>\n",
              "      <td>-20</td>\n",
              "      <td>-20</td>\n",
              "      <td>-20</td>\n",
              "      <td>-20</td>\n",
              "      <td>-20</td>\n",
              "      <td>-20</td>\n",
              "      <td>0</td>\n",
              "      <td>-20</td>\n",
              "      <td>-20</td>\n",
              "      <td>-20</td>\n",
              "      <td>-20</td>\n",
              "      <td>-20</td>\n",
              "      <td>1</td>\n",
              "      <td>1</td>\n",
              "      <td>0</td>\n",
              "      <td>0.000000</td>\n",
              "      <td>65</td>\n",
              "    </tr>\n",
              "  </tbody>\n",
              "</table>\n",
              "</div>"
            ],
            "text/plain": [
              "   encounter_id  patient_nbr  ... health_index sev_of_disease\n",
              "0       2278392      8222157  ...     0.000000             44\n",
              "1        149190     55629189  ...     0.000000             89\n",
              "2         64410     86047875  ...     0.333333             37\n",
              "3        500364     82442376  ...     0.000000             70\n",
              "4         16680     42519267  ...     0.000000             65\n",
              "\n",
              "[5 rows x 51 columns]"
            ]
          },
          "metadata": {
            "tags": []
          },
          "execution_count": 29
        }
      ]
    },
    {
      "cell_type": "code",
      "metadata": {
        "colab": {
          "base_uri": "https://localhost:8080/"
        },
        "id": "W1w8w7dW0oTc",
        "outputId": "24ae6e61-8492-44f6-ad15-0de351e79e9b"
      },
      "source": [
        "fig = plt.figure()\n",
        "ax = diabetes[(diabetes.readmitted == 0) & (diabetes.diabetesMed == -1)].change.value_counts().\\\n",
        "     plot.pie(autopct=\"%1.1f%%\", startangle=120, textprops={'fontsize': 12, 'color':'#0a0a00'},)\n",
        "\n",
        "fig = plt.figure()\n",
        "ax = diabetes[(diabetes.readmitted == 0) & (diabetes.diabetesMed == 1)].change.value_counts().\\\n",
        "     plot.pie(autopct=\"%1.1f%%\", startangle=120,textprops={'fontsize': 12, 'color':'#0a0a00'},)"
      ],
      "execution_count": null,
      "outputs": [
        {
          "output_type": "display_data",
          "data": {
            "image/png": "[encoded data removed]",
            "text/plain": [
              "<Figure size 432x288 with 1 Axes>"
            ]
          },
          "metadata": {
            "tags": []
          }
        },
        {
          "output_type": "display_data",
          "data": {
            "image/png": "[encoded data removed]",
            "text/plain": [
              "<Figure size 432x288 with 1 Axes>"
            ]
          },
          "metadata": {
            "tags": []
          }
        }
      ]
    },
    {
      "cell_type": "code",
      "metadata": {
        "colab": {
          "base_uri": "https://localhost:8080/"
        },
        "id": "MZHliLs60p_u",
        "outputId": "91763b50-aaa3-4011-d83c-c6b5b3394306"
      },
      "source": [
        "diabetes.head()"
      ],
      "execution_count": null,
      "outputs": [
        {
          "output_type": "execute_result",
          "data": {
            "text/html": [
              "<div>\n",
              "<style scoped>\n",
              "    .dataframe tbody tr th:only-of-type {\n",
              "        vertical-align: middle;\n",
              "    }\n",
              "\n",
              "    .dataframe tbody tr th {\n",
              "        vertical-align: top;\n",
              "    }\n",
              "\n",
              "    .dataframe thead th {\n",
              "        text-align: right;\n",
              "    }\n",
              "</style>\n",
              "<table border=\"1\" class=\"dataframe\">\n",
              "  <thead>\n",
              "    <tr style=\"text-align: right;\">\n",
              "      <th></th>\n",
              "      <th>encounter_id</th>\n",
              "      <th>patient_nbr</th>\n",
              "      <th>race</th>\n",
              "      <th>gender</th>\n",
              "      <th>age</th>\n",
              "      <th>admission_type_id</th>\n",
              "      <th>discharge_disposition_id</th>\n",
              "      <th>admission_source_id</th>\n",
              "      <th>time_in_hospital</th>\n",
              "      <th>payer_code</th>\n",
              "      <th>medical_specialty</th>\n",
              "      <th>num_lab_procedures</th>\n",
              "      <th>num_procedures</th>\n",
              "      <th>num_medications</th>\n",
              "      <th>number_outpatient</th>\n",
              "      <th>number_emergency</th>\n",
              "      <th>number_inpatient</th>\n",
              "      <th>diag_1</th>\n",
              "      <th>diag_2</th>\n",
              "      <th>diag_3</th>\n",
              "      <th>number_diagnoses</th>\n",
              "      <th>max_glu_serum</th>\n",
              "      <th>A1Cresult</th>\n",
              "      <th>metformin</th>\n",
              "      <th>repaglinide</th>\n",
              "      <th>nateglinide</th>\n",
              "      <th>chlorpropamide</th>\n",
              "      <th>glimepiride</th>\n",
              "      <th>acetohexamide</th>\n",
              "      <th>glipizide</th>\n",
              "      <th>glyburide</th>\n",
              "      <th>tolbutamide</th>\n",
              "      <th>pioglitazone</th>\n",
              "      <th>rosiglitazone</th>\n",
              "      <th>acarbose</th>\n",
              "      <th>miglitol</th>\n",
              "      <th>troglitazone</th>\n",
              "      <th>tolazamide</th>\n",
              "      <th>examide</th>\n",
              "      <th>citoglipton</th>\n",
              "      <th>insulin</th>\n",
              "      <th>glyburide-metformin</th>\n",
              "      <th>glipizide-metformin</th>\n",
              "      <th>glimepiride-pioglitazone</th>\n",
              "      <th>metformin-rosiglitazone</th>\n",
              "      <th>metformin-pioglitazone</th>\n",
              "      <th>change</th>\n",
              "      <th>diabetesMed</th>\n",
              "      <th>readmitted</th>\n",
              "      <th>health_index</th>\n",
              "      <th>sev_of_disease</th>\n",
              "    </tr>\n",
              "  </thead>\n",
              "  <tbody>\n",
              "    <tr>\n",
              "      <th>0</th>\n",
              "      <td>2278392</td>\n",
              "      <td>8222157</td>\n",
              "      <td>Caucasian</td>\n",
              "      <td>Female</td>\n",
              "      <td>5</td>\n",
              "      <td>5</td>\n",
              "      <td>18</td>\n",
              "      <td>1</td>\n",
              "      <td>1</td>\n",
              "      <td>?</td>\n",
              "      <td>Pediatrics-Endocrinology</td>\n",
              "      <td>41</td>\n",
              "      <td>0</td>\n",
              "      <td>1</td>\n",
              "      <td>0</td>\n",
              "      <td>0</td>\n",
              "      <td>0</td>\n",
              "      <td>diabetes</td>\n",
              "      <td>250.83</td>\n",
              "      <td>250</td>\n",
              "      <td>1</td>\n",
              "      <td>0</td>\n",
              "      <td>0</td>\n",
              "      <td>-20</td>\n",
              "      <td>-20</td>\n",
              "      <td>-20</td>\n",
              "      <td>-20</td>\n",
              "      <td>-20</td>\n",
              "      <td>-20</td>\n",
              "      <td>-20</td>\n",
              "      <td>-20</td>\n",
              "      <td>-20</td>\n",
              "      <td>-20</td>\n",
              "      <td>-20</td>\n",
              "      <td>-20</td>\n",
              "      <td>-20</td>\n",
              "      <td>-20</td>\n",
              "      <td>-20</td>\n",
              "      <td>-20</td>\n",
              "      <td>-20</td>\n",
              "      <td>-20</td>\n",
              "      <td>-20</td>\n",
              "      <td>-20</td>\n",
              "      <td>-20</td>\n",
              "      <td>-20</td>\n",
              "      <td>-20</td>\n",
              "      <td>-1</td>\n",
              "      <td>-1</td>\n",
              "      <td>0</td>\n",
              "      <td>0.000000</td>\n",
              "      <td>44</td>\n",
              "    </tr>\n",
              "    <tr>\n",
              "      <th>1</th>\n",
              "      <td>149190</td>\n",
              "      <td>55629189</td>\n",
              "      <td>Caucasian</td>\n",
              "      <td>Female</td>\n",
              "      <td>15</td>\n",
              "      <td>1</td>\n",
              "      <td>1</td>\n",
              "      <td>7</td>\n",
              "      <td>3</td>\n",
              "      <td>?</td>\n",
              "      <td>other</td>\n",
              "      <td>59</td>\n",
              "      <td>0</td>\n",
              "      <td>18</td>\n",
              "      <td>0</td>\n",
              "      <td>0</td>\n",
              "      <td>0</td>\n",
              "      <td>other</td>\n",
              "      <td>276</td>\n",
              "      <td>255</td>\n",
              "      <td>9</td>\n",
              "      <td>0</td>\n",
              "      <td>0</td>\n",
              "      <td>-20</td>\n",
              "      <td>-20</td>\n",
              "      <td>-20</td>\n",
              "      <td>-20</td>\n",
              "      <td>-20</td>\n",
              "      <td>-20</td>\n",
              "      <td>-20</td>\n",
              "      <td>-20</td>\n",
              "      <td>-20</td>\n",
              "      <td>-20</td>\n",
              "      <td>-20</td>\n",
              "      <td>-20</td>\n",
              "      <td>-20</td>\n",
              "      <td>-20</td>\n",
              "      <td>-20</td>\n",
              "      <td>-20</td>\n",
              "      <td>-20</td>\n",
              "      <td>10</td>\n",
              "      <td>-20</td>\n",
              "      <td>-20</td>\n",
              "      <td>-20</td>\n",
              "      <td>-20</td>\n",
              "      <td>-20</td>\n",
              "      <td>1</td>\n",
              "      <td>1</td>\n",
              "      <td>&gt;30</td>\n",
              "      <td>0.000000</td>\n",
              "      <td>89</td>\n",
              "    </tr>\n",
              "    <tr>\n",
              "      <th>2</th>\n",
              "      <td>64410</td>\n",
              "      <td>86047875</td>\n",
              "      <td>AfricanAmerican</td>\n",
              "      <td>Female</td>\n",
              "      <td>25</td>\n",
              "      <td>1</td>\n",
              "      <td>1</td>\n",
              "      <td>7</td>\n",
              "      <td>2</td>\n",
              "      <td>?</td>\n",
              "      <td>other</td>\n",
              "      <td>11</td>\n",
              "      <td>5</td>\n",
              "      <td>13</td>\n",
              "      <td>2</td>\n",
              "      <td>0</td>\n",
              "      <td>1</td>\n",
              "      <td>pregnancy</td>\n",
              "      <td>648</td>\n",
              "      <td>V27</td>\n",
              "      <td>6</td>\n",
              "      <td>0</td>\n",
              "      <td>0</td>\n",
              "      <td>-20</td>\n",
              "      <td>-20</td>\n",
              "      <td>-20</td>\n",
              "      <td>-20</td>\n",
              "      <td>-20</td>\n",
              "      <td>-20</td>\n",
              "      <td>0</td>\n",
              "      <td>-20</td>\n",
              "      <td>-20</td>\n",
              "      <td>-20</td>\n",
              "      <td>-20</td>\n",
              "      <td>-20</td>\n",
              "      <td>-20</td>\n",
              "      <td>-20</td>\n",
              "      <td>-20</td>\n",
              "      <td>-20</td>\n",
              "      <td>-20</td>\n",
              "      <td>-20</td>\n",
              "      <td>-20</td>\n",
              "      <td>-20</td>\n",
              "      <td>-20</td>\n",
              "      <td>-20</td>\n",
              "      <td>-20</td>\n",
              "      <td>-1</td>\n",
              "      <td>1</td>\n",
              "      <td>0</td>\n",
              "      <td>0.333333</td>\n",
              "      <td>37</td>\n",
              "    </tr>\n",
              "    <tr>\n",
              "      <th>3</th>\n",
              "      <td>500364</td>\n",
              "      <td>82442376</td>\n",
              "      <td>Caucasian</td>\n",
              "      <td>Male</td>\n",
              "      <td>35</td>\n",
              "      <td>1</td>\n",
              "      <td>1</td>\n",
              "      <td>7</td>\n",
              "      <td>2</td>\n",
              "      <td>?</td>\n",
              "      <td>other</td>\n",
              "      <td>44</td>\n",
              "      <td>1</td>\n",
              "      <td>16</td>\n",
              "      <td>0</td>\n",
              "      <td>0</td>\n",
              "      <td>0</td>\n",
              "      <td>other</td>\n",
              "      <td>8</td>\n",
              "      <td>403</td>\n",
              "      <td>7</td>\n",
              "      <td>0</td>\n",
              "      <td>0</td>\n",
              "      <td>-20</td>\n",
              "      <td>-20</td>\n",
              "      <td>-20</td>\n",
              "      <td>-20</td>\n",
              "      <td>-20</td>\n",
              "      <td>-20</td>\n",
              "      <td>-20</td>\n",
              "      <td>-20</td>\n",
              "      <td>-20</td>\n",
              "      <td>-20</td>\n",
              "      <td>-20</td>\n",
              "      <td>-20</td>\n",
              "      <td>-20</td>\n",
              "      <td>-20</td>\n",
              "      <td>-20</td>\n",
              "      <td>-20</td>\n",
              "      <td>-20</td>\n",
              "      <td>10</td>\n",
              "      <td>-20</td>\n",
              "      <td>-20</td>\n",
              "      <td>-20</td>\n",
              "      <td>-20</td>\n",
              "      <td>-20</td>\n",
              "      <td>1</td>\n",
              "      <td>1</td>\n",
              "      <td>0</td>\n",
              "      <td>0.000000</td>\n",
              "      <td>70</td>\n",
              "    </tr>\n",
              "    <tr>\n",
              "      <th>4</th>\n",
              "      <td>16680</td>\n",
              "      <td>42519267</td>\n",
              "      <td>Caucasian</td>\n",
              "      <td>Male</td>\n",
              "      <td>45</td>\n",
              "      <td>1</td>\n",
              "      <td>1</td>\n",
              "      <td>7</td>\n",
              "      <td>1</td>\n",
              "      <td>?</td>\n",
              "      <td>other</td>\n",
              "      <td>51</td>\n",
              "      <td>0</td>\n",
              "      <td>8</td>\n",
              "      <td>0</td>\n",
              "      <td>0</td>\n",
              "      <td>0</td>\n",
              "      <td>neoplasms</td>\n",
              "      <td>197</td>\n",
              "      <td>250</td>\n",
              "      <td>5</td>\n",
              "      <td>0</td>\n",
              "      <td>0</td>\n",
              "      <td>-20</td>\n",
              "      <td>-20</td>\n",
              "      <td>-20</td>\n",
              "      <td>-20</td>\n",
              "      <td>-20</td>\n",
              "      <td>-20</td>\n",
              "      <td>0</td>\n",
              "      <td>-20</td>\n",
              "      <td>-20</td>\n",
              "      <td>-20</td>\n",
              "      <td>-20</td>\n",
              "      <td>-20</td>\n",
              "      <td>-20</td>\n",
              "      <td>-20</td>\n",
              "      <td>-20</td>\n",
              "      <td>-20</td>\n",
              "      <td>-20</td>\n",
              "      <td>0</td>\n",
              "      <td>-20</td>\n",
              "      <td>-20</td>\n",
              "      <td>-20</td>\n",
              "      <td>-20</td>\n",
              "      <td>-20</td>\n",
              "      <td>1</td>\n",
              "      <td>1</td>\n",
              "      <td>0</td>\n",
              "      <td>0.000000</td>\n",
              "      <td>65</td>\n",
              "    </tr>\n",
              "  </tbody>\n",
              "</table>\n",
              "</div>"
            ],
            "text/plain": [
              "   encounter_id  patient_nbr  ... health_index sev_of_disease\n",
              "0       2278392      8222157  ...     0.000000             44\n",
              "1        149190     55629189  ...     0.000000             89\n",
              "2         64410     86047875  ...     0.333333             37\n",
              "3        500364     82442376  ...     0.000000             70\n",
              "4         16680     42519267  ...     0.000000             65\n",
              "\n",
              "[5 rows x 51 columns]"
            ]
          },
          "metadata": {
            "tags": []
          },
          "execution_count": 31
        }
      ]
    },
    {
      "cell_type": "code",
      "metadata": {
        "colab": {
          "base_uri": "https://localhost:8080/"
        },
        "id": "aruoiLTC48le",
        "outputId": "99021a1f-c340-4ac0-d41a-72abfef0971e"
      },
      "source": [
        "diabetes_1.head()"
      ],
      "execution_count": null,
      "outputs": [
        {
          "output_type": "execute_result",
          "data": {
            "text/html": [
              "<div>\n",
              "<style scoped>\n",
              "    .dataframe tbody tr th:only-of-type {\n",
              "        vertical-align: middle;\n",
              "    }\n",
              "\n",
              "    .dataframe tbody tr th {\n",
              "        vertical-align: top;\n",
              "    }\n",
              "\n",
              "    .dataframe thead th {\n",
              "        text-align: right;\n",
              "    }\n",
              "</style>\n",
              "<table border=\"1\" class=\"dataframe\">\n",
              "  <thead>\n",
              "    <tr style=\"text-align: right;\">\n",
              "      <th></th>\n",
              "      <th>gender</th>\n",
              "      <th>age</th>\n",
              "      <th>admission_type_id</th>\n",
              "      <th>discharge_disposition_id</th>\n",
              "      <th>admission_source_id</th>\n",
              "      <th>time_in_hospital</th>\n",
              "      <th>medical_specialty</th>\n",
              "      <th>num_lab_procedures</th>\n",
              "      <th>num_procedures</th>\n",
              "      <th>num_medications</th>\n",
              "      <th>number_outpatient</th>\n",
              "      <th>number_emergency</th>\n",
              "      <th>number_inpatient</th>\n",
              "      <th>diag_1</th>\n",
              "      <th>diag_2</th>\n",
              "      <th>diag_3</th>\n",
              "      <th>number_diagnoses</th>\n",
              "      <th>max_glu_serum</th>\n",
              "      <th>A1Cresult</th>\n",
              "      <th>metformin</th>\n",
              "      <th>repaglinide</th>\n",
              "      <th>nateglinide</th>\n",
              "      <th>chlorpropamide</th>\n",
              "      <th>glipizide</th>\n",
              "      <th>glyburide</th>\n",
              "      <th>tolazamide</th>\n",
              "      <th>insulin</th>\n",
              "      <th>change</th>\n",
              "      <th>diabetesMed</th>\n",
              "      <th>race</th>\n",
              "      <th>health_index</th>\n",
              "      <th>sev_of_disease</th>\n",
              "      <th>readmitted</th>\n",
              "    </tr>\n",
              "  </thead>\n",
              "  <tbody>\n",
              "    <tr>\n",
              "      <th>0</th>\n",
              "      <td>Female</td>\n",
              "      <td>5</td>\n",
              "      <td>5</td>\n",
              "      <td>18</td>\n",
              "      <td>1</td>\n",
              "      <td>1</td>\n",
              "      <td>Pediatrics-Endocrinology</td>\n",
              "      <td>41</td>\n",
              "      <td>0</td>\n",
              "      <td>1</td>\n",
              "      <td>0</td>\n",
              "      <td>0</td>\n",
              "      <td>0</td>\n",
              "      <td>diabetes</td>\n",
              "      <td>250.83</td>\n",
              "      <td>250</td>\n",
              "      <td>1</td>\n",
              "      <td>0</td>\n",
              "      <td>0</td>\n",
              "      <td>-20</td>\n",
              "      <td>-20</td>\n",
              "      <td>-20</td>\n",
              "      <td>-20</td>\n",
              "      <td>-20</td>\n",
              "      <td>-20</td>\n",
              "      <td>-20</td>\n",
              "      <td>-20</td>\n",
              "      <td>-1</td>\n",
              "      <td>-1</td>\n",
              "      <td>Caucasian</td>\n",
              "      <td>0.000000</td>\n",
              "      <td>44</td>\n",
              "      <td>NO</td>\n",
              "    </tr>\n",
              "    <tr>\n",
              "      <th>1</th>\n",
              "      <td>Female</td>\n",
              "      <td>15</td>\n",
              "      <td>1</td>\n",
              "      <td>1</td>\n",
              "      <td>7</td>\n",
              "      <td>3</td>\n",
              "      <td>other</td>\n",
              "      <td>59</td>\n",
              "      <td>0</td>\n",
              "      <td>18</td>\n",
              "      <td>0</td>\n",
              "      <td>0</td>\n",
              "      <td>0</td>\n",
              "      <td>other</td>\n",
              "      <td>276</td>\n",
              "      <td>255</td>\n",
              "      <td>9</td>\n",
              "      <td>0</td>\n",
              "      <td>0</td>\n",
              "      <td>-20</td>\n",
              "      <td>-20</td>\n",
              "      <td>-20</td>\n",
              "      <td>-20</td>\n",
              "      <td>-20</td>\n",
              "      <td>-20</td>\n",
              "      <td>-20</td>\n",
              "      <td>10</td>\n",
              "      <td>1</td>\n",
              "      <td>1</td>\n",
              "      <td>Caucasian</td>\n",
              "      <td>0.000000</td>\n",
              "      <td>89</td>\n",
              "      <td>&gt;30</td>\n",
              "    </tr>\n",
              "    <tr>\n",
              "      <th>2</th>\n",
              "      <td>Female</td>\n",
              "      <td>25</td>\n",
              "      <td>1</td>\n",
              "      <td>1</td>\n",
              "      <td>7</td>\n",
              "      <td>2</td>\n",
              "      <td>other</td>\n",
              "      <td>11</td>\n",
              "      <td>5</td>\n",
              "      <td>13</td>\n",
              "      <td>2</td>\n",
              "      <td>0</td>\n",
              "      <td>1</td>\n",
              "      <td>pregnancy</td>\n",
              "      <td>648</td>\n",
              "      <td>V27</td>\n",
              "      <td>6</td>\n",
              "      <td>0</td>\n",
              "      <td>0</td>\n",
              "      <td>-20</td>\n",
              "      <td>-20</td>\n",
              "      <td>-20</td>\n",
              "      <td>-20</td>\n",
              "      <td>0</td>\n",
              "      <td>-20</td>\n",
              "      <td>-20</td>\n",
              "      <td>-20</td>\n",
              "      <td>-1</td>\n",
              "      <td>1</td>\n",
              "      <td>AfricanAmerican</td>\n",
              "      <td>0.333333</td>\n",
              "      <td>37</td>\n",
              "      <td>NO</td>\n",
              "    </tr>\n",
              "    <tr>\n",
              "      <th>3</th>\n",
              "      <td>Male</td>\n",
              "      <td>35</td>\n",
              "      <td>1</td>\n",
              "      <td>1</td>\n",
              "      <td>7</td>\n",
              "      <td>2</td>\n",
              "      <td>other</td>\n",
              "      <td>44</td>\n",
              "      <td>1</td>\n",
              "      <td>16</td>\n",
              "      <td>0</td>\n",
              "      <td>0</td>\n",
              "      <td>0</td>\n",
              "      <td>other</td>\n",
              "      <td>8</td>\n",
              "      <td>403</td>\n",
              "      <td>7</td>\n",
              "      <td>0</td>\n",
              "      <td>0</td>\n",
              "      <td>-20</td>\n",
              "      <td>-20</td>\n",
              "      <td>-20</td>\n",
              "      <td>-20</td>\n",
              "      <td>-20</td>\n",
              "      <td>-20</td>\n",
              "      <td>-20</td>\n",
              "      <td>10</td>\n",
              "      <td>1</td>\n",
              "      <td>1</td>\n",
              "      <td>Caucasian</td>\n",
              "      <td>0.000000</td>\n",
              "      <td>70</td>\n",
              "      <td>NO</td>\n",
              "    </tr>\n",
              "    <tr>\n",
              "      <th>4</th>\n",
              "      <td>Male</td>\n",
              "      <td>45</td>\n",
              "      <td>1</td>\n",
              "      <td>1</td>\n",
              "      <td>7</td>\n",
              "      <td>1</td>\n",
              "      <td>other</td>\n",
              "      <td>51</td>\n",
              "      <td>0</td>\n",
              "      <td>8</td>\n",
              "      <td>0</td>\n",
              "      <td>0</td>\n",
              "      <td>0</td>\n",
              "      <td>neoplasms</td>\n",
              "      <td>197</td>\n",
              "      <td>250</td>\n",
              "      <td>5</td>\n",
              "      <td>0</td>\n",
              "      <td>0</td>\n",
              "      <td>-20</td>\n",
              "      <td>-20</td>\n",
              "      <td>-20</td>\n",
              "      <td>-20</td>\n",
              "      <td>0</td>\n",
              "      <td>-20</td>\n",
              "      <td>-20</td>\n",
              "      <td>0</td>\n",
              "      <td>1</td>\n",
              "      <td>1</td>\n",
              "      <td>Caucasian</td>\n",
              "      <td>0.000000</td>\n",
              "      <td>65</td>\n",
              "      <td>NO</td>\n",
              "    </tr>\n",
              "  </tbody>\n",
              "</table>\n",
              "</div>"
            ],
            "text/plain": [
              "   gender  age  admission_type_id  ...  health_index  sev_of_disease  readmitted\n",
              "0  Female    5                  5  ...      0.000000              44          NO\n",
              "1  Female   15                  1  ...      0.000000              89         >30\n",
              "2  Female   25                  1  ...      0.333333              37          NO\n",
              "3    Male   35                  1  ...      0.000000              70          NO\n",
              "4    Male   45                  1  ...      0.000000              65          NO\n",
              "\n",
              "[5 rows x 33 columns]"
            ]
          },
          "metadata": {
            "tags": []
          },
          "execution_count": 32
        }
      ]
    },
    {
      "cell_type": "code",
      "metadata": {
        "id": "xmC3qGG9CGh-"
      },
      "source": [
        "diabetes_1['gender'] = diabetes_1['gender'].replace('Female',0)\n",
        "diabetes_1['gender'] = diabetes_1['gender'].replace('Male',1)\n",
        "diabetes_1['gender'] = diabetes_1['gender'].replace('Unknown/Invalid',2)\n"
      ],
      "execution_count": null,
      "outputs": []
    },
    {
      "cell_type": "code",
      "metadata": {
        "colab": {
          "base_uri": "https://localhost:8080/"
        },
        "id": "jOiqoK9tRLtA",
        "outputId": "2388caed-958e-4977-c8b0-77d597442439"
      },
      "source": [
        "diabetes_1['race'].unique()"
      ],
      "execution_count": null,
      "outputs": [
        {
          "output_type": "execute_result",
          "data": {
            "text/plain": [
              "array(['Caucasian', 'AfricanAmerican', 'other', 'Other', 'Asian',\n",
              "       'Hispanic'], dtype=object)"
            ]
          },
          "metadata": {
            "tags": []
          },
          "execution_count": 34
        }
      ]
    },
    {
      "cell_type": "code",
      "metadata": {
        "id": "gnmo5IOtD--1"
      },
      "source": [
        "#Converting every categorical to a interger \n",
        "diabetes_1['race'] = diabetes_1['race'].replace('AfricanAmerican',0)\n",
        "diabetes_1['race'] = diabetes_1['race'].replace('Asian',1)\n",
        "diabetes_1['race'] = diabetes_1['race'].replace('Caucasian',2)\n",
        "diabetes_1['race'] = diabetes_1['race'].replace('Hispanic',3)\n",
        "diabetes_1['race'] = diabetes_1['race'].replace(['Other','other'],4)\n"
      ],
      "execution_count": null,
      "outputs": []
    },
    {
      "cell_type": "code",
      "metadata": {
        "colab": {
          "base_uri": "https://localhost:8080/"
        },
        "id": "_HOQg4CZFBrl",
        "outputId": "b952ea4d-227c-4c28-d873-50f504314490"
      },
      "source": [
        "#Something we wanted to look at \n",
        "diabetes_1['diag_3'].unique()"
      ],
      "execution_count": null,
      "outputs": [
        {
          "output_type": "execute_result",
          "data": {
            "text/plain": [
              "array(['250', '255', 'V27', '403', 'V45', '38', '486', '996', '197',\n",
              "       '250.6', '427', '627', '414', '416', '714', '428', '582', 'V43',\n",
              "       '250.01', '263', '250.42', '276', '482', '401', '250.41', '585',\n",
              "       '781', '278', '998', '568', '682', '618', '250.02', '305', '707',\n",
              "       '496', '715', '424', '518', '553', '794', '411', 'V42', '531',\n",
              "       '511', '490', '562', '250.8', '599', '250.7', '250.52', '491',\n",
              "       '581', '420', '8', '724', '730', '789', '131', '250.82', '999',\n",
              "       '41', '493', '250.03', '786', '529', 'E888', '425', '595', '303',\n",
              "       '560', '711', '492', '332', '296', '438', '362', '250.4', '654',\n",
              "       '244', 'V70', '737', '625', '681', '250.51', '404', 'V10', '810',\n",
              "       '280', '440', '785', '588', '569', '272', '997', '250.43', '918',\n",
              "       '584', '54', '788', '426', '722', '250.92', '461', '535', '787',\n",
              "       '891', '284', '458', '648', '780', '285', '593', '413', '664',\n",
              "       '564', '201', '356', 'V15', '292', '196', '782', '784', '473',\n",
              "       '455', 'E932', '357', '294', '250.23', '459', 'E878', '437', '733',\n",
              "       '507', '525', '250.53', '397', '572', '805', '453', '331', '736',\n",
              "       '402', '591', '576', '465', '533', '703', '349', '315', '658',\n",
              "       '608', '578', '716', '382', '300', '282', '571', '536', '287',\n",
              "       '644', 'V11', '558', 'E885', '162', '198', '218', '412', '396',\n",
              "       'V14', '570', '433', 'E934', '882', '288', '577', '443', '729',\n",
              "       '836', '295', '799', '281', '304', '153', '410', '616', '250.83',\n",
              "       '601', '291', '75', '512', '660', '250.5', '598', '337', '574',\n",
              "       '653', 'V58', '386', '602', '790', '112', '873', '620', '70',\n",
              "       '663', '530', '710', '42', '342', '250.91', 'E884', '307', '704',\n",
              "       '596', '728', '731', '583', '238', '441', '293', '573', '290',\n",
              "       '594', '319', '250.12', '519', '346', '380', '135', '642', '698',\n",
              "       '924', '905', 'E933', '309', 'E879', '286', '565', '752', '580',\n",
              "       '446', '444', '311', '344', '35', '813', '394', '301', '575',\n",
              "       'V17', '802', '435', '746', 'V12', '709', '881', 'E935', '250.81',\n",
              "       '718', '365', '202', '334', '398', 'V44', '517', 'E849', '614',\n",
              "       '466', '626', '250.9', '368', '605', '883', '478', '617', '429',\n",
              "       '442', 'V25', '866', '610', '557', '959', '94', '920', '345', '79',\n",
              "       '586', '821', '600', '242', '373', '592', '487', '253', '706',\n",
              "       'E947', '117', '340', 'E950', '656', 'E949', '590', 'V09', '934',\n",
              "       '995', '726', '923', '958', 'E929', '211', 'V18', 'E942', '199',\n",
              "       '665', '275', '203', '279', '522', '791', '890', 'E938', 'E816',\n",
              "       '122', '436', '721', 'V65', '515', '185', '136', '480', '423',\n",
              "       'E920', '793', '647', '537', '250.93', '351', '415', '845', '336',\n",
              "       '274', '719', '945', '434', '227', '157', '208', 'V57', '734',\n",
              "       'V23', '447', '692', 'V64', '228', '348', 'V16', '756', '405',\n",
              "       'E928', '823', '552', '53', '138', '528', '389', '240', '454',\n",
              "       '792', '366', 'E939', '907', '387', 'E931', '783', '245', '607',\n",
              "       '355', 'E930', '705', '372', '369', '611', 'V46', '867', 'E956',\n",
              "       '310', '251', '250.2', '820', '712', '695', '567', '343', '723',\n",
              "       'V08', '623', '807', '451', '495', '701', '34', '472', 'E945',\n",
              "       '283', '456', '534', '354', '333', '277', '659', '174', '708',\n",
              "       '452', '655', '816', '555', '670', '621', '246', '865', 'E817',\n",
              "       '646', '151', '378', '78', '298', '641', '521', '745', '619',\n",
              "       '506', 'E904', '259', 'E870', 'E980', '532', '204', '696', '566',\n",
              "       '727', '47', '358', '191', '965', '812', '921', '27', '150',\n",
              "       'E861', '477', '524', '751', 'V66', '652', '432', '556', '825',\n",
              "       '919', '908', '951', '685', 'E850', '527', '341', '840', '693',\n",
              "       '494', '250.1', 'V49', '155', 'V55', '110', '969', '205', '462',\n",
              "       'E880', '697', '826', '457', '717', '738', '742', '680', '735',\n",
              "       '200', '235', '308', '241', '273', '824', '464', '260', '917',\n",
              "       '661', '892', '261', '725', 'E883', '744', '188', '318', 'V54',\n",
              "       'E944', '694', '350', '854', 'E905', '9', 'E941', '170', '317',\n",
              "       '759', '252', '831', '713', '180', '360', '289', '250.11', '306',\n",
              "       '811', 'V02', '271', '214', '543', 'V63', '906', '842', '445',\n",
              "       '501', '808', '861', '239', 'E852', '220', '359', 'E887', '915',\n",
              "       '970', '256', '747', '395', '243', '815', 'E936', '250.13', '481',\n",
              "       '5', '796', '250.22', 'E858', '335', 'E927', '297', '299', '851',\n",
              "       '864', '182', '922', '384', '189', '225', '158', 'E937', '871',\n",
              "       '966', 'E812', 'V62', 'E924', '604', 'E916', '377', '797', 'V72',\n",
              "       '172', '7', '852', 'E819', '972', '579', '916', '956', '753',\n",
              "       'E965', '686', '173', '193', '154', '347', '862', '847', '323',\n",
              "       '250.3', '987', '470', '379', 'E855', '161', '115', '179', '383',\n",
              "       '910', '312', '421', '17', '265', '66', '163', 'V60', '967',\n",
              "       'E906', '266', '417', '152', '183', 'V53', '991', '216', '741',\n",
              "       '514', '385', '164', '516', '844', '962', '510', '814', '485',\n",
              "       '912', '850', '250.21', 'E919', '872', '860', '195', '233', '270',\n",
              "       '431', '597', '933', '156', '868', 'E815', '542', 'V61', '853',\n",
              "       '374', 'E881', 'E882', 'E917', 'E822', '192', '171', '754', '327',\n",
              "       '523', '758', 'V85', '657', '684', '603', '953', 'E826', '550',\n",
              "       '913', '314', 'E943', '460', '376', '313', '755', '361', '720',\n",
              "       '250.31', '674', '911', 'E813', '226', '365.44', 'E818', '262',\n",
              "       '801', '955', 'E894', 'V13', '880', '930', '381', '795', '893',\n",
              "       'V01', 'E853', '540', 'E828', '430', 'E865', '148', 'E946', '879',\n",
              "       'V86', 'V03', '338', '989', '388', '690', '139', 'E966', 'E922',\n",
              "       '123', '757', 'E901', '909', '508', 'E892', '649', '702', '948',\n",
              "       '484', 'E886', '838', '624', '837', 'V07', '841', '800', '622',\n",
              "       'E912', '463', '217', '500', '353', '877', '391', 'E825', '643',\n",
              "       '952', '669', '223', '875', '822', '928', 'E900', 'V06', '268',\n",
              "       '834', '49', '876', '57', '258', '943', '141', 'E854', '14', '750',\n",
              "       '370', '971'], dtype=object)"
            ]
          },
          "metadata": {
            "tags": []
          },
          "execution_count": 36
        }
      ]
    },
    {
      "cell_type": "code",
      "metadata": {
        "colab": {
          "base_uri": "https://localhost:8080/"
        },
        "id": "K_0PneFTF76_",
        "outputId": "073f2ab8-3cec-4e31-e1bd-97786e1797a1"
      },
      "source": [
        "diabetes_1['medical_specialty'] = diabetes_1['medical_specialty'].replace(pediatrics,0)\n",
        "diabetes_1['medical_specialty'] = diabetes_1['medical_specialty'].replace(psychic,1)\n",
        "diabetes_1['medical_specialty'] = diabetes_1['medical_specialty'].replace(neurology,2)\n",
        "diabetes_1['medical_specialty'] = diabetes_1['medical_specialty'].replace(surgery,3)\n",
        "diabetes_1['medical_specialty'] = diabetes_1['medical_specialty'].replace(ungrouped, 4)\n",
        "diabetes_1['medical_specialty'] = diabetes_1['medical_specialty'].replace('other',5)\n",
        "print(type(diabetes_1['medical_specialty']))"
      ],
      "execution_count": null,
      "outputs": [
        {
          "output_type": "stream",
          "text": [
            "<class 'pandas.core.series.Series'>\n"
          ],
          "name": "stdout"
        }
      ]
    },
    {
      "cell_type": "code",
      "metadata": {
        "colab": {
          "base_uri": "https://localhost:8080/"
        },
        "id": "17QlIKK8GwZP",
        "outputId": "26482f43-7c93-456c-ea57-2528761e2409"
      },
      "source": [
        "diabetes_1['diag_1'] = diabetes_1['diag_1'].replace('diabetes',0)\n",
        "diabetes_1['diag_1'] = diabetes_1['diag_1'].replace('pregnancy',1)\n",
        "diabetes_1['diag_1'] = diabetes_1['diag_1'].replace('neoplasms',2)\n",
        "diabetes_1['diag_1'] = diabetes_1['diag_1'].replace('circulatory',3)\n",
        "diabetes_1['diag_1'] = diabetes_1['diag_1'].replace('respiratory',4)\n",
        "diabetes_1['diag_1'] = diabetes_1['diag_1'].replace('injury',5)\n",
        "diabetes_1['diag_1'] = diabetes_1['diag_1'].replace('musculoskeletal',6)\n",
        "diabetes_1['diag_1'] = diabetes_1['diag_1'].replace('digestive',7)\n",
        "diabetes_1['diag_1'] = diabetes_1['diag_1'].replace('genitourinary',8)\n",
        "diabetes_1['diag_1'] = diabetes_1['diag_1'].replace('other',9)\n",
        "\n",
        "print(diabetes_1['diag_1'].unique())\n",
        "diabetes_1.head()\n",
        "#diabetes_1['medical_specialty'].unique()"
      ],
      "execution_count": null,
      "outputs": [
        {
          "output_type": "stream",
          "text": [
            "[0 9 1 2 3 4 5 6 7 8]\n"
          ],
          "name": "stdout"
        },
        {
          "output_type": "execute_result",
          "data": {
            "text/html": [
              "<div>\n",
              "<style scoped>\n",
              "    .dataframe tbody tr th:only-of-type {\n",
              "        vertical-align: middle;\n",
              "    }\n",
              "\n",
              "    .dataframe tbody tr th {\n",
              "        vertical-align: top;\n",
              "    }\n",
              "\n",
              "    .dataframe thead th {\n",
              "        text-align: right;\n",
              "    }\n",
              "</style>\n",
              "<table border=\"1\" class=\"dataframe\">\n",
              "  <thead>\n",
              "    <tr style=\"text-align: right;\">\n",
              "      <th></th>\n",
              "      <th>gender</th>\n",
              "      <th>age</th>\n",
              "      <th>admission_type_id</th>\n",
              "      <th>discharge_disposition_id</th>\n",
              "      <th>admission_source_id</th>\n",
              "      <th>time_in_hospital</th>\n",
              "      <th>medical_specialty</th>\n",
              "      <th>num_lab_procedures</th>\n",
              "      <th>num_procedures</th>\n",
              "      <th>num_medications</th>\n",
              "      <th>number_outpatient</th>\n",
              "      <th>number_emergency</th>\n",
              "      <th>number_inpatient</th>\n",
              "      <th>diag_1</th>\n",
              "      <th>diag_2</th>\n",
              "      <th>diag_3</th>\n",
              "      <th>number_diagnoses</th>\n",
              "      <th>max_glu_serum</th>\n",
              "      <th>A1Cresult</th>\n",
              "      <th>metformin</th>\n",
              "      <th>repaglinide</th>\n",
              "      <th>nateglinide</th>\n",
              "      <th>chlorpropamide</th>\n",
              "      <th>glipizide</th>\n",
              "      <th>glyburide</th>\n",
              "      <th>tolazamide</th>\n",
              "      <th>insulin</th>\n",
              "      <th>change</th>\n",
              "      <th>diabetesMed</th>\n",
              "      <th>race</th>\n",
              "      <th>health_index</th>\n",
              "      <th>sev_of_disease</th>\n",
              "      <th>readmitted</th>\n",
              "    </tr>\n",
              "  </thead>\n",
              "  <tbody>\n",
              "    <tr>\n",
              "      <th>0</th>\n",
              "      <td>0</td>\n",
              "      <td>5</td>\n",
              "      <td>5</td>\n",
              "      <td>18</td>\n",
              "      <td>1</td>\n",
              "      <td>1</td>\n",
              "      <td>0</td>\n",
              "      <td>41</td>\n",
              "      <td>0</td>\n",
              "      <td>1</td>\n",
              "      <td>0</td>\n",
              "      <td>0</td>\n",
              "      <td>0</td>\n",
              "      <td>0</td>\n",
              "      <td>250.83</td>\n",
              "      <td>250</td>\n",
              "      <td>1</td>\n",
              "      <td>0</td>\n",
              "      <td>0</td>\n",
              "      <td>-20</td>\n",
              "      <td>-20</td>\n",
              "      <td>-20</td>\n",
              "      <td>-20</td>\n",
              "      <td>-20</td>\n",
              "      <td>-20</td>\n",
              "      <td>-20</td>\n",
              "      <td>-20</td>\n",
              "      <td>-1</td>\n",
              "      <td>-1</td>\n",
              "      <td>2</td>\n",
              "      <td>0.000000</td>\n",
              "      <td>44</td>\n",
              "      <td>NO</td>\n",
              "    </tr>\n",
              "    <tr>\n",
              "      <th>1</th>\n",
              "      <td>0</td>\n",
              "      <td>15</td>\n",
              "      <td>1</td>\n",
              "      <td>1</td>\n",
              "      <td>7</td>\n",
              "      <td>3</td>\n",
              "      <td>5</td>\n",
              "      <td>59</td>\n",
              "      <td>0</td>\n",
              "      <td>18</td>\n",
              "      <td>0</td>\n",
              "      <td>0</td>\n",
              "      <td>0</td>\n",
              "      <td>9</td>\n",
              "      <td>276</td>\n",
              "      <td>255</td>\n",
              "      <td>9</td>\n",
              "      <td>0</td>\n",
              "      <td>0</td>\n",
              "      <td>-20</td>\n",
              "      <td>-20</td>\n",
              "      <td>-20</td>\n",
              "      <td>-20</td>\n",
              "      <td>-20</td>\n",
              "      <td>-20</td>\n",
              "      <td>-20</td>\n",
              "      <td>10</td>\n",
              "      <td>1</td>\n",
              "      <td>1</td>\n",
              "      <td>2</td>\n",
              "      <td>0.000000</td>\n",
              "      <td>89</td>\n",
              "      <td>&gt;30</td>\n",
              "    </tr>\n",
              "    <tr>\n",
              "      <th>2</th>\n",
              "      <td>0</td>\n",
              "      <td>25</td>\n",
              "      <td>1</td>\n",
              "      <td>1</td>\n",
              "      <td>7</td>\n",
              "      <td>2</td>\n",
              "      <td>5</td>\n",
              "      <td>11</td>\n",
              "      <td>5</td>\n",
              "      <td>13</td>\n",
              "      <td>2</td>\n",
              "      <td>0</td>\n",
              "      <td>1</td>\n",
              "      <td>1</td>\n",
              "      <td>648</td>\n",
              "      <td>V27</td>\n",
              "      <td>6</td>\n",
              "      <td>0</td>\n",
              "      <td>0</td>\n",
              "      <td>-20</td>\n",
              "      <td>-20</td>\n",
              "      <td>-20</td>\n",
              "      <td>-20</td>\n",
              "      <td>0</td>\n",
              "      <td>-20</td>\n",
              "      <td>-20</td>\n",
              "      <td>-20</td>\n",
              "      <td>-1</td>\n",
              "      <td>1</td>\n",
              "      <td>0</td>\n",
              "      <td>0.333333</td>\n",
              "      <td>37</td>\n",
              "      <td>NO</td>\n",
              "    </tr>\n",
              "    <tr>\n",
              "      <th>3</th>\n",
              "      <td>1</td>\n",
              "      <td>35</td>\n",
              "      <td>1</td>\n",
              "      <td>1</td>\n",
              "      <td>7</td>\n",
              "      <td>2</td>\n",
              "      <td>5</td>\n",
              "      <td>44</td>\n",
              "      <td>1</td>\n",
              "      <td>16</td>\n",
              "      <td>0</td>\n",
              "      <td>0</td>\n",
              "      <td>0</td>\n",
              "      <td>9</td>\n",
              "      <td>8</td>\n",
              "      <td>403</td>\n",
              "      <td>7</td>\n",
              "      <td>0</td>\n",
              "      <td>0</td>\n",
              "      <td>-20</td>\n",
              "      <td>-20</td>\n",
              "      <td>-20</td>\n",
              "      <td>-20</td>\n",
              "      <td>-20</td>\n",
              "      <td>-20</td>\n",
              "      <td>-20</td>\n",
              "      <td>10</td>\n",
              "      <td>1</td>\n",
              "      <td>1</td>\n",
              "      <td>2</td>\n",
              "      <td>0.000000</td>\n",
              "      <td>70</td>\n",
              "      <td>NO</td>\n",
              "    </tr>\n",
              "    <tr>\n",
              "      <th>4</th>\n",
              "      <td>1</td>\n",
              "      <td>45</td>\n",
              "      <td>1</td>\n",
              "      <td>1</td>\n",
              "      <td>7</td>\n",
              "      <td>1</td>\n",
              "      <td>5</td>\n",
              "      <td>51</td>\n",
              "      <td>0</td>\n",
              "      <td>8</td>\n",
              "      <td>0</td>\n",
              "      <td>0</td>\n",
              "      <td>0</td>\n",
              "      <td>2</td>\n",
              "      <td>197</td>\n",
              "      <td>250</td>\n",
              "      <td>5</td>\n",
              "      <td>0</td>\n",
              "      <td>0</td>\n",
              "      <td>-20</td>\n",
              "      <td>-20</td>\n",
              "      <td>-20</td>\n",
              "      <td>-20</td>\n",
              "      <td>0</td>\n",
              "      <td>-20</td>\n",
              "      <td>-20</td>\n",
              "      <td>0</td>\n",
              "      <td>1</td>\n",
              "      <td>1</td>\n",
              "      <td>2</td>\n",
              "      <td>0.000000</td>\n",
              "      <td>65</td>\n",
              "      <td>NO</td>\n",
              "    </tr>\n",
              "  </tbody>\n",
              "</table>\n",
              "</div>"
            ],
            "text/plain": [
              "   gender  age  admission_type_id  ...  health_index  sev_of_disease  readmitted\n",
              "0       0    5                  5  ...      0.000000              44          NO\n",
              "1       0   15                  1  ...      0.000000              89         >30\n",
              "2       0   25                  1  ...      0.333333              37          NO\n",
              "3       1   35                  1  ...      0.000000              70          NO\n",
              "4       1   45                  1  ...      0.000000              65          NO\n",
              "\n",
              "[5 rows x 33 columns]"
            ]
          },
          "metadata": {
            "tags": []
          },
          "execution_count": 38
        }
      ]
    },
    {
      "cell_type": "code",
      "metadata": {
        "id": "ZgI31UC6N8eT"
      },
      "source": [
        "diabetes_1 = diabetes_1.drop(['diag_2','diag_3'], axis=1)\n",
        "#diabetes_1['diag_2'].unique()"
      ],
      "execution_count": null,
      "outputs": []
    },
    {
      "cell_type": "code",
      "metadata": {
        "colab": {
          "base_uri": "https://localhost:8080/"
        },
        "id": "wyqQLaFLOxvP",
        "outputId": "01d0e46b-89cf-4cd2-e766-906a77cae69c"
      },
      "source": [
        "diabetes_1.head()\n",
        "diabetes_1.info()"
      ],
      "execution_count": null,
      "outputs": [
        {
          "output_type": "stream",
          "text": [
            "<class 'pandas.core.frame.DataFrame'>\n",
            "Int64Index: 70434 entries, 0 to 101765\n",
            "Data columns (total 31 columns):\n",
            " #   Column                    Non-Null Count  Dtype  \n",
            "---  ------                    --------------  -----  \n",
            " 0   gender                    70434 non-null  int64  \n",
            " 1   age                       70434 non-null  int64  \n",
            " 2   admission_type_id         70434 non-null  int64  \n",
            " 3   discharge_disposition_id  70434 non-null  int64  \n",
            " 4   admission_source_id       70434 non-null  int64  \n",
            " 5   time_in_hospital          70434 non-null  int64  \n",
            " 6   medical_specialty         70434 non-null  int64  \n",
            " 7   num_lab_procedures        70434 non-null  int64  \n",
            " 8   num_procedures            70434 non-null  int64  \n",
            " 9   num_medications           70434 non-null  int64  \n",
            " 10  number_outpatient         70434 non-null  int64  \n",
            " 11  number_emergency          70434 non-null  int64  \n",
            " 12  number_inpatient          70434 non-null  int64  \n",
            " 13  diag_1                    70434 non-null  int64  \n",
            " 14  number_diagnoses          70434 non-null  int64  \n",
            " 15  max_glu_serum             70434 non-null  int64  \n",
            " 16  A1Cresult                 70434 non-null  int64  \n",
            " 17  metformin                 70434 non-null  int64  \n",
            " 18  repaglinide               70434 non-null  int64  \n",
            " 19  nateglinide               70434 non-null  int64  \n",
            " 20  chlorpropamide            70434 non-null  int64  \n",
            " 21  glipizide                 70434 non-null  int64  \n",
            " 22  glyburide                 70434 non-null  int64  \n",
            " 23  tolazamide                70434 non-null  int64  \n",
            " 24  insulin                   70434 non-null  int64  \n",
            " 25  change                    70434 non-null  int64  \n",
            " 26  diabetesMed               70434 non-null  int64  \n",
            " 27  race                      70434 non-null  int64  \n",
            " 28  health_index              70434 non-null  float64\n",
            " 29  sev_of_disease            70434 non-null  int64  \n",
            " 30  readmitted                70434 non-null  object \n",
            "dtypes: float64(1), int64(29), object(1)\n",
            "memory usage: 17.2+ MB\n"
          ],
          "name": "stdout"
        }
      ]
    },
    {
      "cell_type": "code",
      "metadata": {
        "id": "RtJDkiRw8cmE"
      },
      "source": [
        "diabetes_b = diabetes\n",
        "diabetes_b['readmitted'] = diabetes_b['readmitted'].replace({'<30':1})\n",
        "diabetes_b['readmitted'] = diabetes_b['readmitted'].replace({'>30':1})"
      ],
      "execution_count": null,
      "outputs": []
    },
    {
      "cell_type": "code",
      "metadata": {
        "colab": {
          "base_uri": "https://localhost:8080/"
        },
        "id": "wnlCgUhU6XZn",
        "outputId": "967ded40-a91f-4ec1-dde1-88a002c07184"
      },
      "source": [
        "plt.figure()\n",
        "plt.hist(diabetes_b[diabetes_b['readmitted'] == 0][\"num_lab_procedures\"], alpha=0.7, label='not_readmitted');\n",
        "plt.hist(diabetes_b[diabetes_b['readmitted'] == 1][\"num_lab_procedures\"], alpha=0.7, label='readmitted');\n",
        "\n",
        "plt.title('Number of procedures', fontsize=15)\n",
        "plt.xlabel(\"Number of Procedures\")\n",
        "plt.ylabel(\"Frequency\")\n",
        "\n",
        "plt.legend();"
      ],
      "execution_count": null,
      "outputs": [
        {
          "output_type": "display_data",
          "data": {
            "image/png": "[encoded data removed]",
            "text/plain": [
              "<Figure size 432x288 with 1 Axes>"
            ]
          },
          "metadata": {
            "tags": [],
            "needs_background": "light"
          }
        }
      ]
    },
    {
      "cell_type": "markdown",
      "metadata": {
        "id": "LVfflcav6Nhb"
      },
      "source": [
        "##Creating the training and test set"
      ]
    },
    {
      "cell_type": "code",
      "metadata": {
        "id": "jKl1zqI8ccVB"
      },
      "source": [
        "diabetes_1['readmitted'] = diabetes_1['readmitted'].replace({'NO':0})\n",
        "diabetes_1['readmitted'] = diabetes_1['readmitted'].replace({'>30':1})\n",
        "diabetes_1['readmitted'] = diabetes_1['readmitted'].replace({'<30':0})\n",
        "# our class of interest is patients readmitted after 30 days because \n",
        "# patients who get admitted after the 30 day period are more likely waiting for \n",
        "# their condition to get worse so they most likely pay more compared to other patients."
      ],
      "execution_count": null,
      "outputs": []
    },
    {
      "cell_type": "code",
      "metadata": {
        "colab": {
          "base_uri": "https://localhost:8080/"
        },
        "id": "Yoej7hhyXOEr",
        "outputId": "38d23d97-b0e6-4ab2-815a-a5ae2562c605"
      },
      "source": [
        "diabetes_1['readmitted'].value_counts()"
      ],
      "execution_count": null,
      "outputs": [
        {
          "output_type": "execute_result",
          "data": {
            "text/plain": [
              "0    48194\n",
              "1    22240\n",
              "Name: readmitted, dtype: int64"
            ]
          },
          "metadata": {
            "tags": []
          },
          "execution_count": 44
        }
      ]
    },
    {
      "cell_type": "code",
      "metadata": {
        "id": "yjarzuycXdpB"
      },
      "source": [
        "df_majority = diabetes_1[diabetes_1.readmitted == 0]\n",
        "df_minority = diabetes_1[diabetes_1.readmitted == 1]\n",
        "\n",
        "from sklearn.utils import resample\n",
        "diabetes_1_sample = resample(df_majority, replace=False, n_samples=22240)\n",
        "\n",
        "diabetes_1_sampled = pd.concat([diabetes_1_sample, df_minority])"
      ],
      "execution_count": null,
      "outputs": []
    },
    {
      "cell_type": "code",
      "metadata": {
        "colab": {
          "base_uri": "https://localhost:8080/"
        },
        "id": "7O9c7kI_Y_n-",
        "outputId": "56cc4a14-e21a-48b6-e069-d278b0ec46a0"
      },
      "source": [
        "print(diabetes_1_sampled['readmitted'].value_counts())"
      ],
      "execution_count": null,
      "outputs": [
        {
          "output_type": "stream",
          "text": [
            "1    22240\n",
            "0    22240\n",
            "Name: readmitted, dtype: int64\n"
          ],
          "name": "stdout"
        }
      ]
    },
    {
      "cell_type": "code",
      "metadata": {
        "colab": {
          "base_uri": "https://localhost:8080/"
        },
        "id": "vM-cf1yXYmON",
        "outputId": "bb7636dc-c13a-4e4e-88da-ae8523117cd4"
      },
      "source": [
        "print(diabetes_1_sampled.shape)\n",
        "print(diabetes_1_sampled['readmitted'].value_counts())"
      ],
      "execution_count": null,
      "outputs": [
        {
          "output_type": "stream",
          "text": [
            "(44480, 31)\n",
            "1    22240\n",
            "0    22240\n",
            "Name: readmitted, dtype: int64\n"
          ],
          "name": "stdout"
        }
      ]
    },
    {
      "cell_type": "code",
      "metadata": {
        "id": "hXoxS0wn7DCq"
      },
      "source": [
        "features = ['gender','age','admission_type_id','discharge_disposition_id','admission_source_id',\n",
        "            'time_in_hospital','medical_specialty','num_lab_procedures','num_procedures',\n",
        "            'num_medications','number_outpatient','number_emergency','number_inpatient','diag_1','number_diagnoses',\n",
        "            'max_glu_serum','A1Cresult','metformin','repaglinide','nateglinide','chlorpropamide','glipizide','glyburide',\n",
        "            'tolazamide','insulin','change','diabetesMed','race','health_index','sev_of_disease']\n",
        "X = diabetes_1_sampled[features]\n",
        "Y = diabetes_1_sampled['readmitted']\n",
        "\n",
        "from sklearn.model_selection import train_test_split\n",
        "\n",
        "X_train, X_test, Y_train, Y_test = train_test_split(X,Y, test_size = 0.30)"
      ],
      "execution_count": null,
      "outputs": []
    },
    {
      "cell_type": "code",
      "metadata": {
        "colab": {
          "base_uri": "https://localhost:8080/"
        },
        "id": "A-LwkVxbAGnN",
        "outputId": "59475380-0b9e-4252-b243-8cab35db303d"
      },
      "source": [
        "print(X_train.shape)\n",
        "print(X_test.shape)\n",
        "print(Y_train.shape)\n",
        "print(Y_test.shape)"
      ],
      "execution_count": null,
      "outputs": [
        {
          "output_type": "stream",
          "text": [
            "(31136, 30)\n",
            "(13344, 30)\n",
            "(31136,)\n",
            "(13344,)\n"
          ],
          "name": "stdout"
        }
      ]
    },
    {
      "cell_type": "code",
      "metadata": {
        "colab": {
          "base_uri": "https://localhost:8080/"
        },
        "id": "NMn28zszB7We",
        "outputId": "870c410d-38b1-41fb-880e-e53470990a0f"
      },
      "source": [
        "diabetes_1.head()"
      ],
      "execution_count": null,
      "outputs": [
        {
          "output_type": "execute_result",
          "data": {
            "text/html": [
              "<div>\n",
              "<style scoped>\n",
              "    .dataframe tbody tr th:only-of-type {\n",
              "        vertical-align: middle;\n",
              "    }\n",
              "\n",
              "    .dataframe tbody tr th {\n",
              "        vertical-align: top;\n",
              "    }\n",
              "\n",
              "    .dataframe thead th {\n",
              "        text-align: right;\n",
              "    }\n",
              "</style>\n",
              "<table border=\"1\" class=\"dataframe\">\n",
              "  <thead>\n",
              "    <tr style=\"text-align: right;\">\n",
              "      <th></th>\n",
              "      <th>gender</th>\n",
              "      <th>age</th>\n",
              "      <th>admission_type_id</th>\n",
              "      <th>discharge_disposition_id</th>\n",
              "      <th>admission_source_id</th>\n",
              "      <th>time_in_hospital</th>\n",
              "      <th>medical_specialty</th>\n",
              "      <th>num_lab_procedures</th>\n",
              "      <th>num_procedures</th>\n",
              "      <th>num_medications</th>\n",
              "      <th>number_outpatient</th>\n",
              "      <th>number_emergency</th>\n",
              "      <th>number_inpatient</th>\n",
              "      <th>diag_1</th>\n",
              "      <th>number_diagnoses</th>\n",
              "      <th>max_glu_serum</th>\n",
              "      <th>A1Cresult</th>\n",
              "      <th>metformin</th>\n",
              "      <th>repaglinide</th>\n",
              "      <th>nateglinide</th>\n",
              "      <th>chlorpropamide</th>\n",
              "      <th>glipizide</th>\n",
              "      <th>glyburide</th>\n",
              "      <th>tolazamide</th>\n",
              "      <th>insulin</th>\n",
              "      <th>change</th>\n",
              "      <th>diabetesMed</th>\n",
              "      <th>race</th>\n",
              "      <th>health_index</th>\n",
              "      <th>sev_of_disease</th>\n",
              "      <th>readmitted</th>\n",
              "    </tr>\n",
              "  </thead>\n",
              "  <tbody>\n",
              "    <tr>\n",
              "      <th>0</th>\n",
              "      <td>0</td>\n",
              "      <td>5</td>\n",
              "      <td>5</td>\n",
              "      <td>18</td>\n",
              "      <td>1</td>\n",
              "      <td>1</td>\n",
              "      <td>0</td>\n",
              "      <td>41</td>\n",
              "      <td>0</td>\n",
              "      <td>1</td>\n",
              "      <td>0</td>\n",
              "      <td>0</td>\n",
              "      <td>0</td>\n",
              "      <td>0</td>\n",
              "      <td>1</td>\n",
              "      <td>0</td>\n",
              "      <td>0</td>\n",
              "      <td>-20</td>\n",
              "      <td>-20</td>\n",
              "      <td>-20</td>\n",
              "      <td>-20</td>\n",
              "      <td>-20</td>\n",
              "      <td>-20</td>\n",
              "      <td>-20</td>\n",
              "      <td>-20</td>\n",
              "      <td>-1</td>\n",
              "      <td>-1</td>\n",
              "      <td>2</td>\n",
              "      <td>0.000000</td>\n",
              "      <td>44</td>\n",
              "      <td>0</td>\n",
              "    </tr>\n",
              "    <tr>\n",
              "      <th>1</th>\n",
              "      <td>0</td>\n",
              "      <td>15</td>\n",
              "      <td>1</td>\n",
              "      <td>1</td>\n",
              "      <td>7</td>\n",
              "      <td>3</td>\n",
              "      <td>5</td>\n",
              "      <td>59</td>\n",
              "      <td>0</td>\n",
              "      <td>18</td>\n",
              "      <td>0</td>\n",
              "      <td>0</td>\n",
              "      <td>0</td>\n",
              "      <td>9</td>\n",
              "      <td>9</td>\n",
              "      <td>0</td>\n",
              "      <td>0</td>\n",
              "      <td>-20</td>\n",
              "      <td>-20</td>\n",
              "      <td>-20</td>\n",
              "      <td>-20</td>\n",
              "      <td>-20</td>\n",
              "      <td>-20</td>\n",
              "      <td>-20</td>\n",
              "      <td>10</td>\n",
              "      <td>1</td>\n",
              "      <td>1</td>\n",
              "      <td>2</td>\n",
              "      <td>0.000000</td>\n",
              "      <td>89</td>\n",
              "      <td>1</td>\n",
              "    </tr>\n",
              "    <tr>\n",
              "      <th>2</th>\n",
              "      <td>0</td>\n",
              "      <td>25</td>\n",
              "      <td>1</td>\n",
              "      <td>1</td>\n",
              "      <td>7</td>\n",
              "      <td>2</td>\n",
              "      <td>5</td>\n",
              "      <td>11</td>\n",
              "      <td>5</td>\n",
              "      <td>13</td>\n",
              "      <td>2</td>\n",
              "      <td>0</td>\n",
              "      <td>1</td>\n",
              "      <td>1</td>\n",
              "      <td>6</td>\n",
              "      <td>0</td>\n",
              "      <td>0</td>\n",
              "      <td>-20</td>\n",
              "      <td>-20</td>\n",
              "      <td>-20</td>\n",
              "      <td>-20</td>\n",
              "      <td>0</td>\n",
              "      <td>-20</td>\n",
              "      <td>-20</td>\n",
              "      <td>-20</td>\n",
              "      <td>-1</td>\n",
              "      <td>1</td>\n",
              "      <td>0</td>\n",
              "      <td>0.333333</td>\n",
              "      <td>37</td>\n",
              "      <td>0</td>\n",
              "    </tr>\n",
              "    <tr>\n",
              "      <th>3</th>\n",
              "      <td>1</td>\n",
              "      <td>35</td>\n",
              "      <td>1</td>\n",
              "      <td>1</td>\n",
              "      <td>7</td>\n",
              "      <td>2</td>\n",
              "      <td>5</td>\n",
              "      <td>44</td>\n",
              "      <td>1</td>\n",
              "      <td>16</td>\n",
              "      <td>0</td>\n",
              "      <td>0</td>\n",
              "      <td>0</td>\n",
              "      <td>9</td>\n",
              "      <td>7</td>\n",
              "      <td>0</td>\n",
              "      <td>0</td>\n",
              "      <td>-20</td>\n",
              "      <td>-20</td>\n",
              "      <td>-20</td>\n",
              "      <td>-20</td>\n",
              "      <td>-20</td>\n",
              "      <td>-20</td>\n",
              "      <td>-20</td>\n",
              "      <td>10</td>\n",
              "      <td>1</td>\n",
              "      <td>1</td>\n",
              "      <td>2</td>\n",
              "      <td>0.000000</td>\n",
              "      <td>70</td>\n",
              "      <td>0</td>\n",
              "    </tr>\n",
              "    <tr>\n",
              "      <th>4</th>\n",
              "      <td>1</td>\n",
              "      <td>45</td>\n",
              "      <td>1</td>\n",
              "      <td>1</td>\n",
              "      <td>7</td>\n",
              "      <td>1</td>\n",
              "      <td>5</td>\n",
              "      <td>51</td>\n",
              "      <td>0</td>\n",
              "      <td>8</td>\n",
              "      <td>0</td>\n",
              "      <td>0</td>\n",
              "      <td>0</td>\n",
              "      <td>2</td>\n",
              "      <td>5</td>\n",
              "      <td>0</td>\n",
              "      <td>0</td>\n",
              "      <td>-20</td>\n",
              "      <td>-20</td>\n",
              "      <td>-20</td>\n",
              "      <td>-20</td>\n",
              "      <td>0</td>\n",
              "      <td>-20</td>\n",
              "      <td>-20</td>\n",
              "      <td>0</td>\n",
              "      <td>1</td>\n",
              "      <td>1</td>\n",
              "      <td>2</td>\n",
              "      <td>0.000000</td>\n",
              "      <td>65</td>\n",
              "      <td>0</td>\n",
              "    </tr>\n",
              "  </tbody>\n",
              "</table>\n",
              "</div>"
            ],
            "text/plain": [
              "   gender  age  admission_type_id  ...  health_index  sev_of_disease  readmitted\n",
              "0       0    5                  5  ...      0.000000              44           0\n",
              "1       0   15                  1  ...      0.000000              89           1\n",
              "2       0   25                  1  ...      0.333333              37           0\n",
              "3       1   35                  1  ...      0.000000              70           0\n",
              "4       1   45                  1  ...      0.000000              65           0\n",
              "\n",
              "[5 rows x 31 columns]"
            ]
          },
          "metadata": {
            "tags": []
          },
          "execution_count": 50
        }
      ]
    },
    {
      "cell_type": "markdown",
      "metadata": {
        "id": "5LuWU-vfsNq4"
      },
      "source": [
        "##Models and Classification"
      ]
    },
    {
      "cell_type": "markdown",
      "metadata": {
        "id": "CrkPtauvJBTU"
      },
      "source": [
        "###Models and Evaluation"
      ]
    },
    {
      "cell_type": "code",
      "metadata": {
        "id": "7ZcxgG_ossB_"
      },
      "source": [
        "from sklearn.model_selection import cross_val_score\n",
        "from sklearn.metrics import accuracy_score, precision_score, recall_score, f1_score, roc_auc_score, confusion_matrix, classification_report"
      ],
      "execution_count": null,
      "outputs": []
    },
    {
      "cell_type": "code",
      "metadata": {
        "colab": {
          "base_uri": "https://localhost:8080/"
        },
        "id": "dC_3zTnEszci",
        "outputId": "b4db7954-3467-4990-e7f3-257c230fa53b"
      },
      "source": [
        "#Baseline Model \n",
        "from sklearn.neighbors import KNeighborsClassifier\n",
        "model_b = KNeighborsClassifier(n_neighbors=5)\n",
        "\n",
        "#Cross Validation Accuracy \n",
        "knn_score = cross_val_score(model_b, X_train, Y_train, cv=5, scoring = 'accuracy').mean()\n",
        "print(knn_score)"
      ],
      "execution_count": null,
      "outputs": [
        {
          "output_type": "stream",
          "text": [
            "0.5242162061975739\n"
          ],
          "name": "stdout"
        }
      ]
    },
    {
      "cell_type": "code",
      "metadata": {
        "colab": {
          "base_uri": "https://localhost:8080/",
          "height": 313
        },
        "id": "V1n0e1CNvM6f",
        "outputId": "f281408e-a83a-4291-e6c9-3676341b26a4"
      },
      "source": [
        "result_2 = model_b.fit(X_train,Y_train)\n",
        "y = result_2.predict(X_test)\n",
        "\n",
        "#Recall Score \n",
        "rc_score_2 = recall_score(Y_test,y, average='macro')\n",
        "\n",
        "#Precision Score \n",
        "p_score_2 = precision_score(Y_test,y,average='macro')\n",
        "\n",
        "#F1 score \n",
        "f1_score_2 = f1_score(Y_test,y,average='macro')\n",
        "\n",
        "#ROC AUC Score \n",
        "roc_auc_score_2 = roc_auc_score(Y_test, y, multi_class='ovo')\n",
        "\n",
        "#Confusion Matrix \n",
        "cfm = confusion_matrix(Y_test, y)\n",
        "print(cfm)\n",
        "labels = ['Class 0', 'Class 1']\n",
        "fig = plt.figure()\n",
        "ax = fig.add_subplot(111)\n",
        "cax = ax.matshow(cfm, cmap=plt.cm.Blues)\n",
        "fig.colorbar(cax)\n",
        "ax.set_xticklabels([''] + labels)\n",
        "ax.set_yticklabels([''] + labels)\n",
        "plt.xlabel('Predicted')\n",
        "plt.ylabel('Expected')\n",
        "plt.show()"
      ],
      "execution_count": null,
      "outputs": [
        {
          "output_type": "stream",
          "text": [
            "[[3614 3119]\n",
            " [3184 3427]]\n"
          ],
          "name": "stdout"
        },
        {
          "output_type": "display_data",
          "data": {
            "image/png": "[encoded data removed]",
            "text/plain": [
              "<Figure size 432x288 with 2 Axes>"
            ]
          },
          "metadata": {
            "tags": [],
            "needs_background": "light"
          }
        }
      ]
    },
    {
      "cell_type": "code",
      "metadata": {
        "colab": {
          "base_uri": "https://localhost:8080/"
        },
        "id": "f-jTdOg8RaZL",
        "outputId": "8eaabe6f-c8ad-4423-d54d-3a828de0602a"
      },
      "source": [
        "print(rc_score_2, p_score_2 )"
      ],
      "execution_count": null,
      "outputs": [
        {
          "output_type": "stream",
          "text": [
            "0.5275688528246953 0.5275763831978404\n"
          ],
          "name": "stdout"
        }
      ]
    },
    {
      "cell_type": "code",
      "metadata": {
        "colab": {
          "base_uri": "https://localhost:8080/"
        },
        "id": "1t2fOIgZPdK0",
        "outputId": "02a54a00-422d-4fdd-85c2-ce6de121f77a"
      },
      "source": [
        "#Model 2\n",
        "from sklearn.naive_bayes import GaussianNB\n",
        "model_1 = GaussianNB()\n",
        "\n",
        "#Cross Validation Acccuracy score \n",
        "GNB_score = cross_val_score(model_1, X_train, Y_train, cv = 5, scoring = 'accuracy').mean()\n",
        "print(GNB_score)"
      ],
      "execution_count": null,
      "outputs": [
        {
          "output_type": "stream",
          "text": [
            "0.5459919762271724\n"
          ],
          "name": "stdout"
        }
      ]
    },
    {
      "cell_type": "code",
      "metadata": {
        "colab": {
          "base_uri": "https://localhost:8080/",
          "height": 313
        },
        "id": "4XAu9WRvYCCo",
        "outputId": "7970714b-9e02-41b4-934a-f1acf79bdb03"
      },
      "source": [
        "result_1 = model_1.fit(X_train,Y_train)\n",
        "y = result_1.predict(X_test)\n",
        "\n",
        "#Recall Score \n",
        "rc_score_1 = recall_score(Y_test,y, average='macro')\n",
        "\n",
        "#Precision Score \n",
        "p_score_1 = precision_score(Y_test,y,average='macro')\n",
        "\n",
        "#F1 score \n",
        "f1_score_1 = f1_score(Y_test,y,average='macro')\n",
        "\n",
        "#ROC AUC Score \n",
        "roc_auc_score_1 = roc_auc_score(Y_test, y, multi_class='ovo')\n",
        "\n",
        "#Confusion Matrix \n",
        "cfm = confusion_matrix(Y_test, y)\n",
        "print(cfm)\n",
        "labels = ['Class 0', 'Class 1']\n",
        "fig = plt.figure()\n",
        "ax = fig.add_subplot(111)\n",
        "cax = ax.matshow(cfm, cmap=plt.cm.Reds)\n",
        "fig.colorbar(cax)\n",
        "ax.set_xticklabels([''] + labels)\n",
        "ax.set_yticklabels([''] + labels)\n",
        "#plt.title(\"Confusion Matrix for Naive-Bayes model\")\n",
        "plt.xlabel('Predicted')\n",
        "plt.ylabel('Expected')\n",
        "plt.show()"
      ],
      "execution_count": null,
      "outputs": [
        {
          "output_type": "stream",
          "text": [
            "[[5690 1043]\n",
            " [4938 1673]]\n"
          ],
          "name": "stdout"
        },
        {
          "output_type": "display_data",
          "data": {
            "image/png": "[encoded data removed]",
            "text/plain": [
              "<Figure size 432x288 with 2 Axes>"
            ]
          },
          "metadata": {
            "tags": [],
            "needs_background": "light"
          }
        }
      ]
    },
    {
      "cell_type": "code",
      "metadata": {
        "colab": {
          "base_uri": "https://localhost:8080/"
        },
        "id": "A9wf-OfEU4N6",
        "outputId": "46409571-5c87-495f-cef8-cd446e296de6"
      },
      "source": [
        "print(rc_score_1, p_score_1 )"
      ],
      "execution_count": null,
      "outputs": [
        {
          "output_type": "stream",
          "text": [
            "0.5490772089229337 0.5756788137927824\n"
          ],
          "name": "stdout"
        }
      ]
    },
    {
      "cell_type": "code",
      "metadata": {
        "colab": {
          "base_uri": "https://localhost:8080/"
        },
        "id": "xpCWwgmVABIE",
        "outputId": "f122f028-6eef-43db-a04f-3ca92123bf14"
      },
      "source": [
        "#Model 3\n",
        "from sklearn.linear_model import LogisticRegression\n",
        "\n",
        "model_3 = LogisticRegression(max_iter = 1000)\n",
        "\n",
        "\n",
        "lr_score = cross_val_score(model_3, X_train, Y_train, cv=5, scoring = 'accuracy').mean()\n",
        "print(lr_score)"
      ],
      "execution_count": null,
      "outputs": [
        {
          "output_type": "stream",
          "text": [
            "0.5761820274461013\n"
          ],
          "name": "stdout"
        }
      ]
    },
    {
      "cell_type": "code",
      "metadata": {
        "colab": {
          "base_uri": "https://localhost:8080/",
          "height": 313
        },
        "id": "4TKTjZcSwkhC",
        "outputId": "b6d6ef92-6571-4552-8c36-d054243110f8"
      },
      "source": [
        "result_3 = model_3.fit(X_train,Y_train)\n",
        "y = result_3.predict(X_test)\n",
        "\n",
        "#Recall Score \n",
        "rc_score_3 = recall_score(Y_test,y, average='macro')\n",
        "\n",
        "#Precision Score \n",
        "p_score_3 = precision_score(Y_test,y,average='macro')\n",
        "\n",
        "#F1 score \n",
        "f1_score_3 = f1_score(Y_test,y,average='macro')\n",
        "\n",
        "#ROC AUC Score \n",
        "roc_auc_score_3 = roc_auc_score(Y_test, y, multi_class='ovo')\n",
        "\n",
        "#Confusion Matrix \n",
        "cfm = confusion_matrix(Y_test, y)\n",
        "print(cfm)\n",
        "labels = ['Class 0', 'Class 1']\n",
        "fig = plt.figure()\n",
        "ax = fig.add_subplot(111)\n",
        "cax = ax.matshow(cfm, cmap=plt.cm.Greens)\n",
        "fig.colorbar(cax)\n",
        "ax.set_xticklabels([''] + labels)\n",
        "ax.set_yticklabels([''] + labels)\n",
        "plt.xlabel('Predicted')\n",
        "plt.ylabel('Expected')\n",
        "plt.show()"
      ],
      "execution_count": null,
      "outputs": [
        {
          "output_type": "stream",
          "text": [
            "[[4068 2665]\n",
            " [2980 3631]]\n"
          ],
          "name": "stdout"
        },
        {
          "output_type": "display_data",
          "data": {
            "image/png": "[encoded data removed]",
            "text/plain": [
              "<Figure size 432x288 with 2 Axes>"
            ]
          },
          "metadata": {
            "tags": [],
            "needs_background": "light"
          }
        }
      ]
    },
    {
      "cell_type": "code",
      "metadata": {
        "colab": {
          "base_uri": "https://localhost:8080/"
        },
        "id": "zZsty28aAjOD",
        "outputId": "90c04a28-2a74-45e1-f550-7198d5a56303"
      },
      "source": [
        "#Model 4\n",
        "from sklearn import svm\n",
        "model_4 = svm.SVC(kernel='linear', C = 0.01)\n",
        "svm_score = cross_val_score(model_4, X_train, Y_train, cv=5, scoring = 'accuracy').mean()\n",
        "print(svm_score)"
      ],
      "execution_count": null,
      "outputs": [
        {
          "output_type": "stream",
          "text": [
            "0.561151001001605\n"
          ],
          "name": "stdout"
        }
      ]
    },
    {
      "cell_type": "code",
      "metadata": {
        "id": "swCBFp_GziQU",
        "colab": {
          "base_uri": "https://localhost:8080/",
          "height": 313
        },
        "outputId": "e34167d1-6b72-4238-911c-b193326ac047"
      },
      "source": [
        "# Result of SVM with Linear kernel without hyperparamter tuning\n",
        "result_4 = model_4.fit(X_train,Y_train)\n",
        "y = result_4.predict(X_test)\n",
        "\n",
        "#Recall Score \n",
        "rc_score_4 = recall_score(Y_test,y, average='macro')\n",
        "\n",
        "#Precision Score \n",
        "p_score_4 = precision_score(Y_test,y,average='macro')\n",
        "\n",
        "#F1 score \n",
        "f1_score_4 = f1_score(Y_test,y,average='macro')\n",
        "\n",
        "#ROC AUC Score \n",
        "roc_auc_score_4 = roc_auc_score(Y_test, y, multi_class='ovo')\n",
        "\n",
        "#Confusion Matrix \n",
        "cfm = confusion_matrix(Y_test, y)\n",
        "print(cfm)\n",
        "labels = ['Class 0', 'Class 1']\n",
        "fig = plt.figure()\n",
        "ax = fig.add_subplot(111)\n",
        "cax = ax.matshow(cfm, cmap=plt.cm.Oranges)\n",
        "fig.colorbar(cax)\n",
        "ax.set_xticklabels([''] + labels)\n",
        "ax.set_yticklabels([''] + labels)\n",
        "plt.xlabel('Predicted')\n",
        "plt.ylabel('Expected')\n",
        "plt.show()"
      ],
      "execution_count": null,
      "outputs": [
        {
          "output_type": "stream",
          "text": [
            "[[5258 1475]\n",
            " [4317 2294]]\n"
          ],
          "name": "stdout"
        },
        {
          "output_type": "display_data",
          "data": {
            "image/png": "[encoded data removed]",
            "text/plain": [
              "<Figure size 432x288 with 2 Axes>"
            ]
          },
          "metadata": {
            "tags": [],
            "needs_background": "light"
          }
        }
      ]
    },
    {
      "cell_type": "markdown",
      "metadata": {
        "id": "i_c2j7ihhoRY"
      },
      "source": [
        "### SVM with Hyperparameter tuning:"
      ]
    },
    {
      "cell_type": "code",
      "metadata": {
        "id": "lO0flNu9q9F6"
      },
      "source": [
        "param_grid = {'C': [0.1, 1, 10], \n",
        "              'gamma': [0.01, 0.001, 0.0001],\n",
        "              'kernel': ['rbf']} "
      ],
      "execution_count": null,
      "outputs": []
    },
    {
      "cell_type": "code",
      "metadata": {
        "colab": {
          "base_uri": "https://localhost:8080/"
        },
        "id": "4m91TX7dq4Wb",
        "outputId": "fa65a794-65d1-4008-b82d-236e163e7f49"
      },
      "source": [
        "from sklearn.model_selection import GridSearchCV\n",
        "from sklearn import svm\n",
        "\n",
        "grid = GridSearchCV(svm.SVC(), param_grid, refit = True, verbose = 3)\n",
        "  \n",
        "# fitting the model for grid search\n",
        "#grid.fit(X_train, Y_train)\n",
        "svm_score_g = cross_val_score(grid, X_train, Y_train, cv=5, scoring = 'accuracy')\n",
        "print(svm_score_g)"
      ],
      "execution_count": null,
      "outputs": [
        {
          "output_type": "stream",
          "text": [
            "Fitting 5 folds for each of 9 candidates, totalling 45 fits\n",
            "[CV] C=0.1, gamma=0.01, kernel=rbf ...................................\n"
          ],
          "name": "stdout"
        },
        {
          "output_type": "stream",
          "text": [
            "[Parallel(n_jobs=1)]: Using backend SequentialBackend with 1 concurrent workers.\n"
          ],
          "name": "stderr"
        },
        {
          "output_type": "stream",
          "text": [
            "[CV] ....... C=0.1, gamma=0.01, kernel=rbf, score=0.548, total=  41.0s\n",
            "[CV] C=0.1, gamma=0.01, kernel=rbf ...................................\n"
          ],
          "name": "stdout"
        },
        {
          "output_type": "stream",
          "text": [
            "[Parallel(n_jobs=1)]: Done   1 out of   1 | elapsed:   41.0s remaining:    0.0s\n"
          ],
          "name": "stderr"
        },
        {
          "output_type": "stream",
          "text": [
            "[CV] ....... C=0.1, gamma=0.01, kernel=rbf, score=0.538, total=  41.7s\n",
            "[CV] C=0.1, gamma=0.01, kernel=rbf ...................................\n"
          ],
          "name": "stdout"
        },
        {
          "output_type": "stream",
          "text": [
            "[Parallel(n_jobs=1)]: Done   2 out of   2 | elapsed:  1.4min remaining:    0.0s\n"
          ],
          "name": "stderr"
        },
        {
          "output_type": "stream",
          "text": [
            "[CV] ....... C=0.1, gamma=0.01, kernel=rbf, score=0.547, total=  41.7s\n",
            "[CV] C=0.1, gamma=0.01, kernel=rbf ...................................\n",
            "[CV] ....... C=0.1, gamma=0.01, kernel=rbf, score=0.520, total=  41.5s\n",
            "[CV] C=0.1, gamma=0.01, kernel=rbf ...................................\n",
            "[CV] ....... C=0.1, gamma=0.01, kernel=rbf, score=0.528, total=  41.5s\n",
            "[CV] C=0.1, gamma=0.001, kernel=rbf ..................................\n",
            "[CV] ...... C=0.1, gamma=0.001, kernel=rbf, score=0.562, total=  40.7s\n",
            "[CV] C=0.1, gamma=0.001, kernel=rbf ..................................\n",
            "[CV] ...... C=0.1, gamma=0.001, kernel=rbf, score=0.557, total=  41.1s\n",
            "[CV] C=0.1, gamma=0.001, kernel=rbf ..................................\n",
            "[CV] ...... C=0.1, gamma=0.001, kernel=rbf, score=0.552, total=  41.6s\n",
            "[CV] C=0.1, gamma=0.001, kernel=rbf ..................................\n",
            "[CV] ...... C=0.1, gamma=0.001, kernel=rbf, score=0.553, total=  41.3s\n",
            "[CV] C=0.1, gamma=0.001, kernel=rbf ..................................\n",
            "[CV] ...... C=0.1, gamma=0.001, kernel=rbf, score=0.552, total=  41.4s\n",
            "[CV] C=0.1, gamma=0.0001, kernel=rbf .................................\n",
            "[CV] ..... C=0.1, gamma=0.0001, kernel=rbf, score=0.552, total=  40.9s\n",
            "[CV] C=0.1, gamma=0.0001, kernel=rbf .................................\n",
            "[CV] ..... C=0.1, gamma=0.0001, kernel=rbf, score=0.540, total=  40.6s\n",
            "[CV] C=0.1, gamma=0.0001, kernel=rbf .................................\n",
            "[CV] ..... C=0.1, gamma=0.0001, kernel=rbf, score=0.552, total=  40.9s\n",
            "[CV] C=0.1, gamma=0.0001, kernel=rbf .................................\n",
            "[CV] ..... C=0.1, gamma=0.0001, kernel=rbf, score=0.542, total=  40.8s\n",
            "[CV] C=0.1, gamma=0.0001, kernel=rbf .................................\n",
            "[CV] ..... C=0.1, gamma=0.0001, kernel=rbf, score=0.541, total=  41.2s\n",
            "[CV] C=1, gamma=0.01, kernel=rbf .....................................\n",
            "[CV] ......... C=1, gamma=0.01, kernel=rbf, score=0.552, total= 1.3min\n",
            "[CV] C=1, gamma=0.01, kernel=rbf .....................................\n",
            "[CV] ......... C=1, gamma=0.01, kernel=rbf, score=0.541, total= 1.2min\n",
            "[CV] C=1, gamma=0.01, kernel=rbf .....................................\n",
            "[CV] ......... C=1, gamma=0.01, kernel=rbf, score=0.537, total= 1.2min\n",
            "[CV] C=1, gamma=0.01, kernel=rbf .....................................\n",
            "[CV] ......... C=1, gamma=0.01, kernel=rbf, score=0.529, total= 1.2min\n",
            "[CV] C=1, gamma=0.01, kernel=rbf .....................................\n",
            "[CV] ......... C=1, gamma=0.01, kernel=rbf, score=0.529, total= 1.2min\n",
            "[CV] C=1, gamma=0.001, kernel=rbf ....................................\n",
            "[CV] ........ C=1, gamma=0.001, kernel=rbf, score=0.571, total=  39.7s\n",
            "[CV] C=1, gamma=0.001, kernel=rbf ....................................\n",
            "[CV] ........ C=1, gamma=0.001, kernel=rbf, score=0.567, total=  39.4s\n",
            "[CV] C=1, gamma=0.001, kernel=rbf ....................................\n",
            "[CV] ........ C=1, gamma=0.001, kernel=rbf, score=0.564, total=  39.3s\n",
            "[CV] C=1, gamma=0.001, kernel=rbf ....................................\n",
            "[CV] ........ C=1, gamma=0.001, kernel=rbf, score=0.567, total=  39.4s\n",
            "[CV] C=1, gamma=0.001, kernel=rbf ....................................\n",
            "[CV] ........ C=1, gamma=0.001, kernel=rbf, score=0.563, total=  38.5s\n",
            "[CV] C=1, gamma=0.0001, kernel=rbf ...................................\n",
            "[CV] ....... C=1, gamma=0.0001, kernel=rbf, score=0.571, total=  39.4s\n",
            "[CV] C=1, gamma=0.0001, kernel=rbf ...................................\n",
            "[CV] ....... C=1, gamma=0.0001, kernel=rbf, score=0.565, total=  39.6s\n",
            "[CV] C=1, gamma=0.0001, kernel=rbf ...................................\n",
            "[CV] ....... C=1, gamma=0.0001, kernel=rbf, score=0.568, total=  39.7s\n",
            "[CV] C=1, gamma=0.0001, kernel=rbf ...................................\n",
            "[CV] ....... C=1, gamma=0.0001, kernel=rbf, score=0.566, total=  39.3s\n",
            "[CV] C=1, gamma=0.0001, kernel=rbf ...................................\n",
            "[CV] ....... C=1, gamma=0.0001, kernel=rbf, score=0.563, total=  39.7s\n",
            "[CV] C=10, gamma=0.01, kernel=rbf ....................................\n",
            "[CV] ........ C=10, gamma=0.01, kernel=rbf, score=0.529, total= 3.3min\n",
            "[CV] C=10, gamma=0.01, kernel=rbf ....................................\n",
            "[CV] ........ C=10, gamma=0.01, kernel=rbf, score=0.522, total= 3.3min\n",
            "[CV] C=10, gamma=0.01, kernel=rbf ....................................\n",
            "[CV] ........ C=10, gamma=0.01, kernel=rbf, score=0.528, total= 3.3min\n",
            "[CV] C=10, gamma=0.01, kernel=rbf ....................................\n",
            "[CV] ........ C=10, gamma=0.01, kernel=rbf, score=0.518, total= 3.2min\n",
            "[CV] C=10, gamma=0.01, kernel=rbf ....................................\n",
            "[CV] ........ C=10, gamma=0.01, kernel=rbf, score=0.522, total= 3.2min\n",
            "[CV] C=10, gamma=0.001, kernel=rbf ...................................\n",
            "[CV] ....... C=10, gamma=0.001, kernel=rbf, score=0.572, total=  51.5s\n",
            "[CV] C=10, gamma=0.001, kernel=rbf ...................................\n",
            "[CV] ....... C=10, gamma=0.001, kernel=rbf, score=0.566, total=  52.1s\n",
            "[CV] C=10, gamma=0.001, kernel=rbf ...................................\n",
            "[CV] ....... C=10, gamma=0.001, kernel=rbf, score=0.566, total=  52.4s\n",
            "[CV] C=10, gamma=0.001, kernel=rbf ...................................\n",
            "[CV] ....... C=10, gamma=0.001, kernel=rbf, score=0.557, total=  52.6s\n",
            "[CV] C=10, gamma=0.001, kernel=rbf ...................................\n",
            "[CV] ....... C=10, gamma=0.001, kernel=rbf, score=0.570, total=  52.1s\n",
            "[CV] C=10, gamma=0.0001, kernel=rbf ..................................\n",
            "[CV] ...... C=10, gamma=0.0001, kernel=rbf, score=0.583, total=  38.6s\n",
            "[CV] C=10, gamma=0.0001, kernel=rbf ..................................\n",
            "[CV] ...... C=10, gamma=0.0001, kernel=rbf, score=0.580, total=  38.7s\n",
            "[CV] C=10, gamma=0.0001, kernel=rbf ..................................\n",
            "[CV] ...... C=10, gamma=0.0001, kernel=rbf, score=0.585, total=  38.5s\n",
            "[CV] C=10, gamma=0.0001, kernel=rbf ..................................\n",
            "[CV] ...... C=10, gamma=0.0001, kernel=rbf, score=0.584, total=  38.5s\n",
            "[CV] C=10, gamma=0.0001, kernel=rbf ..................................\n",
            "[CV] ...... C=10, gamma=0.0001, kernel=rbf, score=0.582, total=  38.3s\n"
          ],
          "name": "stdout"
        },
        {
          "output_type": "stream",
          "text": [
            "[Parallel(n_jobs=1)]: Done  45 out of  45 | elapsed: 46.8min finished\n"
          ],
          "name": "stderr"
        },
        {
          "output_type": "stream",
          "text": [
            "Fitting 5 folds for each of 9 candidates, totalling 45 fits\n",
            "[CV] C=0.1, gamma=0.01, kernel=rbf ...................................\n"
          ],
          "name": "stdout"
        },
        {
          "output_type": "stream",
          "text": [
            "[Parallel(n_jobs=1)]: Using backend SequentialBackend with 1 concurrent workers.\n"
          ],
          "name": "stderr"
        },
        {
          "output_type": "stream",
          "text": [
            "[CV] ....... C=0.1, gamma=0.01, kernel=rbf, score=0.532, total=  39.9s\n",
            "[CV] C=0.1, gamma=0.01, kernel=rbf ...................................\n"
          ],
          "name": "stdout"
        },
        {
          "output_type": "stream",
          "text": [
            "[Parallel(n_jobs=1)]: Done   1 out of   1 | elapsed:   39.9s remaining:    0.0s\n"
          ],
          "name": "stderr"
        },
        {
          "output_type": "stream",
          "text": [
            "[CV] ....... C=0.1, gamma=0.01, kernel=rbf, score=0.535, total=  40.0s\n",
            "[CV] C=0.1, gamma=0.01, kernel=rbf ...................................\n"
          ],
          "name": "stdout"
        },
        {
          "output_type": "stream",
          "text": [
            "[Parallel(n_jobs=1)]: Done   2 out of   2 | elapsed:  1.3min remaining:    0.0s\n"
          ],
          "name": "stderr"
        },
        {
          "output_type": "stream",
          "text": [
            "[CV] ....... C=0.1, gamma=0.01, kernel=rbf, score=0.534, total=  40.2s\n",
            "[CV] C=0.1, gamma=0.01, kernel=rbf ...................................\n",
            "[CV] ....... C=0.1, gamma=0.01, kernel=rbf, score=0.515, total=  40.2s\n",
            "[CV] C=0.1, gamma=0.01, kernel=rbf ...................................\n",
            "[CV] ....... C=0.1, gamma=0.01, kernel=rbf, score=0.530, total=  39.7s\n",
            "[CV] C=0.1, gamma=0.001, kernel=rbf ..................................\n",
            "[CV] ...... C=0.1, gamma=0.001, kernel=rbf, score=0.544, total=  39.8s\n",
            "[CV] C=0.1, gamma=0.001, kernel=rbf ..................................\n",
            "[CV] ...... C=0.1, gamma=0.001, kernel=rbf, score=0.560, total=  40.2s\n",
            "[CV] C=0.1, gamma=0.001, kernel=rbf ..................................\n",
            "[CV] ...... C=0.1, gamma=0.001, kernel=rbf, score=0.554, total=  40.3s\n",
            "[CV] C=0.1, gamma=0.001, kernel=rbf ..................................\n",
            "[CV] ...... C=0.1, gamma=0.001, kernel=rbf, score=0.549, total=  40.7s\n",
            "[CV] C=0.1, gamma=0.001, kernel=rbf ..................................\n",
            "[CV] ...... C=0.1, gamma=0.001, kernel=rbf, score=0.550, total=  41.1s\n",
            "[CV] C=0.1, gamma=0.0001, kernel=rbf .................................\n",
            "[CV] ..... C=0.1, gamma=0.0001, kernel=rbf, score=0.538, total=  39.8s\n",
            "[CV] C=0.1, gamma=0.0001, kernel=rbf .................................\n",
            "[CV] ..... C=0.1, gamma=0.0001, kernel=rbf, score=0.552, total=  39.5s\n",
            "[CV] C=0.1, gamma=0.0001, kernel=rbf .................................\n",
            "[CV] ..... C=0.1, gamma=0.0001, kernel=rbf, score=0.550, total=  40.1s\n",
            "[CV] C=0.1, gamma=0.0001, kernel=rbf .................................\n",
            "[CV] ..... C=0.1, gamma=0.0001, kernel=rbf, score=0.537, total=  40.3s\n",
            "[CV] C=0.1, gamma=0.0001, kernel=rbf .................................\n",
            "[CV] ..... C=0.1, gamma=0.0001, kernel=rbf, score=0.538, total=  39.6s\n",
            "[CV] C=1, gamma=0.01, kernel=rbf .....................................\n",
            "[CV] ......... C=1, gamma=0.01, kernel=rbf, score=0.529, total= 1.1min\n",
            "[CV] C=1, gamma=0.01, kernel=rbf .....................................\n",
            "[CV] ......... C=1, gamma=0.01, kernel=rbf, score=0.541, total= 1.1min\n",
            "[CV] C=1, gamma=0.01, kernel=rbf .....................................\n",
            "[CV] ......... C=1, gamma=0.01, kernel=rbf, score=0.532, total= 1.1min\n",
            "[CV] C=1, gamma=0.01, kernel=rbf .....................................\n",
            "[CV] ......... C=1, gamma=0.01, kernel=rbf, score=0.534, total= 1.1min\n",
            "[CV] C=1, gamma=0.01, kernel=rbf .....................................\n",
            "[CV] ......... C=1, gamma=0.01, kernel=rbf, score=0.525, total= 1.1min\n",
            "[CV] C=1, gamma=0.001, kernel=rbf ....................................\n",
            "[CV] ........ C=1, gamma=0.001, kernel=rbf, score=0.560, total=  38.9s\n",
            "[CV] C=1, gamma=0.001, kernel=rbf ....................................\n",
            "[CV] ........ C=1, gamma=0.001, kernel=rbf, score=0.570, total=  38.8s\n",
            "[CV] C=1, gamma=0.001, kernel=rbf ....................................\n",
            "[CV] ........ C=1, gamma=0.001, kernel=rbf, score=0.569, total=  38.9s\n",
            "[CV] C=1, gamma=0.001, kernel=rbf ....................................\n",
            "[CV] ........ C=1, gamma=0.001, kernel=rbf, score=0.564, total=  39.0s\n",
            "[CV] C=1, gamma=0.001, kernel=rbf ....................................\n",
            "[CV] ........ C=1, gamma=0.001, kernel=rbf, score=0.567, total=  39.3s\n",
            "[CV] C=1, gamma=0.0001, kernel=rbf ...................................\n",
            "[CV] ....... C=1, gamma=0.0001, kernel=rbf, score=0.564, total=  39.1s\n",
            "[CV] C=1, gamma=0.0001, kernel=rbf ...................................\n",
            "[CV] ....... C=1, gamma=0.0001, kernel=rbf, score=0.579, total=  39.1s\n",
            "[CV] C=1, gamma=0.0001, kernel=rbf ...................................\n",
            "[CV] ....... C=1, gamma=0.0001, kernel=rbf, score=0.574, total=  38.7s\n",
            "[CV] C=1, gamma=0.0001, kernel=rbf ...................................\n",
            "[CV] ....... C=1, gamma=0.0001, kernel=rbf, score=0.566, total=  38.5s\n",
            "[CV] C=1, gamma=0.0001, kernel=rbf ...................................\n",
            "[CV] ....... C=1, gamma=0.0001, kernel=rbf, score=0.564, total=  38.6s\n",
            "[CV] C=10, gamma=0.01, kernel=rbf ....................................\n",
            "[CV] ........ C=10, gamma=0.01, kernel=rbf, score=0.528, total= 3.2min\n",
            "[CV] C=10, gamma=0.01, kernel=rbf ....................................\n",
            "[CV] ........ C=10, gamma=0.01, kernel=rbf, score=0.526, total= 3.2min\n",
            "[CV] C=10, gamma=0.01, kernel=rbf ....................................\n",
            "[CV] ........ C=10, gamma=0.01, kernel=rbf, score=0.525, total= 3.2min\n",
            "[CV] C=10, gamma=0.01, kernel=rbf ....................................\n",
            "[CV] ........ C=10, gamma=0.01, kernel=rbf, score=0.514, total= 3.2min\n",
            "[CV] C=10, gamma=0.01, kernel=rbf ....................................\n",
            "[CV] ........ C=10, gamma=0.01, kernel=rbf, score=0.519, total= 3.2min\n",
            "[CV] C=10, gamma=0.001, kernel=rbf ...................................\n",
            "[CV] ....... C=10, gamma=0.001, kernel=rbf, score=0.558, total=  50.9s\n",
            "[CV] C=10, gamma=0.001, kernel=rbf ...................................\n",
            "[CV] ....... C=10, gamma=0.001, kernel=rbf, score=0.560, total=  51.7s\n",
            "[CV] C=10, gamma=0.001, kernel=rbf ...................................\n",
            "[CV] ....... C=10, gamma=0.001, kernel=rbf, score=0.566, total=  51.9s\n",
            "[CV] C=10, gamma=0.001, kernel=rbf ...................................\n",
            "[CV] ....... C=10, gamma=0.001, kernel=rbf, score=0.569, total=  52.0s\n",
            "[CV] C=10, gamma=0.001, kernel=rbf ...................................\n",
            "[CV] ....... C=10, gamma=0.001, kernel=rbf, score=0.556, total=  53.7s\n",
            "[CV] C=10, gamma=0.0001, kernel=rbf ..................................\n",
            "[CV] ...... C=10, gamma=0.0001, kernel=rbf, score=0.580, total=  38.8s\n",
            "[CV] C=10, gamma=0.0001, kernel=rbf ..................................\n",
            "[CV] ...... C=10, gamma=0.0001, kernel=rbf, score=0.586, total=  38.3s\n",
            "[CV] C=10, gamma=0.0001, kernel=rbf ..................................\n",
            "[CV] ...... C=10, gamma=0.0001, kernel=rbf, score=0.579, total=  39.1s\n",
            "[CV] C=10, gamma=0.0001, kernel=rbf ..................................\n",
            "[CV] ...... C=10, gamma=0.0001, kernel=rbf, score=0.585, total=  38.9s\n",
            "[CV] C=10, gamma=0.0001, kernel=rbf ..................................\n",
            "[CV] ...... C=10, gamma=0.0001, kernel=rbf, score=0.579, total=  39.0s\n"
          ],
          "name": "stdout"
        },
        {
          "output_type": "stream",
          "text": [
            "[Parallel(n_jobs=1)]: Done  45 out of  45 | elapsed: 45.9min finished\n"
          ],
          "name": "stderr"
        },
        {
          "output_type": "stream",
          "text": [
            "Fitting 5 folds for each of 9 candidates, totalling 45 fits\n",
            "[CV] C=0.1, gamma=0.01, kernel=rbf ...................................\n"
          ],
          "name": "stdout"
        },
        {
          "output_type": "stream",
          "text": [
            "[Parallel(n_jobs=1)]: Using backend SequentialBackend with 1 concurrent workers.\n"
          ],
          "name": "stderr"
        },
        {
          "output_type": "stream",
          "text": [
            "[CV] ....... C=0.1, gamma=0.01, kernel=rbf, score=0.539, total=  40.2s\n",
            "[CV] C=0.1, gamma=0.01, kernel=rbf ...................................\n"
          ],
          "name": "stdout"
        },
        {
          "output_type": "stream",
          "text": [
            "[Parallel(n_jobs=1)]: Done   1 out of   1 | elapsed:   40.2s remaining:    0.0s\n"
          ],
          "name": "stderr"
        },
        {
          "output_type": "stream",
          "text": [
            "[CV] ....... C=0.1, gamma=0.01, kernel=rbf, score=0.542, total=  39.7s\n",
            "[CV] C=0.1, gamma=0.01, kernel=rbf ...................................\n"
          ],
          "name": "stdout"
        },
        {
          "output_type": "stream",
          "text": [
            "[Parallel(n_jobs=1)]: Done   2 out of   2 | elapsed:  1.3min remaining:    0.0s\n"
          ],
          "name": "stderr"
        },
        {
          "output_type": "stream",
          "text": [
            "[CV] ....... C=0.1, gamma=0.01, kernel=rbf, score=0.543, total=  40.3s\n",
            "[CV] C=0.1, gamma=0.01, kernel=rbf ...................................\n",
            "[CV] ....... C=0.1, gamma=0.01, kernel=rbf, score=0.523, total=  40.4s\n",
            "[CV] C=0.1, gamma=0.01, kernel=rbf ...................................\n",
            "[CV] ....... C=0.1, gamma=0.01, kernel=rbf, score=0.523, total=  40.1s\n",
            "[CV] C=0.1, gamma=0.001, kernel=rbf ..................................\n",
            "[CV] ...... C=0.1, gamma=0.001, kernel=rbf, score=0.548, total=  39.8s\n",
            "[CV] C=0.1, gamma=0.001, kernel=rbf ..................................\n",
            "[CV] ...... C=0.1, gamma=0.001, kernel=rbf, score=0.558, total=  39.8s\n",
            "[CV] C=0.1, gamma=0.001, kernel=rbf ..................................\n",
            "[CV] ...... C=0.1, gamma=0.001, kernel=rbf, score=0.566, total=  39.6s\n",
            "[CV] C=0.1, gamma=0.001, kernel=rbf ..................................\n",
            "[CV] ...... C=0.1, gamma=0.001, kernel=rbf, score=0.553, total=  39.9s\n",
            "[CV] C=0.1, gamma=0.001, kernel=rbf ..................................\n",
            "[CV] ...... C=0.1, gamma=0.001, kernel=rbf, score=0.547, total=  39.9s\n",
            "[CV] C=0.1, gamma=0.0001, kernel=rbf .................................\n",
            "[CV] ..... C=0.1, gamma=0.0001, kernel=rbf, score=0.540, total=  39.9s\n",
            "[CV] C=0.1, gamma=0.0001, kernel=rbf .................................\n",
            "[CV] ..... C=0.1, gamma=0.0001, kernel=rbf, score=0.552, total=  39.7s\n",
            "[CV] C=0.1, gamma=0.0001, kernel=rbf .................................\n",
            "[CV] ..... C=0.1, gamma=0.0001, kernel=rbf, score=0.547, total=  39.8s\n",
            "[CV] C=0.1, gamma=0.0001, kernel=rbf .................................\n",
            "[CV] ..... C=0.1, gamma=0.0001, kernel=rbf, score=0.539, total=  39.7s\n",
            "[CV] C=0.1, gamma=0.0001, kernel=rbf .................................\n",
            "[CV] ..... C=0.1, gamma=0.0001, kernel=rbf, score=0.537, total=  39.7s\n",
            "[CV] C=1, gamma=0.01, kernel=rbf .....................................\n",
            "[CV] ......... C=1, gamma=0.01, kernel=rbf, score=0.538, total= 1.1min\n",
            "[CV] C=1, gamma=0.01, kernel=rbf .....................................\n",
            "[CV] ......... C=1, gamma=0.01, kernel=rbf, score=0.538, total= 1.1min\n",
            "[CV] C=1, gamma=0.01, kernel=rbf .....................................\n",
            "[CV] ......... C=1, gamma=0.01, kernel=rbf, score=0.546, total= 1.1min\n",
            "[CV] C=1, gamma=0.01, kernel=rbf .....................................\n",
            "[CV] ......... C=1, gamma=0.01, kernel=rbf, score=0.527, total= 1.1min\n",
            "[CV] C=1, gamma=0.01, kernel=rbf .....................................\n",
            "[CV] ......... C=1, gamma=0.01, kernel=rbf, score=0.531, total= 1.1min\n",
            "[CV] C=1, gamma=0.001, kernel=rbf ....................................\n",
            "[CV] ........ C=1, gamma=0.001, kernel=rbf, score=0.563, total=  38.4s\n",
            "[CV] C=1, gamma=0.001, kernel=rbf ....................................\n",
            "[CV] ........ C=1, gamma=0.001, kernel=rbf, score=0.571, total=  38.9s\n",
            "[CV] C=1, gamma=0.001, kernel=rbf ....................................\n",
            "[CV] ........ C=1, gamma=0.001, kernel=rbf, score=0.580, total=  38.8s\n",
            "[CV] C=1, gamma=0.001, kernel=rbf ....................................\n",
            "[CV] ........ C=1, gamma=0.001, kernel=rbf, score=0.562, total=  38.8s\n",
            "[CV] C=1, gamma=0.001, kernel=rbf ....................................\n",
            "[CV] ........ C=1, gamma=0.001, kernel=rbf, score=0.566, total=  38.8s\n",
            "[CV] C=1, gamma=0.0001, kernel=rbf ...................................\n",
            "[CV] ....... C=1, gamma=0.0001, kernel=rbf, score=0.570, total=  39.4s\n",
            "[CV] C=1, gamma=0.0001, kernel=rbf ...................................\n",
            "[CV] ....... C=1, gamma=0.0001, kernel=rbf, score=0.572, total=  39.2s\n",
            "[CV] C=1, gamma=0.0001, kernel=rbf ...................................\n",
            "[CV] ....... C=1, gamma=0.0001, kernel=rbf, score=0.570, total=  39.2s\n",
            "[CV] C=1, gamma=0.0001, kernel=rbf ...................................\n",
            "[CV] ....... C=1, gamma=0.0001, kernel=rbf, score=0.563, total=  38.5s\n",
            "[CV] C=1, gamma=0.0001, kernel=rbf ...................................\n",
            "[CV] ....... C=1, gamma=0.0001, kernel=rbf, score=0.563, total=  38.6s\n",
            "[CV] C=10, gamma=0.01, kernel=rbf ....................................\n",
            "[CV] ........ C=10, gamma=0.01, kernel=rbf, score=0.526, total= 3.2min\n",
            "[CV] C=10, gamma=0.01, kernel=rbf ....................................\n",
            "[CV] ........ C=10, gamma=0.01, kernel=rbf, score=0.527, total= 3.1min\n",
            "[CV] C=10, gamma=0.01, kernel=rbf ....................................\n",
            "[CV] ........ C=10, gamma=0.01, kernel=rbf, score=0.539, total= 3.2min\n",
            "[CV] C=10, gamma=0.01, kernel=rbf ....................................\n",
            "[CV] ........ C=10, gamma=0.01, kernel=rbf, score=0.524, total= 3.2min\n",
            "[CV] C=10, gamma=0.01, kernel=rbf ....................................\n",
            "[CV] ........ C=10, gamma=0.01, kernel=rbf, score=0.524, total= 3.2min\n",
            "[CV] C=10, gamma=0.001, kernel=rbf ...................................\n",
            "[CV] ....... C=10, gamma=0.001, kernel=rbf, score=0.566, total=  55.8s\n",
            "[CV] C=10, gamma=0.001, kernel=rbf ...................................\n",
            "[CV] ....... C=10, gamma=0.001, kernel=rbf, score=0.580, total=  52.4s\n",
            "[CV] C=10, gamma=0.001, kernel=rbf ...................................\n",
            "[CV] ....... C=10, gamma=0.001, kernel=rbf, score=0.571, total=  52.9s\n",
            "[CV] C=10, gamma=0.001, kernel=rbf ...................................\n",
            "[CV] ....... C=10, gamma=0.001, kernel=rbf, score=0.559, total=  52.1s\n",
            "[CV] C=10, gamma=0.001, kernel=rbf ...................................\n",
            "[CV] ....... C=10, gamma=0.001, kernel=rbf, score=0.567, total=  53.1s\n",
            "[CV] C=10, gamma=0.0001, kernel=rbf ..................................\n",
            "[CV] ...... C=10, gamma=0.0001, kernel=rbf, score=0.583, total=  38.3s\n",
            "[CV] C=10, gamma=0.0001, kernel=rbf ..................................\n",
            "[CV] ...... C=10, gamma=0.0001, kernel=rbf, score=0.589, total=  38.4s\n",
            "[CV] C=10, gamma=0.0001, kernel=rbf ..................................\n",
            "[CV] ...... C=10, gamma=0.0001, kernel=rbf, score=0.586, total=  38.5s\n",
            "[CV] C=10, gamma=0.0001, kernel=rbf ..................................\n",
            "[CV] ...... C=10, gamma=0.0001, kernel=rbf, score=0.586, total=  38.5s\n",
            "[CV] C=10, gamma=0.0001, kernel=rbf ..................................\n",
            "[CV] ...... C=10, gamma=0.0001, kernel=rbf, score=0.581, total=  38.4s\n"
          ],
          "name": "stdout"
        },
        {
          "output_type": "stream",
          "text": [
            "[Parallel(n_jobs=1)]: Done  45 out of  45 | elapsed: 45.8min finished\n"
          ],
          "name": "stderr"
        },
        {
          "output_type": "stream",
          "text": [
            "Fitting 5 folds for each of 9 candidates, totalling 45 fits\n",
            "[CV] C=0.1, gamma=0.01, kernel=rbf ...................................\n"
          ],
          "name": "stdout"
        },
        {
          "output_type": "stream",
          "text": [
            "[Parallel(n_jobs=1)]: Using backend SequentialBackend with 1 concurrent workers.\n"
          ],
          "name": "stderr"
        },
        {
          "output_type": "stream",
          "text": [
            "[CV] ....... C=0.1, gamma=0.01, kernel=rbf, score=0.534, total=  40.0s\n",
            "[CV] C=0.1, gamma=0.01, kernel=rbf ...................................\n"
          ],
          "name": "stdout"
        },
        {
          "output_type": "stream",
          "text": [
            "[Parallel(n_jobs=1)]: Done   1 out of   1 | elapsed:   40.0s remaining:    0.0s\n"
          ],
          "name": "stderr"
        },
        {
          "output_type": "stream",
          "text": [
            "[CV] ....... C=0.1, gamma=0.01, kernel=rbf, score=0.544, total=  40.0s\n",
            "[CV] C=0.1, gamma=0.01, kernel=rbf ...................................\n"
          ],
          "name": "stdout"
        },
        {
          "output_type": "stream",
          "text": [
            "[Parallel(n_jobs=1)]: Done   2 out of   2 | elapsed:  1.3min remaining:    0.0s\n"
          ],
          "name": "stderr"
        },
        {
          "output_type": "stream",
          "text": [
            "[CV] ....... C=0.1, gamma=0.01, kernel=rbf, score=0.530, total=  40.0s\n",
            "[CV] C=0.1, gamma=0.01, kernel=rbf ...................................\n",
            "[CV] ....... C=0.1, gamma=0.01, kernel=rbf, score=0.530, total=  40.1s\n",
            "[CV] C=0.1, gamma=0.01, kernel=rbf ...................................\n",
            "[CV] ....... C=0.1, gamma=0.01, kernel=rbf, score=0.543, total=  40.0s\n",
            "[CV] C=0.1, gamma=0.001, kernel=rbf ..................................\n",
            "[CV] ...... C=0.1, gamma=0.001, kernel=rbf, score=0.545, total=  40.2s\n",
            "[CV] C=0.1, gamma=0.001, kernel=rbf ..................................\n",
            "[CV] ...... C=0.1, gamma=0.001, kernel=rbf, score=0.560, total=  39.5s\n",
            "[CV] C=0.1, gamma=0.001, kernel=rbf ..................................\n",
            "[CV] ...... C=0.1, gamma=0.001, kernel=rbf, score=0.559, total=  39.8s\n",
            "[CV] C=0.1, gamma=0.001, kernel=rbf ..................................\n",
            "[CV] ...... C=0.1, gamma=0.001, kernel=rbf, score=0.540, total=  40.3s\n",
            "[CV] C=0.1, gamma=0.001, kernel=rbf ..................................\n",
            "[CV] ...... C=0.1, gamma=0.001, kernel=rbf, score=0.551, total=  40.0s\n",
            "[CV] C=0.1, gamma=0.0001, kernel=rbf .................................\n",
            "[CV] ..... C=0.1, gamma=0.0001, kernel=rbf, score=0.542, total=  40.1s\n",
            "[CV] C=0.1, gamma=0.0001, kernel=rbf .................................\n",
            "[CV] ..... C=0.1, gamma=0.0001, kernel=rbf, score=0.552, total=  39.9s\n",
            "[CV] C=0.1, gamma=0.0001, kernel=rbf .................................\n",
            "[CV] ..... C=0.1, gamma=0.0001, kernel=rbf, score=0.541, total=  39.8s\n",
            "[CV] C=0.1, gamma=0.0001, kernel=rbf .................................\n",
            "[CV] ..... C=0.1, gamma=0.0001, kernel=rbf, score=0.536, total=  40.0s\n",
            "[CV] C=0.1, gamma=0.0001, kernel=rbf .................................\n",
            "[CV] ..... C=0.1, gamma=0.0001, kernel=rbf, score=0.541, total=  39.8s\n",
            "[CV] C=1, gamma=0.01, kernel=rbf .....................................\n",
            "[CV] ......... C=1, gamma=0.01, kernel=rbf, score=0.540, total= 1.1min\n",
            "[CV] C=1, gamma=0.01, kernel=rbf .....................................\n",
            "[CV] ......... C=1, gamma=0.01, kernel=rbf, score=0.552, total= 1.1min\n",
            "[CV] C=1, gamma=0.01, kernel=rbf .....................................\n",
            "[CV] ......... C=1, gamma=0.01, kernel=rbf, score=0.542, total= 1.2min\n",
            "[CV] C=1, gamma=0.01, kernel=rbf .....................................\n",
            "[CV] ......... C=1, gamma=0.01, kernel=rbf, score=0.529, total= 1.1min\n",
            "[CV] C=1, gamma=0.01, kernel=rbf .....................................\n",
            "[CV] ......... C=1, gamma=0.01, kernel=rbf, score=0.530, total= 1.1min\n",
            "[CV] C=1, gamma=0.001, kernel=rbf ....................................\n",
            "[CV] ........ C=1, gamma=0.001, kernel=rbf, score=0.564, total=  38.5s\n",
            "[CV] C=1, gamma=0.001, kernel=rbf ....................................\n",
            "[CV] ........ C=1, gamma=0.001, kernel=rbf, score=0.573, total=  38.7s\n",
            "[CV] C=1, gamma=0.001, kernel=rbf ....................................\n",
            "[CV] ........ C=1, gamma=0.001, kernel=rbf, score=0.571, total=  38.7s\n",
            "[CV] C=1, gamma=0.001, kernel=rbf ....................................\n",
            "[CV] ........ C=1, gamma=0.001, kernel=rbf, score=0.549, total=  38.5s\n",
            "[CV] C=1, gamma=0.001, kernel=rbf ....................................\n",
            "[CV] ........ C=1, gamma=0.001, kernel=rbf, score=0.560, total=  38.8s\n",
            "[CV] C=1, gamma=0.0001, kernel=rbf ...................................\n",
            "[CV] ....... C=1, gamma=0.0001, kernel=rbf, score=0.558, total=  39.0s\n",
            "[CV] C=1, gamma=0.0001, kernel=rbf ...................................\n",
            "[CV] ....... C=1, gamma=0.0001, kernel=rbf, score=0.577, total=  39.1s\n",
            "[CV] C=1, gamma=0.0001, kernel=rbf ...................................\n",
            "[CV] ....... C=1, gamma=0.0001, kernel=rbf, score=0.569, total=  39.1s\n",
            "[CV] C=1, gamma=0.0001, kernel=rbf ...................................\n",
            "[CV] ....... C=1, gamma=0.0001, kernel=rbf, score=0.556, total=  38.4s\n",
            "[CV] C=1, gamma=0.0001, kernel=rbf ...................................\n",
            "[CV] ....... C=1, gamma=0.0001, kernel=rbf, score=0.562, total=  38.2s\n",
            "[CV] C=10, gamma=0.01, kernel=rbf ....................................\n",
            "[CV] ........ C=10, gamma=0.01, kernel=rbf, score=0.530, total= 3.2min\n",
            "[CV] C=10, gamma=0.01, kernel=rbf ....................................\n",
            "[CV] ........ C=10, gamma=0.01, kernel=rbf, score=0.542, total= 3.3min\n",
            "[CV] C=10, gamma=0.01, kernel=rbf ....................................\n",
            "[CV] ........ C=10, gamma=0.01, kernel=rbf, score=0.537, total= 3.3min\n",
            "[CV] C=10, gamma=0.01, kernel=rbf ....................................\n",
            "[CV] ........ C=10, gamma=0.01, kernel=rbf, score=0.524, total= 3.3min\n",
            "[CV] C=10, gamma=0.01, kernel=rbf ....................................\n",
            "[CV] ........ C=10, gamma=0.01, kernel=rbf, score=0.533, total= 3.2min\n",
            "[CV] C=10, gamma=0.001, kernel=rbf ...................................\n",
            "[CV] ....... C=10, gamma=0.001, kernel=rbf, score=0.553, total=  51.9s\n",
            "[CV] C=10, gamma=0.001, kernel=rbf ...................................\n",
            "[CV] ....... C=10, gamma=0.001, kernel=rbf, score=0.571, total=  52.2s\n",
            "[CV] C=10, gamma=0.001, kernel=rbf ...................................\n",
            "[CV] ....... C=10, gamma=0.001, kernel=rbf, score=0.567, total=  52.2s\n",
            "[CV] C=10, gamma=0.001, kernel=rbf ...................................\n",
            "[CV] ....... C=10, gamma=0.001, kernel=rbf, score=0.554, total=  52.2s\n",
            "[CV] C=10, gamma=0.001, kernel=rbf ...................................\n",
            "[CV] ....... C=10, gamma=0.001, kernel=rbf, score=0.565, total=  51.6s\n",
            "[CV] C=10, gamma=0.0001, kernel=rbf ..................................\n",
            "[CV] ...... C=10, gamma=0.0001, kernel=rbf, score=0.576, total=  38.3s\n",
            "[CV] C=10, gamma=0.0001, kernel=rbf ..................................\n",
            "[CV] ...... C=10, gamma=0.0001, kernel=rbf, score=0.586, total=  38.1s\n",
            "[CV] C=10, gamma=0.0001, kernel=rbf ..................................\n",
            "[CV] ...... C=10, gamma=0.0001, kernel=rbf, score=0.572, total=  38.1s\n",
            "[CV] C=10, gamma=0.0001, kernel=rbf ..................................\n",
            "[CV] ...... C=10, gamma=0.0001, kernel=rbf, score=0.576, total=  38.0s\n",
            "[CV] C=10, gamma=0.0001, kernel=rbf ..................................\n",
            "[CV] ...... C=10, gamma=0.0001, kernel=rbf, score=0.580, total=  38.6s\n"
          ],
          "name": "stdout"
        },
        {
          "output_type": "stream",
          "text": [
            "[Parallel(n_jobs=1)]: Done  45 out of  45 | elapsed: 45.9min finished\n"
          ],
          "name": "stderr"
        },
        {
          "output_type": "stream",
          "text": [
            "Fitting 5 folds for each of 9 candidates, totalling 45 fits\n",
            "[CV] C=0.1, gamma=0.01, kernel=rbf ...................................\n"
          ],
          "name": "stdout"
        },
        {
          "output_type": "stream",
          "text": [
            "[Parallel(n_jobs=1)]: Using backend SequentialBackend with 1 concurrent workers.\n"
          ],
          "name": "stderr"
        },
        {
          "output_type": "stream",
          "text": [
            "[CV] ....... C=0.1, gamma=0.01, kernel=rbf, score=0.534, total=  39.8s\n",
            "[CV] C=0.1, gamma=0.01, kernel=rbf ...................................\n"
          ],
          "name": "stdout"
        },
        {
          "output_type": "stream",
          "text": [
            "[Parallel(n_jobs=1)]: Done   1 out of   1 | elapsed:   39.8s remaining:    0.0s\n"
          ],
          "name": "stderr"
        },
        {
          "output_type": "stream",
          "text": [
            "[CV] ....... C=0.1, gamma=0.01, kernel=rbf, score=0.536, total=  40.0s\n",
            "[CV] C=0.1, gamma=0.01, kernel=rbf ...................................\n"
          ],
          "name": "stdout"
        },
        {
          "output_type": "stream",
          "text": [
            "[Parallel(n_jobs=1)]: Done   2 out of   2 | elapsed:  1.3min remaining:    0.0s\n"
          ],
          "name": "stderr"
        },
        {
          "output_type": "stream",
          "text": [
            "[CV] ....... C=0.1, gamma=0.01, kernel=rbf, score=0.532, total=  40.2s\n",
            "[CV] C=0.1, gamma=0.01, kernel=rbf ...................................\n",
            "[CV] ....... C=0.1, gamma=0.01, kernel=rbf, score=0.535, total=  39.9s\n",
            "[CV] C=0.1, gamma=0.01, kernel=rbf ...................................\n",
            "[CV] ....... C=0.1, gamma=0.01, kernel=rbf, score=0.526, total=  39.9s\n",
            "[CV] C=0.1, gamma=0.001, kernel=rbf ..................................\n",
            "[CV] ...... C=0.1, gamma=0.001, kernel=rbf, score=0.548, total=  39.9s\n",
            "[CV] C=0.1, gamma=0.001, kernel=rbf ..................................\n",
            "[CV] ...... C=0.1, gamma=0.001, kernel=rbf, score=0.556, total=  40.0s\n",
            "[CV] C=0.1, gamma=0.001, kernel=rbf ..................................\n",
            "[CV] ...... C=0.1, gamma=0.001, kernel=rbf, score=0.556, total=  39.8s\n",
            "[CV] C=0.1, gamma=0.001, kernel=rbf ..................................\n",
            "[CV] ...... C=0.1, gamma=0.001, kernel=rbf, score=0.548, total=  40.1s\n",
            "[CV] C=0.1, gamma=0.001, kernel=rbf ..................................\n",
            "[CV] ...... C=0.1, gamma=0.001, kernel=rbf, score=0.559, total=  40.1s\n",
            "[CV] C=0.1, gamma=0.0001, kernel=rbf .................................\n",
            "[CV] ..... C=0.1, gamma=0.0001, kernel=rbf, score=0.541, total=  39.4s\n",
            "[CV] C=0.1, gamma=0.0001, kernel=rbf .................................\n",
            "[CV] ..... C=0.1, gamma=0.0001, kernel=rbf, score=0.552, total=  39.7s\n",
            "[CV] C=0.1, gamma=0.0001, kernel=rbf .................................\n",
            "[CV] ..... C=0.1, gamma=0.0001, kernel=rbf, score=0.540, total=  39.9s\n",
            "[CV] C=0.1, gamma=0.0001, kernel=rbf .................................\n",
            "[CV] ..... C=0.1, gamma=0.0001, kernel=rbf, score=0.544, total=  40.0s\n",
            "[CV] C=0.1, gamma=0.0001, kernel=rbf .................................\n",
            "[CV] ..... C=0.1, gamma=0.0001, kernel=rbf, score=0.544, total=  39.9s\n",
            "[CV] C=1, gamma=0.01, kernel=rbf .....................................\n",
            "[CV] ......... C=1, gamma=0.01, kernel=rbf, score=0.532, total= 1.1min\n",
            "[CV] C=1, gamma=0.01, kernel=rbf .....................................\n",
            "[CV] ......... C=1, gamma=0.01, kernel=rbf, score=0.550, total= 1.1min\n",
            "[CV] C=1, gamma=0.01, kernel=rbf .....................................\n",
            "[CV] ......... C=1, gamma=0.01, kernel=rbf, score=0.533, total= 1.1min\n",
            "[CV] C=1, gamma=0.01, kernel=rbf .....................................\n",
            "[CV] ......... C=1, gamma=0.01, kernel=rbf, score=0.537, total= 1.1min\n",
            "[CV] C=1, gamma=0.01, kernel=rbf .....................................\n",
            "[CV] ......... C=1, gamma=0.01, kernel=rbf, score=0.527, total= 1.1min\n",
            "[CV] C=1, gamma=0.001, kernel=rbf ....................................\n",
            "[CV] ........ C=1, gamma=0.001, kernel=rbf, score=0.563, total=  38.4s\n",
            "[CV] C=1, gamma=0.001, kernel=rbf ....................................\n",
            "[CV] ........ C=1, gamma=0.001, kernel=rbf, score=0.572, total=  38.9s\n",
            "[CV] C=1, gamma=0.001, kernel=rbf ....................................\n",
            "[CV] ........ C=1, gamma=0.001, kernel=rbf, score=0.564, total=  38.7s\n",
            "[CV] C=1, gamma=0.001, kernel=rbf ....................................\n",
            "[CV] ........ C=1, gamma=0.001, kernel=rbf, score=0.556, total=  38.7s\n",
            "[CV] C=1, gamma=0.001, kernel=rbf ....................................\n",
            "[CV] ........ C=1, gamma=0.001, kernel=rbf, score=0.566, total=  38.7s\n",
            "[CV] C=1, gamma=0.0001, kernel=rbf ...................................\n",
            "[CV] ....... C=1, gamma=0.0001, kernel=rbf, score=0.563, total=  38.5s\n",
            "[CV] C=1, gamma=0.0001, kernel=rbf ...................................\n",
            "[CV] ....... C=1, gamma=0.0001, kernel=rbf, score=0.574, total=  38.6s\n",
            "[CV] C=1, gamma=0.0001, kernel=rbf ...................................\n",
            "[CV] ....... C=1, gamma=0.0001, kernel=rbf, score=0.566, total=  38.5s\n",
            "[CV] C=1, gamma=0.0001, kernel=rbf ...................................\n",
            "[CV] ....... C=1, gamma=0.0001, kernel=rbf, score=0.568, total=  38.5s\n",
            "[CV] C=1, gamma=0.0001, kernel=rbf ...................................\n",
            "[CV] ....... C=1, gamma=0.0001, kernel=rbf, score=0.570, total=  39.0s\n",
            "[CV] C=10, gamma=0.01, kernel=rbf ....................................\n",
            "[CV] ........ C=10, gamma=0.01, kernel=rbf, score=0.530, total= 3.2min\n",
            "[CV] C=10, gamma=0.01, kernel=rbf ....................................\n",
            "[CV] ........ C=10, gamma=0.01, kernel=rbf, score=0.532, total= 3.2min\n",
            "[CV] C=10, gamma=0.01, kernel=rbf ....................................\n",
            "[CV] ........ C=10, gamma=0.01, kernel=rbf, score=0.523, total= 3.2min\n",
            "[CV] C=10, gamma=0.01, kernel=rbf ....................................\n",
            "[CV] ........ C=10, gamma=0.01, kernel=rbf, score=0.530, total= 3.2min\n",
            "[CV] C=10, gamma=0.01, kernel=rbf ....................................\n",
            "[CV] ........ C=10, gamma=0.01, kernel=rbf, score=0.517, total= 3.2min\n",
            "[CV] C=10, gamma=0.001, kernel=rbf ...................................\n",
            "[CV] ....... C=10, gamma=0.001, kernel=rbf, score=0.561, total=  51.8s\n",
            "[CV] C=10, gamma=0.001, kernel=rbf ...................................\n",
            "[CV] ....... C=10, gamma=0.001, kernel=rbf, score=0.571, total=  54.5s\n",
            "[CV] C=10, gamma=0.001, kernel=rbf ...................................\n",
            "[CV] ....... C=10, gamma=0.001, kernel=rbf, score=0.565, total=  52.2s\n",
            "[CV] C=10, gamma=0.001, kernel=rbf ...................................\n",
            "[CV] ....... C=10, gamma=0.001, kernel=rbf, score=0.558, total=  52.0s\n",
            "[CV] C=10, gamma=0.001, kernel=rbf ...................................\n",
            "[CV] ....... C=10, gamma=0.001, kernel=rbf, score=0.559, total=  51.4s\n",
            "[CV] C=10, gamma=0.0001, kernel=rbf ..................................\n",
            "[CV] ...... C=10, gamma=0.0001, kernel=rbf, score=0.577, total=  38.2s\n",
            "[CV] C=10, gamma=0.0001, kernel=rbf ..................................\n",
            "[CV] ...... C=10, gamma=0.0001, kernel=rbf, score=0.587, total=  37.8s\n",
            "[CV] C=10, gamma=0.0001, kernel=rbf ..................................\n",
            "[CV] ...... C=10, gamma=0.0001, kernel=rbf, score=0.571, total=  38.6s\n",
            "[CV] C=10, gamma=0.0001, kernel=rbf ..................................\n",
            "[CV] ...... C=10, gamma=0.0001, kernel=rbf, score=0.576, total=  38.0s\n",
            "[CV] C=10, gamma=0.0001, kernel=rbf ..................................\n",
            "[CV] ...... C=10, gamma=0.0001, kernel=rbf, score=0.586, total=  38.9s\n"
          ],
          "name": "stdout"
        },
        {
          "output_type": "stream",
          "text": [
            "[Parallel(n_jobs=1)]: Done  45 out of  45 | elapsed: 45.6min finished\n"
          ],
          "name": "stderr"
        },
        {
          "output_type": "stream",
          "text": [
            "[0.58092486 0.58310583 0.57812751 0.59097479 0.57684278]\n"
          ],
          "name": "stdout"
        }
      ]
    },
    {
      "cell_type": "code",
      "metadata": {
        "colab": {
          "base_uri": "https://localhost:8080/",
          "height": 1000
        },
        "id": "QSTUZDPXeQoD",
        "outputId": "1e8d7e9a-c45f-4836-c285-a5449be93be1"
      },
      "source": [
        "grid_result = grid.fit(X_train, Y_train)\n",
        "y = grid_result.predict(X_test)\n",
        "\n",
        "print(classification_report(Y_test, y))\n",
        "\n",
        "#Recall Score \n",
        "rc_score_4 = recall_score(Y_test,y, average='macro')\n",
        "\n",
        "#Precision Score \n",
        "p_score_4 = precision_score(Y_test,y,average='macro')\n",
        "\n",
        "#F1 score \n",
        "f1_score_4 = f1_score(Y_test,y,average='macro')\n",
        "\n",
        "#ROC AUC Score \n",
        "roc_auc_score_4 = roc_auc_score(Y_test, y, multi_class='ovo')\n",
        "\n",
        "#Confusion Matrix \n",
        "cfm = confusion_matrix(Y_test, y)\n",
        "print(cfm)\n",
        "labels = ['Class 0', 'Class 1']\n",
        "fig = plt.figure()\n",
        "ax = fig.add_subplot(111)\n",
        "cax = ax.matshow(cfm, cmap=plt.cm.Oranges)\n",
        "fig.colorbar(cax)\n",
        "ax.set_xticklabels([''] + labels)\n",
        "ax.set_yticklabels([''] + labels)\n",
        "plt.xlabel('Predicted')\n",
        "plt.ylabel('Expected')\n",
        "plt.show()"
      ],
      "execution_count": null,
      "outputs": [
        {
          "output_type": "stream",
          "text": [
            "Fitting 5 folds for each of 9 candidates, totalling 45 fits\n",
            "[CV] C=0.1, gamma=0.01, kernel=rbf ...................................\n"
          ],
          "name": "stdout"
        },
        {
          "output_type": "stream",
          "text": [
            "[Parallel(n_jobs=1)]: Using backend SequentialBackend with 1 concurrent workers.\n"
          ],
          "name": "stderr"
        },
        {
          "output_type": "stream",
          "text": [
            "[CV] ....... C=0.1, gamma=0.01, kernel=rbf, score=0.539, total= 1.1min\n",
            "[CV] C=0.1, gamma=0.01, kernel=rbf ...................................\n"
          ],
          "name": "stdout"
        },
        {
          "output_type": "stream",
          "text": [
            "[Parallel(n_jobs=1)]: Done   1 out of   1 | elapsed:  1.1min remaining:    0.0s\n"
          ],
          "name": "stderr"
        },
        {
          "output_type": "stream",
          "text": [
            "[CV] ....... C=0.1, gamma=0.01, kernel=rbf, score=0.552, total= 1.1min\n",
            "[CV] C=0.1, gamma=0.01, kernel=rbf ...................................\n"
          ],
          "name": "stdout"
        },
        {
          "output_type": "stream",
          "text": [
            "[Parallel(n_jobs=1)]: Done   2 out of   2 | elapsed:  2.1min remaining:    0.0s\n"
          ],
          "name": "stderr"
        },
        {
          "output_type": "stream",
          "text": [
            "[CV] ....... C=0.1, gamma=0.01, kernel=rbf, score=0.532, total= 1.1min\n",
            "[CV] C=0.1, gamma=0.01, kernel=rbf ...................................\n",
            "[CV] ....... C=0.1, gamma=0.01, kernel=rbf, score=0.524, total= 1.1min\n",
            "[CV] C=0.1, gamma=0.01, kernel=rbf ...................................\n",
            "[CV] ....... C=0.1, gamma=0.01, kernel=rbf, score=0.523, total= 1.0min\n",
            "[CV] C=0.1, gamma=0.001, kernel=rbf ..................................\n",
            "[CV] ...... C=0.1, gamma=0.001, kernel=rbf, score=0.551, total= 1.0min\n",
            "[CV] C=0.1, gamma=0.001, kernel=rbf ..................................\n",
            "[CV] ...... C=0.1, gamma=0.001, kernel=rbf, score=0.560, total= 1.0min\n",
            "[CV] C=0.1, gamma=0.001, kernel=rbf ..................................\n",
            "[CV] ...... C=0.1, gamma=0.001, kernel=rbf, score=0.554, total= 1.0min\n",
            "[CV] C=0.1, gamma=0.001, kernel=rbf ..................................\n",
            "[CV] ...... C=0.1, gamma=0.001, kernel=rbf, score=0.562, total= 1.0min\n",
            "[CV] C=0.1, gamma=0.001, kernel=rbf ..................................\n",
            "[CV] ...... C=0.1, gamma=0.001, kernel=rbf, score=0.547, total= 1.0min\n",
            "[CV] C=0.1, gamma=0.0001, kernel=rbf .................................\n",
            "[CV] ..... C=0.1, gamma=0.0001, kernel=rbf, score=0.550, total= 1.0min\n",
            "[CV] C=0.1, gamma=0.0001, kernel=rbf .................................\n",
            "[CV] ..... C=0.1, gamma=0.0001, kernel=rbf, score=0.551, total= 1.0min\n",
            "[CV] C=0.1, gamma=0.0001, kernel=rbf .................................\n",
            "[CV] ..... C=0.1, gamma=0.0001, kernel=rbf, score=0.547, total= 1.0min\n",
            "[CV] C=0.1, gamma=0.0001, kernel=rbf .................................\n",
            "[CV] ..... C=0.1, gamma=0.0001, kernel=rbf, score=0.552, total= 1.1min\n",
            "[CV] C=0.1, gamma=0.0001, kernel=rbf .................................\n",
            "[CV] ..... C=0.1, gamma=0.0001, kernel=rbf, score=0.539, total= 1.0min\n",
            "[CV] C=1, gamma=0.01, kernel=rbf .....................................\n",
            "[CV] ......... C=1, gamma=0.01, kernel=rbf, score=0.541, total= 1.9min\n",
            "[CV] C=1, gamma=0.01, kernel=rbf .....................................\n",
            "[CV] ......... C=1, gamma=0.01, kernel=rbf, score=0.549, total= 1.8min\n",
            "[CV] C=1, gamma=0.01, kernel=rbf .....................................\n",
            "[CV] ......... C=1, gamma=0.01, kernel=rbf, score=0.535, total= 1.8min\n",
            "[CV] C=1, gamma=0.01, kernel=rbf .....................................\n",
            "[CV] ......... C=1, gamma=0.01, kernel=rbf, score=0.528, total= 1.9min\n",
            "[CV] C=1, gamma=0.01, kernel=rbf .....................................\n",
            "[CV] ......... C=1, gamma=0.01, kernel=rbf, score=0.530, total= 1.8min\n",
            "[CV] C=1, gamma=0.001, kernel=rbf ....................................\n",
            "[CV] ........ C=1, gamma=0.001, kernel=rbf, score=0.568, total= 1.0min\n",
            "[CV] C=1, gamma=0.001, kernel=rbf ....................................\n",
            "[CV] ........ C=1, gamma=0.001, kernel=rbf, score=0.570, total= 1.0min\n",
            "[CV] C=1, gamma=0.001, kernel=rbf ....................................\n",
            "[CV] ........ C=1, gamma=0.001, kernel=rbf, score=0.560, total= 1.0min\n",
            "[CV] C=1, gamma=0.001, kernel=rbf ....................................\n",
            "[CV] ........ C=1, gamma=0.001, kernel=rbf, score=0.570, total= 1.0min\n",
            "[CV] C=1, gamma=0.001, kernel=rbf ....................................\n",
            "[CV] ........ C=1, gamma=0.001, kernel=rbf, score=0.565, total= 1.0min\n",
            "[CV] C=1, gamma=0.0001, kernel=rbf ...................................\n",
            "[CV] ....... C=1, gamma=0.0001, kernel=rbf, score=0.571, total= 1.0min\n",
            "[CV] C=1, gamma=0.0001, kernel=rbf ...................................\n",
            "[CV] ....... C=1, gamma=0.0001, kernel=rbf, score=0.564, total= 1.0min\n",
            "[CV] C=1, gamma=0.0001, kernel=rbf ...................................\n",
            "[CV] ....... C=1, gamma=0.0001, kernel=rbf, score=0.572, total= 1.0min\n",
            "[CV] C=1, gamma=0.0001, kernel=rbf ...................................\n",
            "[CV] ....... C=1, gamma=0.0001, kernel=rbf, score=0.577, total= 1.0min\n",
            "[CV] C=1, gamma=0.0001, kernel=rbf ...................................\n",
            "[CV] ....... C=1, gamma=0.0001, kernel=rbf, score=0.559, total= 1.0min\n",
            "[CV] C=10, gamma=0.01, kernel=rbf ....................................\n",
            "[CV] ........ C=10, gamma=0.01, kernel=rbf, score=0.531, total= 5.4min\n",
            "[CV] C=10, gamma=0.01, kernel=rbf ....................................\n",
            "[CV] ........ C=10, gamma=0.01, kernel=rbf, score=0.533, total= 5.4min\n",
            "[CV] C=10, gamma=0.01, kernel=rbf ....................................\n",
            "[CV] ........ C=10, gamma=0.01, kernel=rbf, score=0.529, total= 5.3min\n",
            "[CV] C=10, gamma=0.01, kernel=rbf ....................................\n",
            "[CV] ........ C=10, gamma=0.01, kernel=rbf, score=0.524, total= 5.4min\n",
            "[CV] C=10, gamma=0.01, kernel=rbf ....................................\n",
            "[CV] ........ C=10, gamma=0.01, kernel=rbf, score=0.518, total= 5.4min\n",
            "[CV] C=10, gamma=0.001, kernel=rbf ...................................\n",
            "[CV] ....... C=10, gamma=0.001, kernel=rbf, score=0.568, total= 1.5min\n",
            "[CV] C=10, gamma=0.001, kernel=rbf ...................................\n",
            "[CV] ....... C=10, gamma=0.001, kernel=rbf, score=0.571, total= 1.6min\n",
            "[CV] C=10, gamma=0.001, kernel=rbf ...................................\n",
            "[CV] ....... C=10, gamma=0.001, kernel=rbf, score=0.562, total= 1.6min\n",
            "[CV] C=10, gamma=0.001, kernel=rbf ...................................\n",
            "[CV] ....... C=10, gamma=0.001, kernel=rbf, score=0.563, total= 1.5min\n",
            "[CV] C=10, gamma=0.001, kernel=rbf ...................................\n",
            "[CV] ....... C=10, gamma=0.001, kernel=rbf, score=0.565, total= 1.5min\n",
            "[CV] C=10, gamma=0.0001, kernel=rbf ..................................\n",
            "[CV] ...... C=10, gamma=0.0001, kernel=rbf, score=0.581, total= 1.0min\n",
            "[CV] C=10, gamma=0.0001, kernel=rbf ..................................\n",
            "[CV] ...... C=10, gamma=0.0001, kernel=rbf, score=0.583, total=  60.0s\n",
            "[CV] C=10, gamma=0.0001, kernel=rbf ..................................\n",
            "[CV] ...... C=10, gamma=0.0001, kernel=rbf, score=0.578, total= 1.0min\n",
            "[CV] C=10, gamma=0.0001, kernel=rbf ..................................\n",
            "[CV] ...... C=10, gamma=0.0001, kernel=rbf, score=0.591, total= 1.0min\n",
            "[CV] C=10, gamma=0.0001, kernel=rbf ..................................\n",
            "[CV] ...... C=10, gamma=0.0001, kernel=rbf, score=0.577, total= 1.0min\n"
          ],
          "name": "stdout"
        },
        {
          "output_type": "stream",
          "text": [
            "[Parallel(n_jobs=1)]: Done  45 out of  45 | elapsed: 74.5min finished\n"
          ],
          "name": "stderr"
        },
        {
          "output_type": "stream",
          "text": [
            "              precision    recall  f1-score   support\n",
            "\n",
            "           0       0.57      0.61      0.59      6637\n",
            "           1       0.59      0.55      0.57      6707\n",
            "\n",
            "    accuracy                           0.58     13344\n",
            "   macro avg       0.58      0.58      0.58     13344\n",
            "weighted avg       0.58      0.58      0.58     13344\n",
            "\n",
            "[[4030 2607]\n",
            " [2993 3714]]\n"
          ],
          "name": "stdout"
        },
        {
          "output_type": "display_data",
          "data": {
            "image/png": "[encoded data removed]",
            "text/plain": [
              "<Figure size 432x288 with 2 Axes>"
            ]
          },
          "metadata": {
            "tags": [],
            "needs_background": "light"
          }
        }
      ]
    },
    {
      "cell_type": "code",
      "metadata": {
        "colab": {
          "base_uri": "https://localhost:8080/"
        },
        "id": "pf8vJV3xAaK_",
        "outputId": "71761254-47e7-4c0d-c293-d9245444bfe2"
      },
      "source": [
        "# SVM with hyperparameter tuning - Test data accuracy Score\n",
        "accuracy_score(Y_test, y)"
      ],
      "execution_count": null,
      "outputs": [
        {
          "output_type": "execute_result",
          "data": {
            "text/plain": [
              "0.580335731414868"
            ]
          },
          "metadata": {
            "tags": []
          },
          "execution_count": 60
        }
      ]
    },
    {
      "cell_type": "code",
      "metadata": {
        "colab": {
          "base_uri": "https://localhost:8080/"
        },
        "id": "O1rutxz4o6-z",
        "outputId": "717cc943-1b8b-4faf-a25d-a51652e2ad6f"
      },
      "source": [
        "SVM_hyp_tuned_cv_score = np.mean([0.58092486, 0.58310583, 0.57812751, 0.59097479, 0.57684278])\n",
        "print(SVM_hyp_tuned_cv_score)"
      ],
      "execution_count": null,
      "outputs": [
        {
          "output_type": "stream",
          "text": [
            "0.581995154\n"
          ],
          "name": "stdout"
        }
      ]
    },
    {
      "cell_type": "code",
      "metadata": {
        "colab": {
          "base_uri": "https://localhost:8080/"
        },
        "id": "9ooztjRspMq9",
        "outputId": "0cc316e3-e0d1-4d6a-ff36-347fee82fea0"
      },
      "source": [
        "SVM_hyp_t_cm = np.array([[4030, 2607],\n",
        "                        [2993, 3714]])\n",
        "mht = SVM_hyp_t_cm\n",
        "SVM_hyp_t_rec = mht[1,1]/(mht[1,1]+mht[1,0])\n",
        "SVM_hyp_t_pre = mht[1,1]/(mht[1,1]+mht[0,1])\n",
        "SVM_hyp_t_f1score = mht[1,1]/(mht[1,1] + 0.5*(mht[1,0]+mht[0,1]))\n",
        "print(SVM_hyp_t_rec, SVM_hyp_t_pre, SVM_hyp_t_f1score)"
      ],
      "execution_count": null,
      "outputs": [
        {
          "output_type": "stream",
          "text": [
            "0.5537498136275533 0.5875652586616041 0.5701565858151674\n"
          ],
          "name": "stdout"
        }
      ]
    },
    {
      "cell_type": "markdown",
      "metadata": {
        "id": "TEyZGdNvXUyc"
      },
      "source": [
        "#### Old SVM results\n",
        "svm_old = np.array([[5175, 1487],\n",
        "                    [4372, 2310]])\n",
        "\n",
        "rc_score_4 = svm_old[1,1]/(svm_old[1,1]+svm_old[1,0])\n",
        "p_score_4 = svm_old[1,1]/(svm_old[1,1]+svm_old[0,1])\n",
        "f1_score_4 = svm_old[1,1]/(svm_old[1,1] + 0.5*(svm_old[1,0]+svm_old[0,1]))\n",
        "print(rc_score_4, p_score_4, f1_score_4)"
      ]
    },
    {
      "cell_type": "markdown",
      "metadata": {
        "id": "WnOAE6lcCP5D"
      },
      "source": [
        "###Model 4 (Unsupervised Model)\n"
      ]
    },
    {
      "cell_type": "code",
      "metadata": {
        "id": "yfcyjFVPt7PD"
      },
      "source": [
        "##Model 5 (Unsupervised Model)\n",
        "from sklearn.cluster import KMeans\n",
        "\n",
        "y_pred = KMeans(n_clusters=3, random_state=0, n_init=10).fit(X)\n",
        "\n",
        "clusters = y_pred.labels_\n"
      ],
      "execution_count": null,
      "outputs": []
    },
    {
      "cell_type": "code",
      "metadata": {
        "colab": {
          "base_uri": "https://localhost:8080/",
          "height": 252
        },
        "id": "cziGG0r3NTLg",
        "outputId": "d25a0e85-4802-4b21-b039-e691481256f3"
      },
      "source": [
        "X['clusters'] = clusters\n",
        "ax = X.plot(kind ='scatter', x ='age', y='sev_of_disease', c='age', colormap = plt.cm.brg)\n"
      ],
      "execution_count": null,
      "outputs": [
        {
          "output_type": "display_data",
          "data": {
            "image/png": "[encoded data removed]",
            "text/plain": [
              "<Figure size 432x288 with 2 Axes>"
            ]
          },
          "metadata": {
            "tags": [],
            "needs_background": "light"
          }
        }
      ]
    },
    {
      "cell_type": "code",
      "metadata": {
        "colab": {
          "base_uri": "https://localhost:8080/",
          "height": 256
        },
        "id": "fx9zLLM-FEhx",
        "outputId": "27d6da32-8216-495f-b5f9-ce55915da110"
      },
      "source": [
        "X['clusters'] = clusters\n",
        "ax = X.plot(kind ='scatter', x ='number_diagnoses', y='race', c='number_diagnoses', colormap = plt.cm.brg)\n",
        "# The scatterplot indicates the increase in the severity of the disease with the increase in the number of lab procedures"
      ],
      "execution_count": null,
      "outputs": [
        {
          "output_type": "display_data",
          "data": {
            "image/png": "[encoded data removed]",
            "text/plain": [
              "<Figure size 432x288 with 2 Axes>"
            ]
          },
          "metadata": {
            "tags": [],
            "needs_background": "light"
          }
        }
      ]
    },
    {
      "cell_type": "code",
      "metadata": {
        "colab": {
          "base_uri": "https://localhost:8080/",
          "height": 252
        },
        "id": "YY3kt_vc1T-f",
        "outputId": "c41f757a-f987-4357-f016-d9124feecb1f"
      },
      "source": [
        "X['clusters'] = clusters\n",
        "ax = X.plot(kind ='scatter', x ='num_lab_procedures', y='sev_of_disease', c='num_lab_procedures', colormap = plt.cm.brg)\n",
        "# The scatterplot indicates the increase in the severity of the disease with the increase in the number of lab procedures"
      ],
      "execution_count": null,
      "outputs": [
        {
          "output_type": "display_data",
          "data": {
            "image/png": "[encoded data removed]",
            "text/plain": [
              "<Figure size 432x288 with 2 Axes>"
            ]
          },
          "metadata": {
            "tags": [],
            "needs_background": "light"
          }
        }
      ]
    },
    {
      "cell_type": "markdown",
      "metadata": {
        "id": "VKGYIbWB6hUX"
      },
      "source": [
        "###Classification"
      ]
    },
    {
      "cell_type": "markdown",
      "metadata": {
        "id": "FihCadOru3PK"
      },
      "source": [
        "Analysis "
      ]
    },
    {
      "cell_type": "code",
      "metadata": {
        "colab": {
          "base_uri": "https://localhost:8080/"
        },
        "id": "4Uv1Elq76CJo",
        "outputId": "4f240384-7579-4fb3-f682-3a388330340d"
      },
      "source": [
        "#svm_score = 0.5621144798084955\n",
        "print(knn_score, GNB_score, lr_score, svm_score, SVM_hyp_tuned_cv_score)"
      ],
      "execution_count": null,
      "outputs": [
        {
          "output_type": "stream",
          "text": [
            "0.5242162061975739 0.5459919762271724 0.5761820274461013 0.561151001001605 0.581995154\n"
          ],
          "name": "stdout"
        }
      ]
    },
    {
      "cell_type": "code",
      "metadata": {
        "colab": {
          "base_uri": "https://localhost:8080/",
          "height": 338
        },
        "id": "KSxVUwmubfp_",
        "outputId": "9bef455e-c346-4d44-cccc-c2fb071161ff"
      },
      "source": [
        "plt.figure(figsize=(10, 5))\n",
        "x_axis = np.arange(5)\n",
        "y_axis = [knn_score, GNB_score, lr_score, svm_score, SVM_hyp_tuned_cv_score]\n",
        "plt.bar(x_axis, y_axis, width=0.4)\n",
        "plt.xticks(x_axis + 0.05/2, ('KNN Classifier', 'Naive bayes' , 'Logistic Regression', 'SVM', 'SVM_HT'))\n",
        "plt.ylabel('Cross-Validated Accuracy')"
      ],
      "execution_count": null,
      "outputs": [
        {
          "output_type": "execute_result",
          "data": {
            "text/plain": [
              "Text(0, 0.5, 'Cross-Validated Accuracy')"
            ]
          },
          "metadata": {
            "tags": []
          },
          "execution_count": 65
        },
        {
          "output_type": "display_data",
          "data": {
            "image/png": "[encoded data removed]",
            "text/plain": [
              "<Figure size 720x360 with 1 Axes>"
            ]
          },
          "metadata": {
            "tags": [],
            "needs_background": "light"
          }
        }
      ]
    },
    {
      "cell_type": "code",
      "metadata": {
        "colab": {
          "base_uri": "https://localhost:8080/"
        },
        "id": "MXzAbh9S5z47",
        "outputId": "f37c7bf4-2262-40ab-d117-4d6ddbda3c17"
      },
      "source": [
        "print(rc_score_2, rc_score_1, rc_score_3, rc_score_4, SVM_hyp_t_rec)"
      ],
      "execution_count": null,
      "outputs": [
        {
          "output_type": "stream",
          "text": [
            "0.5275688528246953 0.5490772089229337 0.5767122238851248 0.5639635887628429 0.5537498136275533\n"
          ],
          "name": "stdout"
        }
      ]
    },
    {
      "cell_type": "code",
      "metadata": {
        "colab": {
          "base_uri": "https://localhost:8080/",
          "height": 339
        },
        "id": "dhN-Sn4hWIMl",
        "outputId": "6a505313-c692-4dc1-9ed6-cd14b467b125"
      },
      "source": [
        "plt.figure(figsize=(10, 5))\n",
        "x_axis = np.arange(5)\n",
        "y_axis = [rc_score_2, rc_score_1, rc_score_3, rc_score_4, SVM_hyp_t_rec]\n",
        "plt.bar(x_axis, y_axis, width=0.4)\n",
        "plt.xticks(x_axis + 0.05/2, ('KNN Classifier', 'Naive bayes', 'Logistic Regression', 'SVM', 'SVM_HT'))\n",
        "plt.ylabel('Recall Scores')"
      ],
      "execution_count": null,
      "outputs": [
        {
          "output_type": "execute_result",
          "data": {
            "text/plain": [
              "Text(0, 0.5, 'Recall Scores')"
            ]
          },
          "metadata": {
            "tags": []
          },
          "execution_count": 66
        },
        {
          "output_type": "display_data",
          "data": {
            "image/png": "[encoded data removed]",
            "text/plain": [
              "<Figure size 720x360 with 1 Axes>"
            ]
          },
          "metadata": {
            "tags": [],
            "needs_background": "light"
          }
        }
      ]
    },
    {
      "cell_type": "code",
      "metadata": {
        "colab": {
          "base_uri": "https://localhost:8080/"
        },
        "id": "WaFcByrIzlIN",
        "outputId": "e633954f-0dab-436b-ba2d-e2a51d7121a9"
      },
      "source": [
        "print(p_score_2, p_score_1,p_score_3,p_score_4, SVM_hyp_t_pre)"
      ],
      "execution_count": null,
      "outputs": [
        {
          "output_type": "stream",
          "text": [
            "0.5275763831978404 0.5756788137927824 0.5769501959336378 0.5788939451773331 0.5875652586616041\n"
          ],
          "name": "stdout"
        }
      ]
    },
    {
      "cell_type": "code",
      "metadata": {
        "colab": {
          "base_uri": "https://localhost:8080/",
          "height": 338
        },
        "id": "LhnnA5JTbfzA",
        "outputId": "3c81a8e5-f7d6-4ba9-fe57-f1d87e341e10"
      },
      "source": [
        "plt.figure(figsize=(10, 5))\n",
        "x_axis = np.arange(5)\n",
        "y_axis = [p_score_2, p_score_1,p_score_3, p_score_4, SVM_hyp_t_pre]\n",
        "plt.bar(x_axis, y_axis, width=0.4)\n",
        "plt.xticks(x_axis + 0.05/2., ( 'KNN Classifier', 'Naive bayes', 'Logistic Regression', 'SVM', 'SVM_HT'))\n",
        "plt.ylabel('Precision Scores')\n"
      ],
      "execution_count": null,
      "outputs": [
        {
          "output_type": "execute_result",
          "data": {
            "text/plain": [
              "Text(0, 0.5, 'Precision Scores')"
            ]
          },
          "metadata": {
            "tags": []
          },
          "execution_count": 69
        },
        {
          "output_type": "display_data",
          "data": {
            "image/png": "[encoded data removed]",
            "text/plain": [
              "<Figure size 720x360 with 1 Axes>"
            ]
          },
          "metadata": {
            "tags": [],
            "needs_background": "light"
          }
        }
      ]
    },
    {
      "cell_type": "code",
      "metadata": {
        "colab": {
          "base_uri": "https://localhost:8080/"
        },
        "id": "mlB0xwW05QPP",
        "outputId": "71198c3e-36d7-449c-a486-6a279874d078"
      },
      "source": [
        "print(f1_score_2, f1_score_1 , f1_score_3, f1_score_4, SVM_hyp_t_f1score)"
      ],
      "execution_count": null,
      "outputs": [
        {
          "output_type": "stream",
          "text": [
            "0.5275600969821681 0.5071178140969501 0.5765092422098493 0.5434203717172749 0.5701565858151674\n"
          ],
          "name": "stdout"
        }
      ]
    },
    {
      "cell_type": "code",
      "metadata": {
        "colab": {
          "base_uri": "https://localhost:8080/",
          "height": 339
        },
        "id": "T0JXstoebf8n",
        "outputId": "d031c669-d823-45e4-b5e2-6e40b38b1973"
      },
      "source": [
        "plt.figure(figsize=(10, 5))\n",
        "x_axis = np.arange(5)\n",
        "y_axis = [f1_score_2, f1_score_1, f1_score_3,f1_score_4, SVM_hyp_t_f1score]\n",
        "plt.bar(x_axis, y_axis, width=0.4)\n",
        "plt.xticks(x_axis + 0.05/2, ( 'KNN Classifier', 'Naive bayes','Logistic Regression', 'SVM', 'SVM_HT'))\n",
        "plt.ylabel('F1 Scores')"
      ],
      "execution_count": null,
      "outputs": [
        {
          "output_type": "execute_result",
          "data": {
            "text/plain": [
              "Text(0, 0.5, 'F1 Scores')"
            ]
          },
          "metadata": {
            "tags": []
          },
          "execution_count": 71
        },
        {
          "output_type": "display_data",
          "data": {
            "image/png": "[encoded data removed]",
            "text/plain": [
              "<Figure size 720x360 with 1 Axes>"
            ]
          },
          "metadata": {
            "tags": [],
            "needs_background": "light"
          }
        }
      ]
    },
    {
      "cell_type": "code",
      "metadata": {
        "colab": {
          "base_uri": "https://localhost:8080/"
        },
        "id": "5_v7tGHR0RZD",
        "outputId": "42e18058-6a00-4c69-b266-def59cd5870e"
      },
      "source": [
        " print(roc_auc_score_2, roc_auc_score_1, roc_auc_score_3, roc_auc_score_4)"
      ],
      "execution_count": null,
      "outputs": [
        {
          "output_type": "stream",
          "text": [
            "0.5573769637406838 0.5278376918474244 0.574088075011544 0.5630963951627587\n"
          ],
          "name": "stdout"
        }
      ]
    },
    {
      "cell_type": "code",
      "metadata": {
        "colab": {
          "base_uri": "https://localhost:8080/",
          "height": 284
        },
        "id": "Yh-95Xb5vEqX",
        "outputId": "ad003970-4881-494f-dde9-37458cc48df7"
      },
      "source": [
        "x_axis = np.arange(4)\n",
        "y_axis = [roc_auc_score_2, roc_auc_score_1 ,roc_auc_score_3,roc_auc_score_4]\n",
        "plt.bar(x_axis, y_axis, width=0.4)\n",
        "plt.xticks(x_axis + 0.05/2., ( 'KNN Classifier', 'Naive bayes','Logistic Regression', 'SVM'))\n",
        "plt.ylabel('ROC AUC Scores')"
      ],
      "execution_count": null,
      "outputs": [
        {
          "output_type": "execute_result",
          "data": {
            "text/plain": [
              "Text(0, 0.5, 'ROC AUC Scores')"
            ]
          },
          "metadata": {
            "tags": []
          },
          "execution_count": 73
        },
        {
          "output_type": "display_data",
          "data": {
            "image/png": "[encoded data removed]",
            "text/plain": [
              "<Figure size 432x288 with 1 Axes>"
            ]
          },
          "metadata": {
            "tags": [],
            "needs_background": "light"
          }
        }
      ]
    }
  ]
}